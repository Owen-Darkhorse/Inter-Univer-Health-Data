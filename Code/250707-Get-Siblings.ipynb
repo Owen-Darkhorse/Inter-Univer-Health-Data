{
 "cells": [
  {
   "cell_type": "code",
   "execution_count": 4,
   "id": "9ba1f006",
   "metadata": {},
   "outputs": [
    {
     "ename": "NameError",
     "evalue": "name 'Pipeline' is not defined",
     "output_type": "error",
     "traceback": [
      "\u001b[31m---------------------------------------------------------------------------\u001b[39m",
      "\u001b[31mNameError\u001b[39m                                 Traceback (most recent call last)",
      "\u001b[36mCell\u001b[39m\u001b[36m \u001b[39m\u001b[32mIn[4]\u001b[39m\u001b[32m, line 3\u001b[39m\n\u001b[32m      1\u001b[39m \u001b[38;5;66;03m## Import Variables of Interest Saved in Pipleine/varList.py\u001b[39;00m\n\u001b[32m      2\u001b[39m \u001b[38;5;28;01mfrom\u001b[39;00m\u001b[38;5;250m \u001b[39m\u001b[34;01mPipeline\u001b[39;00m\u001b[34;01m.\u001b[39;00m\u001b[34;01mvarList\u001b[39;00m\u001b[38;5;250m \u001b[39m\u001b[38;5;28;01mimport\u001b[39;00m *\n\u001b[32m----> \u001b[39m\u001b[32m3\u001b[39m selectMetricforAll(\u001b[33m\"\u001b[39m\u001b[33mRwLIVSIB\u001b[39m\u001b[33m\"\u001b[39m, \u001b[43mPipeline\u001b[49m.varList.hrsColumns)\n",
      "\u001b[31mNameError\u001b[39m: name 'Pipeline' is not defined"
     ]
    }
   ],
   "source": [
    "## Import Variables of Interest Saved in Pipleine/varList.py\n",
    "from Pipeline.varList import *\n",
    "selectMetricforAll(\"RwLIVSIB\", Pipeline.varList.hrsColumns)"
   ]
  },
  {
   "cell_type": "code",
   "execution_count": 17,
   "id": "203c0b1e",
   "metadata": {},
   "outputs": [],
   "source": [
    "siblingCols = selectMetricforAll([\"R\\\\d+LIVSIB$\"], hrsColumns)"
   ]
  },
  {
   "cell_type": "code",
   "execution_count": 18,
   "id": "d52a63b3",
   "metadata": {},
   "outputs": [],
   "source": [
    "## Import Variales of Interest in every row\n",
    "from Pipeline.unPivot import *\n",
    "\n",
    "hrsFull = pr.pyreadstat.read_sas7bdat(\n",
    "    filename_path = \"../../Data/randhrs1992_2022v1.sas7bdat\",\n",
    "    usecols = siblingCols,\n",
    "    metadataonly = False\n",
    ")[0]"
   ]
  },
  {
   "cell_type": "code",
   "execution_count": null,
   "id": "7fcc5721",
   "metadata": {},
   "outputs": [],
   "source": [
    "livSiblings = hrsFull.melt(id_vars=[\"HHIDPN\"], \n",
    "                        value_vars=siblingCols[1:], \n",
    "                        var_name=\"Wave\", value_name=\"RwLIVSIB\")"
   ]
  },
  {
   "cell_type": "code",
   "execution_count": 29,
   "id": "856d27d0",
   "metadata": {},
   "outputs": [],
   "source": [
    "livSiblings.Wave = livSiblings.Wave.str.extract(r'(\\d+)').astype(int) \n",
    "livSiblings.to_csv(\"../Data/tempSiblings.csv\")"
   ]
  }
 ],
 "metadata": {
  "kernelspec": {
   "display_name": "Python 3",
   "language": "python",
   "name": "python3"
  },
  "language_info": {
   "codemirror_mode": {
    "name": "ipython",
    "version": 3
   },
   "file_extension": ".py",
   "mimetype": "text/x-python",
   "name": "python",
   "nbconvert_exporter": "python",
   "pygments_lexer": "ipython3",
   "version": "3.11.9"
  }
 },
 "nbformat": 4,
 "nbformat_minor": 5
}
