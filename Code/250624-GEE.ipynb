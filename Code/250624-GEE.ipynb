{
 "cells": [
  {
   "cell_type": "markdown",
   "id": "6586b5bc",
   "metadata": {},
   "source": []
  },
  {
   "cell_type": "code",
   "execution_count": 1,
   "id": "77985720",
   "metadata": {},
   "outputs": [
    {
     "data": {
      "text/plain": [
       "'c:\\\\Users\\\\86139\\\\Desktop\\\\PARA Note System\\\\Projects\\\\Inter-University Health Data\\\\2025-Inter-Univer-Health-Data\\\\Code'"
      ]
     },
     "execution_count": 1,
     "metadata": {},
     "output_type": "execute_result"
    }
   ],
   "source": [
    "import os\n",
    "\n",
    "os.getcwd()"
   ]
  },
  {
   "cell_type": "code",
   "execution_count": 2,
   "id": "e2fe1776",
   "metadata": {},
   "outputs": [],
   "source": [
    "import statsmodels.api as sm\n",
    "import statsmodels.formula.api as smf\n",
    "import pandas as pd\n",
    "import numpy as np\n",
    "\n",
    "hrsWave = pd.read_csv(\"../Data/hrsWaveCleaned.csv\")\n",
    "\n",
    "n = 1000\n",
    "hhidpn = np.random.choice(hrsWave[\"HHIDPN\"].unique(), size = n)\n",
    "idx = hrsWave[\"HHIDPN\"].isin(hhidpn)\n",
    "df = hrsWave.loc[idx, :]"
   ]
  },
  {
   "cell_type": "code",
   "execution_count": 12,
   "id": "b76502d2",
   "metadata": {},
   "outputs": [
    {
     "name": "stderr",
     "output_type": "stream",
     "text": [
      "C:\\Users\\86139\\AppData\\Local\\Temp\\ipykernel_14320\\3130134704.py:10: SettingWithCopyWarning: \n",
      "A value is trying to be set on a copy of a slice from a DataFrame.\n",
      "Try using .loc[row_indexer,col_indexer] = value instead\n",
      "\n",
      "See the caveats in the documentation: https://pandas.pydata.org/pandas-docs/stable/user_guide/indexing.html#returning-a-view-versus-a-copy\n",
      "  df['RwRecFail'] = n_trials - df['RwTR20']\n",
      "C:\\Users\\86139\\AppData\\Local\\Temp\\ipykernel_14320\\3130134704.py:15: SettingWithCopyWarning: \n",
      "A value is trying to be set on a copy of a slice from a DataFrame.\n",
      "Try using .loc[row_indexer,col_indexer] = value instead\n",
      "\n",
      "See the caveats in the documentation: https://pandas.pydata.org/pandas-docs/stable/user_guide/indexing.html#returning-a-view-versus-a-copy\n",
      "  df['RwRecProp'] = df['RwTR20'] / n_trials\n",
      "C:\\Users\\86139\\AppData\\Local\\Packages\\PythonSoftwareFoundation.Python.3.11_qbz5n2kfra8p0\\LocalCache\\local-packages\\Python311\\site-packages\\statsmodels\\genmod\\cov_struct.py:796: FutureWarning: grid=True will become default in a future version\n",
      "  warnings.warn(\n"
     ]
    }
   ],
   "source": [
    "# Assume your data is in a pandas DataFrame called 'df'\n",
    "# with columns: 'recall_score' (your outcome), 'age', 'job', 'HHIDPN' (subject ID)\n",
    "\n",
    "# 1. Define the Binomial family and logit link\n",
    "# The `Binomial` family in statsmodels assumes endog is proportions (e.g., successes/n_trials)\n",
    "# or a 2-column array where col 0 is successes and col 1 is failures.\n",
    "# Since your score is 0-20, you should pass it as a two-column array: [recall_score, 20 - recall_score]\n",
    "\n",
    "n_trials = 20\n",
    "df['RwRecFail'] = n_trials - df['RwTR20']\n",
    "\n",
    "# Create a 2-column array for endog if using the formula API with a non-standard endog\n",
    "# For GEE with Binomial, endog usually expects a proportion (successes/n_trials) or a (successes, total_trials) tuple/array\n",
    "# If using `smf.gee`, it's often more straightforward to define `endog` as proportion.\n",
    "df['RwRecProp'] = df['RwTR20'] / n_trials\n",
    "\n",
    "# 2. Define the exchangeable correlation structure\n",
    "exchangeable_corr = sm.cov_struct.Exchangeable()\n",
    "autoregress_corr = sm.cov_struct.Autoregressive()\n",
    "unstructure_corr = sm.cov_struct.CovStruct()\n",
    "\n",
    "\n",
    "# 3. Specify Full Model Formula\n",
    "formulaFull = \"RwRecProp ~ RwAGEM_B * C(RwJOCCSD, Treatment(reference='Retired'))\""
   ]
  },
  {
   "cell_type": "code",
   "execution_count": 13,
   "id": "cde0d95c",
   "metadata": {},
   "outputs": [
    {
     "ename": "NotImplementedError",
     "evalue": "",
     "output_type": "error",
     "traceback": [
      "\u001b[31m---------------------------------------------------------------------------\u001b[39m",
      "\u001b[31mNotImplementedError\u001b[39m                       Traceback (most recent call last)",
      "\u001b[36mCell\u001b[39m\u001b[36m \u001b[39m\u001b[32mIn[13]\u001b[39m\u001b[32m, line 17\u001b[39m\n\u001b[32m     15\u001b[39m resultsExch = modelExch.fit(cov_type=\u001b[33m\"\u001b[39m\u001b[33mrobust\u001b[39m\u001b[33m\"\u001b[39m)\n\u001b[32m     16\u001b[39m resultsAR = modelAR.fit(cov_type=\u001b[33m\"\u001b[39m\u001b[33mrobust\u001b[39m\u001b[33m\"\u001b[39m)\n\u001b[32m---> \u001b[39m\u001b[32m17\u001b[39m resultsUnstruct = \u001b[43mmodelUnstruct\u001b[49m\u001b[43m.\u001b[49m\u001b[43mfit\u001b[49m\u001b[43m(\u001b[49m\u001b[43mcov_type\u001b[49m\u001b[43m=\u001b[49m\u001b[33;43m\"\u001b[39;49m\u001b[33;43mrobust\u001b[39;49m\u001b[33;43m\"\u001b[39;49m\u001b[43m)\u001b[49m\n",
      "\u001b[36mFile \u001b[39m\u001b[32m~\\AppData\\Local\\Packages\\PythonSoftwareFoundation.Python.3.11_qbz5n2kfra8p0\\LocalCache\\local-packages\\Python311\\site-packages\\statsmodels\\genmod\\generalized_estimating_equations.py:1270\u001b[39m, in \u001b[36mGEE.fit\u001b[39m\u001b[34m(self, maxiter, ctol, start_params, params_niter, first_dep_update, cov_type, ddof_scale, scaling_factor, scale)\u001b[39m\n\u001b[32m   1267\u001b[39m num_assoc_updates = \u001b[32m0\u001b[39m\n\u001b[32m   1268\u001b[39m \u001b[38;5;28;01mfor\u001b[39;00m itr \u001b[38;5;129;01min\u001b[39;00m \u001b[38;5;28mrange\u001b[39m(maxiter):\n\u001b[32m-> \u001b[39m\u001b[32m1270\u001b[39m     update, score = \u001b[38;5;28;43mself\u001b[39;49m\u001b[43m.\u001b[49m\u001b[43m_update_mean_params\u001b[49m\u001b[43m(\u001b[49m\u001b[43m)\u001b[49m\n\u001b[32m   1271\u001b[39m     \u001b[38;5;28;01mif\u001b[39;00m update \u001b[38;5;129;01mis\u001b[39;00m \u001b[38;5;28;01mNone\u001b[39;00m:\n\u001b[32m   1272\u001b[39m         warnings.warn(\u001b[33m\"\u001b[39m\u001b[33mSingular matrix encountered in GEE update\u001b[39m\u001b[33m\"\u001b[39m,\n\u001b[32m   1273\u001b[39m                       ConvergenceWarning)\n",
      "\u001b[36mFile \u001b[39m\u001b[32m~\\AppData\\Local\\Packages\\PythonSoftwareFoundation.Python.3.11_qbz5n2kfra8p0\\LocalCache\\local-packages\\Python311\\site-packages\\statsmodels\\genmod\\generalized_estimating_equations.py:1061\u001b[39m, in \u001b[36mGEE._update_mean_params\u001b[39m\u001b[34m(self)\u001b[39m\n\u001b[32m   1058\u001b[39m     wresid = resid\n\u001b[32m   1059\u001b[39m     wdmat = dmat\n\u001b[32m-> \u001b[39m\u001b[32m1061\u001b[39m rslt = \u001b[38;5;28;43mself\u001b[39;49m\u001b[43m.\u001b[49m\u001b[43mcov_struct\u001b[49m\u001b[43m.\u001b[49m\u001b[43mcovariance_matrix_solve\u001b[49m\u001b[43m(\u001b[49m\n\u001b[32m   1062\u001b[39m \u001b[43m        \u001b[49m\u001b[43mexpval\u001b[49m\u001b[43m,\u001b[49m\u001b[43m \u001b[49m\u001b[43mi\u001b[49m\u001b[43m,\u001b[49m\u001b[43m \u001b[49m\u001b[43msdev\u001b[49m\u001b[43m,\u001b[49m\u001b[43m \u001b[49m\u001b[43m(\u001b[49m\u001b[43mwdmat\u001b[49m\u001b[43m,\u001b[49m\u001b[43m \u001b[49m\u001b[43mwresid\u001b[49m\u001b[43m)\u001b[49m\u001b[43m)\u001b[49m\n\u001b[32m   1063\u001b[39m \u001b[38;5;28;01mif\u001b[39;00m rslt \u001b[38;5;129;01mis\u001b[39;00m \u001b[38;5;28;01mNone\u001b[39;00m:\n\u001b[32m   1064\u001b[39m     \u001b[38;5;28;01mreturn\u001b[39;00m \u001b[38;5;28;01mNone\u001b[39;00m, \u001b[38;5;28;01mNone\u001b[39;00m\n",
      "\u001b[36mFile \u001b[39m\u001b[32m~\\AppData\\Local\\Packages\\PythonSoftwareFoundation.Python.3.11_qbz5n2kfra8p0\\LocalCache\\local-packages\\Python311\\site-packages\\statsmodels\\genmod\\cov_struct.py:151\u001b[39m, in \u001b[36mCovStruct.covariance_matrix_solve\u001b[39m\u001b[34m(self, expval, index, stdev, rhs)\u001b[39m\n\u001b[32m    104\u001b[39m \u001b[38;5;28;01mdef\u001b[39;00m\u001b[38;5;250m \u001b[39m\u001b[34mcovariance_matrix_solve\u001b[39m(\u001b[38;5;28mself\u001b[39m, expval, index, stdev, rhs):\n\u001b[32m    105\u001b[39m \u001b[38;5;250m    \u001b[39m\u001b[33;03m\"\"\"\u001b[39;00m\n\u001b[32m    106\u001b[39m \u001b[33;03m    Solves matrix equations of the form `covmat * soln = rhs` and\u001b[39;00m\n\u001b[32m    107\u001b[39m \u001b[33;03m    returns the values of `soln`, where `covmat` is the covariance\u001b[39;00m\n\u001b[32m   (...)\u001b[39m\u001b[32m    148\u001b[39m \u001b[33;03m    structure of the covariance matrix.\u001b[39;00m\n\u001b[32m    149\u001b[39m \u001b[33;03m    \"\"\"\u001b[39;00m\n\u001b[32m--> \u001b[39m\u001b[32m151\u001b[39m     vmat, is_cor = \u001b[38;5;28;43mself\u001b[39;49m\u001b[43m.\u001b[49m\u001b[43mcovariance_matrix\u001b[49m\u001b[43m(\u001b[49m\u001b[43mexpval\u001b[49m\u001b[43m,\u001b[49m\u001b[43m \u001b[49m\u001b[43mindex\u001b[49m\u001b[43m)\u001b[49m\n\u001b[32m    152\u001b[39m     \u001b[38;5;28;01mif\u001b[39;00m is_cor:\n\u001b[32m    153\u001b[39m         vmat *= np.outer(stdev, stdev)\n",
      "\u001b[36mFile \u001b[39m\u001b[32m~\\AppData\\Local\\Packages\\PythonSoftwareFoundation.Python.3.11_qbz5n2kfra8p0\\LocalCache\\local-packages\\Python311\\site-packages\\statsmodels\\genmod\\cov_struct.py:102\u001b[39m, in \u001b[36mCovStruct.covariance_matrix\u001b[39m\u001b[34m(self, endog_expval, index)\u001b[39m\n\u001b[32m     80\u001b[39m \u001b[38;5;28;01mdef\u001b[39;00m\u001b[38;5;250m \u001b[39m\u001b[34mcovariance_matrix\u001b[39m(\u001b[38;5;28mself\u001b[39m, endog_expval, index):\n\u001b[32m     81\u001b[39m \u001b[38;5;250m    \u001b[39m\u001b[33;03m\"\"\"\u001b[39;00m\n\u001b[32m     82\u001b[39m \u001b[33;03m    Returns the working covariance or correlation matrix for a\u001b[39;00m\n\u001b[32m     83\u001b[39m \u001b[33;03m    given cluster of data.\u001b[39;00m\n\u001b[32m   (...)\u001b[39m\u001b[32m    100\u001b[39m \u001b[33;03m        covariance matrix\u001b[39;00m\n\u001b[32m    101\u001b[39m \u001b[33;03m    \"\"\"\u001b[39;00m\n\u001b[32m--> \u001b[39m\u001b[32m102\u001b[39m     \u001b[38;5;28;01mraise\u001b[39;00m \u001b[38;5;167;01mNotImplementedError\u001b[39;00m\n",
      "\u001b[31mNotImplementedError\u001b[39m: "
     ]
    }
   ],
   "source": [
    "# 3. Fit the GEE model using the formula API with robust sandwich covariance matrix\n",
    "modelExch = smf.gee(formulaFull, groups=\"HHIDPN\", data=df,\n",
    "                cov_struct=exchangeable_corr,\n",
    "                family=sm.families.Binomial())\n",
    "\n",
    "modelAR = smf.gee(formulaFull, groups=\"HHIDPN\", data=df,\n",
    "                cov_struct=autoregress_corr,\n",
    "                family=sm.families.Binomial())\n",
    "\n",
    "modelUnstruct = smf.gee(formulaFull, groups=\"HHIDPN\", data=df,\n",
    "                cov_struct=unstructure_corr,\n",
    "                family=sm.families.Binomial())\n",
    "\n",
    "# Fit the model with robust covariance\n",
    "resultsExch = modelExch.fit(cov_type=\"robust\")\n",
    "resultsAR = modelAR.fit(cov_type=\"robust\")\n",
    "resultsUnstruct = modelUnstruct.fit(cov_type=\"robust\")"
   ]
  },
  {
   "cell_type": "code",
   "execution_count": 7,
   "id": "d97c2d86",
   "metadata": {},
   "outputs": [
    {
     "ename": "NameError",
     "evalue": "name 'summary' is not defined",
     "output_type": "error",
     "traceback": [
      "\u001b[31m---------------------------------------------------------------------------\u001b[39m",
      "\u001b[31mNameError\u001b[39m                                 Traceback (most recent call last)",
      "\u001b[36mCell\u001b[39m\u001b[36m \u001b[39m\u001b[32mIn[7]\u001b[39m\u001b[32m, line 1\u001b[39m\n\u001b[32m----> \u001b[39m\u001b[32m1\u001b[39m \u001b[43msummary\u001b[49m(modelExch)\n",
      "\u001b[31mNameError\u001b[39m: name 'summary' is not defined"
     ]
    }
   ],
   "source": [
    "import re\n",
    "import numpy as np\n",
    "\n",
    "def stepwise_selection_qic_forward(data, groups, cov_struct, family, start_formula, end_formula, verbose=True, qic_threshold=0):\n",
    "    \"\"\"\n",
    "    Perform forward stepwise feature selection based on QIC for GEE models.\n",
    "\n",
    "    Parameters:\n",
    "        data: pandas DataFrame\n",
    "        groups: str, column name for group/cluster\n",
    "        cov_struct: statsmodels covariance structure object\n",
    "        family: statsmodels family object (e.g., sm.families.Binomial())\n",
    "        start_formula: str, starting model formula (e.g., \"y ~ 1\")\n",
    "        end_formula: str, full model formula (e.g., \"y ~ x1 + x2 + x3\")\n",
    "        verbose: bool, print progress\n",
    "        qic_threshold: float, minimum QIC reduction required to add a variable (selection threshold)\n",
    "\n",
    "    Returns:\n",
    "        best_formula: str, formula of the best model found\n",
    "        best_result: fitted GEE result object\n",
    "        history: list of (formula, QIC)\n",
    "    \"\"\"\n",
    "    import statsmodels.formula.api as smf\n",
    "\n",
    "    def get_terms(formula):\n",
    "        rhs = formula.split('~')[1]\n",
    "        terms = [t.strip() for t in re.split(r'\\s*\\+\\s*', rhs) if t.strip() != '']\n",
    "        terms = [t for t in terms if t != '1']\n",
    "        return set(terms)\n",
    "\n",
    "    def build_formula(lhs, terms):\n",
    "        if not terms:\n",
    "            return f\"{lhs} ~ 1\"\n",
    "        return f\"{lhs} ~ {' + '.join(sorted(terms))}\"\n",
    "\n",
    "    def calc_qic(result):\n",
    "        try:\n",
    "            return result.qic()\n",
    "        except Exception:\n",
    "            return np.nan\n",
    "\n",
    "    lhs = start_formula.split('~')[0].strip()\n",
    "    start_terms = get_terms(start_formula)\n",
    "    end_terms = get_terms(end_formula)\n",
    "    current_terms = set(start_terms)\n",
    "    history = []\n",
    "\n",
    "    # Fit initial model\n",
    "    current_formula = build_formula(lhs, current_terms)\n",
    "    model = smf.gee(current_formula, groups=groups, data=data, cov_struct=cov_struct, family=family)\n",
    "    result = model.fit(cov_type=\"robust\")\n",
    "    best_qic = calc_qic(result)\n",
    "    best_formula = current_formula\n",
    "    best_result = result\n",
    "    history.append((current_formula, best_qic))\n",
    "\n",
    "    improved = True\n",
    "    while improved:\n",
    "        improved = False\n",
    "        qic_candidates = []\n",
    "        formulas = []\n",
    "        term_changes = []\n",
    "\n",
    "        for term in sorted(end_terms - current_terms):\n",
    "            new_terms = current_terms | {term}\n",
    "            formula = build_formula(lhs, new_terms)\n",
    "            try:\n",
    "                model = smf.gee(formula, groups=groups, data=data, cov_struct=cov_struct, family=family)\n",
    "                result = model.fit(cov_type=\"robust\")\n",
    "                qic = calc_qic(result)\n",
    "            except Exception:\n",
    "                qic = np.nan\n",
    "            qic_candidates.append(qic)\n",
    "            formulas.append(formula)\n",
    "            term_changes.append(term)\n",
    "\n",
    "        if qic_candidates:\n",
    "            min_idx = np.nanargmin(qic_candidates)\n",
    "            min_qic = qic_candidates[min_idx]\n",
    "            # Selection threshold is checked here:\n",
    "            if (best_qic - min_qic) > qic_threshold:\n",
    "                improved = True\n",
    "                best_qic = min_qic\n",
    "                best_formula = formulas[min_idx]\n",
    "                current_terms.add(term_changes[min_idx])\n",
    "                model = smf.gee(best_formula, groups=groups, data=data, cov_struct=cov_struct, family=family)\n",
    "                best_result = model.fit(cov_type=\"robust\")\n",
    "                history.append((best_formula, best_qic))\n",
    "                if verbose:\n",
    "                    print(f\"Step: forward, QIC: {best_qic:.2f}, Formula: {best_formula}\")\n",
    "            else:\n",
    "                if verbose:\n",
    "                    print(\"No QIC improvement above threshold, stopping.\")\n",
    "        else:\n",
    "            if verbose:\n",
    "                print(\"No candidates left, stopping.\")\n",
    "\n",
    "    return best_formula, best_result, history\n"
   ]
  },
  {
   "cell_type": "code",
   "execution_count": null,
   "id": "b74fde3b",
   "metadata": {},
   "outputs": [],
   "source": [
    "# Calculate QIC for each model as a measure of goodness of fit\n",
    "def calc_qic(model_result):\n",
    "    # QIC = -2 * quasi-likelihood + 2 * trace(V_hat^-1 * V_model)\n",
    "    # statsmodels does not provide QIC directly, but we can use qic() if available\n",
    "    try:\n",
    "        return model_result.qic()\n",
    "    except AttributeError:\n",
    "        return np.nan\n",
    "\n",
    "qic_exch = calc_qic(resultsExch)\n",
    "qic_ar = calc_qic(resultsAR)\n",
    "qic_unstruct = calc_qic(resultsUnstruct)\n",
    "\n",
    "print(f\"QIC (Exchangeable): {qic_exch}\")\n",
    "print(f\"QIC (Autoregressive): {qic_ar}\")\n",
    "print(f\"QIC (Unstructured): {qic_unstruct}\")"
   ]
  },
  {
   "cell_type": "code",
   "execution_count": null,
   "id": "c20f25a6",
   "metadata": {},
   "outputs": [],
   "source": [
    "# Retrieve the covariance matrices of the fitted GEE models\n",
    "cov_exch = resultsExch.cov_params()\n",
    "cov_ar = resultsAR.cov_params()\n",
    "cov_unstruct = resultsUnstruct.cov_params()\n",
    "\n",
    "print(\"Covariance matrix (Exchangeable):\\n\", cov_exch)\n",
    "print(\"\\nCovariance matrix (Autoregressive):\\n\", cov_ar)\n",
    "print(\"\\nCovariance matrix (Unstructured):\\n\", cov_unstruct)"
   ]
  },
  {
   "cell_type": "code",
   "execution_count": null,
   "id": "356263bc",
   "metadata": {},
   "outputs": [],
   "source": []
  }
 ],
 "metadata": {
  "kernelspec": {
   "display_name": "Python 3",
   "language": "python",
   "name": "python3"
  },
  "language_info": {
   "codemirror_mode": {
    "name": "ipython",
    "version": 3
   },
   "file_extension": ".py",
   "mimetype": "text/x-python",
   "name": "python",
   "nbconvert_exporter": "python",
   "pygments_lexer": "ipython3",
   "version": "3.11.9"
  }
 },
 "nbformat": 4,
 "nbformat_minor": 5
}
