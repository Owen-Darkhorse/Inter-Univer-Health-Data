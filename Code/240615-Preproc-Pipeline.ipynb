{
 "cells": [
  {
   "cell_type": "markdown",
   "id": "3e814484",
   "metadata": {},
   "source": [
    "In this file, we will extract variables of interests and control variables that will be use for building the risk table of cognitive decline in different occupation subgroups."
   ]
  },
  {
   "cell_type": "code",
   "execution_count": 1,
   "id": "0dd3e680",
   "metadata": {},
   "outputs": [],
   "source": [
    "## Scientific Computing with Python\n",
    "import pyreadstat as pr\n",
    "import pandas as pd\n",
    "import numpy as np\n",
    "\n",
    "## Plotting Libraries\n",
    "import matplotlib.pyplot as plt\n",
    "import seaborn as sns\n",
    "\n",
    "## Machine Learning Libraries\n",
    "from sklearn.model_selection import train_test_split\n",
    "from sklearn.metrics import mean_squared_error, mean_absolute_error, r2_score\n",
    "from sklearn.feature_extraction.text import TfidfVectorizer\n",
    "\n",
    "## File dirtectory\n",
    "import os\n",
    "import gc"
   ]
  },
  {
   "cell_type": "markdown",
   "id": "4cc278be",
   "metadata": {},
   "source": [
    "# 1. Read the Data and Extract Columns of Interests"
   ]
  },
  {
   "cell_type": "code",
   "execution_count": 2,
   "id": "e5ddc305",
   "metadata": {},
   "outputs": [],
   "source": [
    "## Import Variables of Interest Saved in Pipleine/varList.py\n",
    "import Pipeline.varList\n",
    "varComplete = Pipeline.varList.varComplete\n",
    "varInterest = Pipeline.varList.interestVars"
   ]
  },
  {
   "cell_type": "code",
   "execution_count": 4,
   "id": "6f8b1fe4",
   "metadata": {},
   "outputs": [],
   "source": [
    "## Import Variales of Interest in every row\n",
    "from Pipeline.unPivot import *\n",
    "\n",
    "hrsFull = pr.pyreadstat.read_sas7bdat(\n",
    "    filename_path = \"../../Data/randhrs1992_2022v1.sas7bdat\",\n",
    "    usecols = varComplete,\n",
    "    metadataonly = False\n",
    ")[0]"
   ]
  },
  {
   "cell_type": "code",
   "execution_count": 5,
   "id": "4dc58420",
   "metadata": {},
   "outputs": [
    {
     "name": "stderr",
     "output_type": "stream",
     "text": [
      "c:\\Users\\86139\\Desktop\\PARA Note System\\Projects\\Inter-University Health Data\\2025-Inter-Univer-Health-Data\\Code\\Pipeline\\unPivot.py:88: SettingWithCopyWarning: \n",
      "A value is trying to be set on a copy of a slice from a DataFrame\n",
      "\n",
      "See the caveats in the documentation: https://pandas.pydata.org/pandas-docs/stable/user_guide/indexing.html#returning-a-view-versus-a-copy\n",
      "  targetDf.dropna(axis = 0, how = \"all\", inplace = True)\n"
     ]
    }
   ],
   "source": [
    "## Convert to Wide Format\n",
    "import Pipeline.unPivot as up\n",
    "\n",
    "# Convert to long Format\n",
    "fileNameAll = \"../Data/joinedHRSALL.csv\"\n",
    "fileNameWave = \"../Data/joinedHRSWAVE.csv\"\n",
    "up.unPivotSelectedVars(hrsFull, varInterest, fileNameAll, fileNameWave, idCol=\"HHIDPN\")"
   ]
  },
  {
   "cell_type": "code",
   "execution_count": 6,
   "id": "91d1f179",
   "metadata": {},
   "outputs": [
    {
     "data": {
      "text/plain": [
       "20"
      ]
     },
     "execution_count": 6,
     "metadata": {},
     "output_type": "execute_result"
    }
   ],
   "source": [
    "del hrsFull\n",
    "gc.collect()"
   ]
  },
  {
   "cell_type": "markdown",
   "id": "b227650d",
   "metadata": {},
   "source": [
    "# 2. Data Cleaning"
   ]
  },
  {
   "cell_type": "code",
   "execution_count": 7,
   "id": "81e8e5f4",
   "metadata": {},
   "outputs": [],
   "source": [
    "from Pipeline.cleanVarGroups import hrsSet\n",
    "from Pipeline.varList import *\n",
    "\n",
    "fileNameAll = \"../Data/joinedHRSALL.csv\"\n",
    "fileNameWave = \"../Data/joinedHRSWAVE.csv\"\n",
    "## Import long format data\n",
    "hrsAll = pd.read_csv(fileNameAll, low_memory=False)\n",
    "hrsWave = pd.read_csv(fileNameWave, low_memory=False)\n",
    "hrsCombo = hrsSet(hrsAll, hrsWave) ## Creat the hrsCombo class"
   ]
  },
  {
   "cell_type": "markdown",
   "id": "4d28958f",
   "metadata": {},
   "source": [
    "## 2.1 Subset Rows with non-null important columns"
   ]
  },
  {
   "cell_type": "code",
   "execution_count": 8,
   "id": "3ee1c5bb",
   "metadata": {},
   "outputs": [
    {
     "name": "stdout",
     "output_type": "stream",
     "text": [
      "(145625, 54)\n"
     ]
    },
    {
     "data": {
      "text/plain": [
       "31"
      ]
     },
     "execution_count": 8,
     "metadata": {},
     "output_type": "execute_result"
    }
   ],
   "source": [
    "## Extract rows with non-null repesonse\n",
    "hrsCombo = hrsSet(hrsAll, hrsWave)\n",
    "hrsCombo.extractNonNull(\"all\")\n",
    "print(hrsCombo.Wave.shape)\n",
    "\n",
    "gc.collect()"
   ]
  },
  {
   "cell_type": "markdown",
   "id": "b6129ba0",
   "metadata": {},
   "source": [
    "## 2.2 Combining Cluttered Columns"
   ]
  },
  {
   "cell_type": "code",
   "execution_count": 15,
   "id": "1addd36c",
   "metadata": {},
   "outputs": [
    {
     "data": {
      "text/plain": [
       "44"
      ]
     },
     "execution_count": 15,
     "metadata": {},
     "output_type": "execute_result"
    }
   ],
   "source": [
    "len(hrsCombo.Wave.columns)"
   ]
  },
  {
   "cell_type": "code",
   "execution_count": null,
   "id": "b3140cc3",
   "metadata": {},
   "outputs": [
    {
     "name": "stderr",
     "output_type": "stream",
     "text": [
      "c:\\Users\\86139\\Desktop\\PARA Note System\\Projects\\Inter-University Health Data\\2025-Inter-Univer-Health-Data\\Code\\Pipeline\\cleanVarGroups.py:112: SettingWithCopyWarning: \n",
      "A value is trying to be set on a copy of a slice from a DataFrame.\n",
      "Try using .loc[row_indexer,col_indexer] = value instead\n",
      "\n",
      "See the caveats in the documentation: https://pandas.pydata.org/pandas-docs/stable/user_guide/indexing.html#returning-a-view-versus-a-copy\n",
      "  self.Wave[newColName] = self.Wave[colList].any(axis=1)\n",
      "c:\\Users\\86139\\Desktop\\PARA Note System\\Projects\\Inter-University Health Data\\2025-Inter-Univer-Health-Data\\Code\\Pipeline\\cleanVarGroups.py:116: SettingWithCopyWarning: \n",
      "A value is trying to be set on a copy of a slice from a DataFrame\n",
      "\n",
      "See the caveats in the documentation: https://pandas.pydata.org/pandas-docs/stable/user_guide/indexing.html#returning-a-view-versus-a-copy\n",
      "  self.Wave.drop(columns = colList, inplace = True)\n",
      "c:\\Users\\86139\\Desktop\\PARA Note System\\Projects\\Inter-University Health Data\\2025-Inter-Univer-Health-Data\\Code\\Pipeline\\cleanVarGroups.py:112: SettingWithCopyWarning: \n",
      "A value is trying to be set on a copy of a slice from a DataFrame.\n",
      "Try using .loc[row_indexer,col_indexer] = value instead\n",
      "\n",
      "See the caveats in the documentation: https://pandas.pydata.org/pandas-docs/stable/user_guide/indexing.html#returning-a-view-versus-a-copy\n",
      "  self.Wave[newColName] = self.Wave[colList].any(axis=1)\n",
      "c:\\Users\\86139\\Desktop\\PARA Note System\\Projects\\Inter-University Health Data\\2025-Inter-Univer-Health-Data\\Code\\Pipeline\\cleanVarGroups.py:116: SettingWithCopyWarning: \n",
      "A value is trying to be set on a copy of a slice from a DataFrame\n",
      "\n",
      "See the caveats in the documentation: https://pandas.pydata.org/pandas-docs/stable/user_guide/indexing.html#returning-a-view-versus-a-copy\n",
      "  self.Wave.drop(columns = colList, inplace = True)\n"
     ]
    },
    {
     "ename": "KeyError",
     "evalue": "\"['RwWALKR', 'RwDRESS', 'RwBATH', 'RwEAT', 'RwBED', 'RwTOILT', 'RwMEALS', 'RwMAP', 'RwPHONE', 'RwMONEY', 'RwMEDS', 'RwSHOP'] not found in axis\"",
     "output_type": "error",
     "traceback": [
      "\u001b[31m---------------------------------------------------------------------------\u001b[39m",
      "\u001b[31mKeyError\u001b[39m                                  Traceback (most recent call last)",
      "\u001b[36mCell\u001b[39m\u001b[36m \u001b[39m\u001b[32mIn[11]\u001b[39m\u001b[32m, line 19\u001b[39m\n\u001b[32m     17\u001b[39m hrsCombo.combineColumns(\u001b[33m\"\u001b[39m\u001b[33mRwPhyLim\u001b[39m\u001b[33m\"\u001b[39m, physicalLimitVars, method = \u001b[33m\"\u001b[39m\u001b[33many\u001b[39m\u001b[33m\"\u001b[39m)\n\u001b[32m     18\u001b[39m hrsCombo.combineColumns(\u001b[33m\"\u001b[39m\u001b[33mRwCogLim\u001b[39m\u001b[33m\"\u001b[39m, cognLimitVars, method = \u001b[33m\"\u001b[39m\u001b[33many\u001b[39m\u001b[33m\"\u001b[39m)\n\u001b[32m---> \u001b[39m\u001b[32m19\u001b[39m \u001b[43mhrsCombo\u001b[49m\u001b[43m.\u001b[49m\u001b[43mWave\u001b[49m\u001b[43m.\u001b[49m\u001b[43mdrop\u001b[49m\u001b[43m(\u001b[49m\u001b[43mphysicalLimitVars\u001b[49m\u001b[43m \u001b[49m\u001b[43m+\u001b[49m\u001b[43m \u001b[49m\u001b[43mcognLimitVars\u001b[49m\u001b[43m,\u001b[49m\u001b[43m \u001b[49m\u001b[43minplace\u001b[49m\u001b[43m=\u001b[49m\u001b[38;5;28;43;01mTrue\u001b[39;49;00m\u001b[43m)\u001b[49m\n",
      "\u001b[36mFile \u001b[39m\u001b[32m~\\AppData\\Local\\Packages\\PythonSoftwareFoundation.Python.3.11_qbz5n2kfra8p0\\LocalCache\\local-packages\\Python311\\site-packages\\pandas\\core\\frame.py:5581\u001b[39m, in \u001b[36mDataFrame.drop\u001b[39m\u001b[34m(self, labels, axis, index, columns, level, inplace, errors)\u001b[39m\n\u001b[32m   5433\u001b[39m \u001b[38;5;28;01mdef\u001b[39;00m\u001b[38;5;250m \u001b[39m\u001b[34mdrop\u001b[39m(\n\u001b[32m   5434\u001b[39m     \u001b[38;5;28mself\u001b[39m,\n\u001b[32m   5435\u001b[39m     labels: IndexLabel | \u001b[38;5;28;01mNone\u001b[39;00m = \u001b[38;5;28;01mNone\u001b[39;00m,\n\u001b[32m   (...)\u001b[39m\u001b[32m   5442\u001b[39m     errors: IgnoreRaise = \u001b[33m\"\u001b[39m\u001b[33mraise\u001b[39m\u001b[33m\"\u001b[39m,\n\u001b[32m   5443\u001b[39m ) -> DataFrame | \u001b[38;5;28;01mNone\u001b[39;00m:\n\u001b[32m   5444\u001b[39m \u001b[38;5;250m    \u001b[39m\u001b[33;03m\"\"\"\u001b[39;00m\n\u001b[32m   5445\u001b[39m \u001b[33;03m    Drop specified labels from rows or columns.\u001b[39;00m\n\u001b[32m   5446\u001b[39m \n\u001b[32m   (...)\u001b[39m\u001b[32m   5579\u001b[39m \u001b[33;03m            weight  1.0     0.8\u001b[39;00m\n\u001b[32m   5580\u001b[39m \u001b[33;03m    \"\"\"\u001b[39;00m\n\u001b[32m-> \u001b[39m\u001b[32m5581\u001b[39m     \u001b[38;5;28;01mreturn\u001b[39;00m \u001b[38;5;28;43msuper\u001b[39;49m\u001b[43m(\u001b[49m\u001b[43m)\u001b[49m\u001b[43m.\u001b[49m\u001b[43mdrop\u001b[49m\u001b[43m(\u001b[49m\n\u001b[32m   5582\u001b[39m \u001b[43m        \u001b[49m\u001b[43mlabels\u001b[49m\u001b[43m=\u001b[49m\u001b[43mlabels\u001b[49m\u001b[43m,\u001b[49m\n\u001b[32m   5583\u001b[39m \u001b[43m        \u001b[49m\u001b[43maxis\u001b[49m\u001b[43m=\u001b[49m\u001b[43maxis\u001b[49m\u001b[43m,\u001b[49m\n\u001b[32m   5584\u001b[39m \u001b[43m        \u001b[49m\u001b[43mindex\u001b[49m\u001b[43m=\u001b[49m\u001b[43mindex\u001b[49m\u001b[43m,\u001b[49m\n\u001b[32m   5585\u001b[39m \u001b[43m        \u001b[49m\u001b[43mcolumns\u001b[49m\u001b[43m=\u001b[49m\u001b[43mcolumns\u001b[49m\u001b[43m,\u001b[49m\n\u001b[32m   5586\u001b[39m \u001b[43m        \u001b[49m\u001b[43mlevel\u001b[49m\u001b[43m=\u001b[49m\u001b[43mlevel\u001b[49m\u001b[43m,\u001b[49m\n\u001b[32m   5587\u001b[39m \u001b[43m        \u001b[49m\u001b[43minplace\u001b[49m\u001b[43m=\u001b[49m\u001b[43minplace\u001b[49m\u001b[43m,\u001b[49m\n\u001b[32m   5588\u001b[39m \u001b[43m        \u001b[49m\u001b[43merrors\u001b[49m\u001b[43m=\u001b[49m\u001b[43merrors\u001b[49m\u001b[43m,\u001b[49m\n\u001b[32m   5589\u001b[39m \u001b[43m    \u001b[49m\u001b[43m)\u001b[49m\n",
      "\u001b[36mFile \u001b[39m\u001b[32m~\\AppData\\Local\\Packages\\PythonSoftwareFoundation.Python.3.11_qbz5n2kfra8p0\\LocalCache\\local-packages\\Python311\\site-packages\\pandas\\core\\generic.py:4788\u001b[39m, in \u001b[36mNDFrame.drop\u001b[39m\u001b[34m(self, labels, axis, index, columns, level, inplace, errors)\u001b[39m\n\u001b[32m   4786\u001b[39m \u001b[38;5;28;01mfor\u001b[39;00m axis, labels \u001b[38;5;129;01min\u001b[39;00m axes.items():\n\u001b[32m   4787\u001b[39m     \u001b[38;5;28;01mif\u001b[39;00m labels \u001b[38;5;129;01mis\u001b[39;00m \u001b[38;5;129;01mnot\u001b[39;00m \u001b[38;5;28;01mNone\u001b[39;00m:\n\u001b[32m-> \u001b[39m\u001b[32m4788\u001b[39m         obj = \u001b[43mobj\u001b[49m\u001b[43m.\u001b[49m\u001b[43m_drop_axis\u001b[49m\u001b[43m(\u001b[49m\u001b[43mlabels\u001b[49m\u001b[43m,\u001b[49m\u001b[43m \u001b[49m\u001b[43maxis\u001b[49m\u001b[43m,\u001b[49m\u001b[43m \u001b[49m\u001b[43mlevel\u001b[49m\u001b[43m=\u001b[49m\u001b[43mlevel\u001b[49m\u001b[43m,\u001b[49m\u001b[43m \u001b[49m\u001b[43merrors\u001b[49m\u001b[43m=\u001b[49m\u001b[43merrors\u001b[49m\u001b[43m)\u001b[49m\n\u001b[32m   4790\u001b[39m \u001b[38;5;28;01mif\u001b[39;00m inplace:\n\u001b[32m   4791\u001b[39m     \u001b[38;5;28mself\u001b[39m._update_inplace(obj)\n",
      "\u001b[36mFile \u001b[39m\u001b[32m~\\AppData\\Local\\Packages\\PythonSoftwareFoundation.Python.3.11_qbz5n2kfra8p0\\LocalCache\\local-packages\\Python311\\site-packages\\pandas\\core\\generic.py:4830\u001b[39m, in \u001b[36mNDFrame._drop_axis\u001b[39m\u001b[34m(self, labels, axis, level, errors, only_slice)\u001b[39m\n\u001b[32m   4828\u001b[39m         new_axis = axis.drop(labels, level=level, errors=errors)\n\u001b[32m   4829\u001b[39m     \u001b[38;5;28;01melse\u001b[39;00m:\n\u001b[32m-> \u001b[39m\u001b[32m4830\u001b[39m         new_axis = \u001b[43maxis\u001b[49m\u001b[43m.\u001b[49m\u001b[43mdrop\u001b[49m\u001b[43m(\u001b[49m\u001b[43mlabels\u001b[49m\u001b[43m,\u001b[49m\u001b[43m \u001b[49m\u001b[43merrors\u001b[49m\u001b[43m=\u001b[49m\u001b[43merrors\u001b[49m\u001b[43m)\u001b[49m\n\u001b[32m   4831\u001b[39m     indexer = axis.get_indexer(new_axis)\n\u001b[32m   4833\u001b[39m \u001b[38;5;66;03m# Case for non-unique axis\u001b[39;00m\n\u001b[32m   4834\u001b[39m \u001b[38;5;28;01melse\u001b[39;00m:\n",
      "\u001b[36mFile \u001b[39m\u001b[32m~\\AppData\\Local\\Packages\\PythonSoftwareFoundation.Python.3.11_qbz5n2kfra8p0\\LocalCache\\local-packages\\Python311\\site-packages\\pandas\\core\\indexes\\base.py:7070\u001b[39m, in \u001b[36mIndex.drop\u001b[39m\u001b[34m(self, labels, errors)\u001b[39m\n\u001b[32m   7068\u001b[39m \u001b[38;5;28;01mif\u001b[39;00m mask.any():\n\u001b[32m   7069\u001b[39m     \u001b[38;5;28;01mif\u001b[39;00m errors != \u001b[33m\"\u001b[39m\u001b[33mignore\u001b[39m\u001b[33m\"\u001b[39m:\n\u001b[32m-> \u001b[39m\u001b[32m7070\u001b[39m         \u001b[38;5;28;01mraise\u001b[39;00m \u001b[38;5;167;01mKeyError\u001b[39;00m(\u001b[33mf\u001b[39m\u001b[33m\"\u001b[39m\u001b[38;5;132;01m{\u001b[39;00mlabels[mask].tolist()\u001b[38;5;132;01m}\u001b[39;00m\u001b[33m not found in axis\u001b[39m\u001b[33m\"\u001b[39m)\n\u001b[32m   7071\u001b[39m     indexer = indexer[~mask]\n\u001b[32m   7072\u001b[39m \u001b[38;5;28;01mreturn\u001b[39;00m \u001b[38;5;28mself\u001b[39m.delete(indexer)\n",
      "\u001b[31mKeyError\u001b[39m: \"['RwWALKR', 'RwDRESS', 'RwBATH', 'RwEAT', 'RwBED', 'RwTOILT', 'RwMEALS', 'RwMAP', 'RwPHONE', 'RwMONEY', 'RwMEDS', 'RwSHOP'] not found in axis\""
     ]
    }
   ],
   "source": [
    "## Combining functional limitation variables\n",
    "physicalLimitVars = [\n",
    "    \"RwWALKR\", # Diff-Walk across room. p878,905 [catgeorical variable]\n",
    "    \"RwDRESS\", # Diff-Dressing. p883 [catgeorical variable]\n",
    "    \"RwBATH\", # Diff-Bathing or showering. p887 [catgeorical variable]\n",
    "    \"RwEAT\", # Diff-Eating. p891 [catgeorical variable]\n",
    "    \"RwBED\", # Diff-Get in/out of bed. p895 [catgeorical variable]\n",
    "    \"RwTOILT\", #Diff-Using the toilet. p900 [catgeorical variable]\n",
    "    \"RwMEALS\"]\n",
    "\n",
    "cognLimitVars = [\"RwMAP\", # Diff-Use a map. p950 [catgeorical variable]\n",
    "    \"RwPHONE\", # Diff-Use telephone(no data for wave 1 but good for wave 2 to 16) p954 [catgeorical variable]\n",
    "    \"RwMONEY\", # Diff-Managing money(no data for wave 1 but good for wave 2 to 16) p958 [catgeorical variable]\n",
    "    \"RwMEDS\", # Diff-Take medications(no data for wave 1 but good for wave 2 to 16) p961 [catgeorical variable]\n",
    "    \"RwSHOP\"]\n",
    "\n",
    "hrsCombo.combineColumns(\"RwPhyLim\", physicalLimitVars, method = \"any\")\n",
    "hrsCombo.combineColumns(\"RwCogLim\", cognLimitVars, method = \"any\")\n",
    "hrsCombo.Wave.drop(physicalLimitVars + cognLimitVars, inplace=True)"
   ]
  },
  {
   "cell_type": "code",
   "execution_count": 16,
   "id": "49ee930c",
   "metadata": {},
   "outputs": [
    {
     "data": {
      "text/html": [
       "<div>\n",
       "<style scoped>\n",
       "    .dataframe tbody tr th:only-of-type {\n",
       "        vertical-align: middle;\n",
       "    }\n",
       "\n",
       "    .dataframe tbody tr th {\n",
       "        vertical-align: top;\n",
       "    }\n",
       "\n",
       "    .dataframe thead th {\n",
       "        text-align: right;\n",
       "    }\n",
       "</style>\n",
       "<table border=\"1\" class=\"dataframe\">\n",
       "  <thead>\n",
       "    <tr style=\"text-align: right;\">\n",
       "      <th></th>\n",
       "      <th>RwPhyLim</th>\n",
       "      <th>RwCogLim</th>\n",
       "    </tr>\n",
       "  </thead>\n",
       "  <tbody>\n",
       "    <tr>\n",
       "      <th>18</th>\n",
       "      <td>False</td>\n",
       "      <td>True</td>\n",
       "    </tr>\n",
       "    <tr>\n",
       "      <th>20</th>\n",
       "      <td>False</td>\n",
       "      <td>True</td>\n",
       "    </tr>\n",
       "    <tr>\n",
       "      <th>34</th>\n",
       "      <td>False</td>\n",
       "      <td>False</td>\n",
       "    </tr>\n",
       "    <tr>\n",
       "      <th>37</th>\n",
       "      <td>False</td>\n",
       "      <td>False</td>\n",
       "    </tr>\n",
       "    <tr>\n",
       "      <th>38</th>\n",
       "      <td>False</td>\n",
       "      <td>False</td>\n",
       "    </tr>\n",
       "    <tr>\n",
       "      <th>39</th>\n",
       "      <td>False</td>\n",
       "      <td>False</td>\n",
       "    </tr>\n",
       "    <tr>\n",
       "      <th>40</th>\n",
       "      <td>False</td>\n",
       "      <td>False</td>\n",
       "    </tr>\n",
       "    <tr>\n",
       "      <th>41</th>\n",
       "      <td>False</td>\n",
       "      <td>False</td>\n",
       "    </tr>\n",
       "    <tr>\n",
       "      <th>42</th>\n",
       "      <td>True</td>\n",
       "      <td>False</td>\n",
       "    </tr>\n",
       "    <tr>\n",
       "      <th>50</th>\n",
       "      <td>False</td>\n",
       "      <td>False</td>\n",
       "    </tr>\n",
       "    <tr>\n",
       "      <th>54</th>\n",
       "      <td>False</td>\n",
       "      <td>False</td>\n",
       "    </tr>\n",
       "    <tr>\n",
       "      <th>55</th>\n",
       "      <td>False</td>\n",
       "      <td>False</td>\n",
       "    </tr>\n",
       "    <tr>\n",
       "      <th>56</th>\n",
       "      <td>False</td>\n",
       "      <td>False</td>\n",
       "    </tr>\n",
       "    <tr>\n",
       "      <th>57</th>\n",
       "      <td>True</td>\n",
       "      <td>False</td>\n",
       "    </tr>\n",
       "    <tr>\n",
       "      <th>58</th>\n",
       "      <td>False</td>\n",
       "      <td>False</td>\n",
       "    </tr>\n",
       "    <tr>\n",
       "      <th>59</th>\n",
       "      <td>True</td>\n",
       "      <td>True</td>\n",
       "    </tr>\n",
       "    <tr>\n",
       "      <th>66</th>\n",
       "      <td>False</td>\n",
       "      <td>True</td>\n",
       "    </tr>\n",
       "    <tr>\n",
       "      <th>71</th>\n",
       "      <td>False</td>\n",
       "      <td>False</td>\n",
       "    </tr>\n",
       "    <tr>\n",
       "      <th>72</th>\n",
       "      <td>False</td>\n",
       "      <td>False</td>\n",
       "    </tr>\n",
       "    <tr>\n",
       "      <th>73</th>\n",
       "      <td>False</td>\n",
       "      <td>False</td>\n",
       "    </tr>\n",
       "  </tbody>\n",
       "</table>\n",
       "</div>"
      ],
      "text/plain": [
       "    RwPhyLim  RwCogLim\n",
       "18     False      True\n",
       "20     False      True\n",
       "34     False     False\n",
       "37     False     False\n",
       "38     False     False\n",
       "39     False     False\n",
       "40     False     False\n",
       "41     False     False\n",
       "42      True     False\n",
       "50     False     False\n",
       "54     False     False\n",
       "55     False     False\n",
       "56     False     False\n",
       "57      True     False\n",
       "58     False     False\n",
       "59      True      True\n",
       "66     False      True\n",
       "71     False     False\n",
       "72     False     False\n",
       "73     False     False"
      ]
     },
     "execution_count": 16,
     "metadata": {},
     "output_type": "execute_result"
    }
   ],
   "source": [
    "hrsCombo.Wave[[\"RwPhyLim\", \"RwCogLim\"]].head(20)"
   ]
  },
  {
   "cell_type": "markdown",
   "id": "05405f99",
   "metadata": {},
   "source": [
    "## 2.2 Basic Preprocessing-----Scaling, Astype, Mapping"
   ]
  },
  {
   "cell_type": "code",
   "execution_count": null,
   "id": "eb0561c0",
   "metadata": {},
   "outputs": [
    {
     "name": "stderr",
     "output_type": "stream",
     "text": [
      "c:\\Users\\86139\\Desktop\\PARA Note System\\Projects\\Inter-University Health Data\\2025-Inter-Univer-Health-Data\\Code\\Pipeline\\cleanVarGroups.py:62: SettingWithCopyWarning: \n",
      "A value is trying to be set on a copy of a slice from a DataFrame.\n",
      "Try using .loc[row_indexer,col_indexer] = value instead\n",
      "\n",
      "See the caveats in the documentation: https://pandas.pydata.org/pandas-docs/stable/user_guide/indexing.html#returning-a-view-versus-a-copy\n",
      "  self.Wave[var] = self.Wave[var].astype(dtype)\n"
     ]
    }
   ],
   "source": [
    "# Log transform finance variables\n",
    "financeVars = financials\n",
    "hrsCombo.logFinance(financeVars)\n",
    "\n",
    "## Standardize years of age in \n",
    "ageVars = [\"RwAGEM_B\"]\n",
    "hrsCombo.standardizeAge(ageVars)\n",
    "\n",
    "# ## Recode sibling and children every born\n",
    "sibChildMapper = lambda x: 0 if x <= 3 else 1 if x <= 8 else 2 if x <= 13 else x\n",
    "hrsCombo.discretize(sibChildMapper, [\"RwLIVBRO\", \"RAEVBRN\"])\n",
    "\n",
    "# Recode work requirement variables\n",
    "workReqMapper = lambda x: 1 if x <= 2 else 0 if x <= 5 else x\n",
    "workReqList = [\"RwJPHYS\", \"RwJLIFT\",  \"RwJSTRES\", \"RwJSTOOP\", \"RwJSIGHT\"]\n",
    "hrsCombo.discretize(workReqMapper, workReqList)\n",
    "\n",
    "# Recode medical conditions\n",
    "medCondMapper = lambda x: 1 if x in [1, 3, 5] else  0 if x in [2,4,6] else x\n",
    "hrsCombo.discretize(medCondMapper, medicalConds)\n",
    "\n",
    "\n",
    "## Cast integer-valued variables to int\n",
    "intVars = [\"RwLIVBRO\", \"RAEVBRN\", \"RwAGE_B\", \"RwAGE_B2\", \"RwAGE_B3\"]\n",
    "hrsCombo.castType(intVars, \"category\")"
   ]
  },
  {
   "cell_type": "code",
   "execution_count": null,
   "id": "9d533878",
   "metadata": {},
   "outputs": [
    {
     "data": {
      "text/plain": [
       "<Axes: >"
      ]
     },
     "execution_count": 10,
     "metadata": {},
     "output_type": "execute_result"
    },
    {
     "data": {
      "image/png": "[encoded data removed]",
      "text/plain": [
       "<Figure size 640x480 with 3 Axes>"
      ]
     },
     "metadata": {},
     "output_type": "display_data"
    }
   ],
   "source": [
    "# hrsWave.describe()\n",
    "## Double check if financial variables are acquired and transformed corretly\n",
    " \n",
    "\n",
    "# hrsCombo.Wave[[\"HHIDPN\", \"Wave\"] + financeVars].head(20)\n",
    "# hrsWave[[\"HHIDPN\", \"Wave\"] + financeVars].head(20)\n",
    "\n",
    "# sns.histplot(hrsWave[financeVars[0]], kde=True, bins=50)\n",
    "\n",
    "# sns.heatmap(hrsWave[ageVars][0:10000].isnull(), annot=True, cmap='coolwarm', fmt='.2f')\n",
    "# sns.heatmap(hrsCombo.Wave[ageVars][0:10000].isnull(), annot=True, cmap='coolwarm', fmt='.2f')\n",
    "\n"
   ]
  },
  {
   "cell_type": "code",
   "execution_count": 19,
   "id": "4abe0fc2",
   "metadata": {},
   "outputs": [
    {
     "data": {
      "text/plain": [
       "18     0.0\n",
       "20     0.0\n",
       "34     1.0\n",
       "37     1.0\n",
       "38     NaN\n",
       "      ... \n",
       "279    NaN\n",
       "280    NaN\n",
       "281    NaN\n",
       "282    NaN\n",
       "283    NaN\n",
       "Name: RwVIGACT, Length: 100, dtype: float64"
      ]
     },
     "execution_count": 19,
     "metadata": {},
     "output_type": "execute_result"
    }
   ],
   "source": [
    "# (hrsWave[\"RwAGEM_B\"][0:100] - 65)/12 == hrsCombo.Wave[\"RwAGEM_B\"][0:100]\n",
    "# hrsWave[medicalConds[3]][0:100]\n",
    "hrsCombo.Wave[\"RwVIGACT\"][0:100]"
   ]
  },
  {
   "cell_type": "markdown",
   "id": "46ee9dc4",
   "metadata": {},
   "source": [
    "## 2.2 Cluster job occupation codes between different census"
   ]
  },
  {
   "cell_type": "code",
   "execution_count": 20,
   "id": "47cac387",
   "metadata": {},
   "outputs": [],
   "source": [
    "class hrsSet:\n",
    "    def __init__(self, hrsAll, hrsWave):\n",
    "        '''\n",
    "        hrsAll is a DataFrame containing all variables that are not specific to any single wave.\n",
    "        hrsWave is a DataFrame containing variables that are specific to every wave.\n",
    "        '''\n",
    "        self.All = hrsAll\n",
    "        self.Wave = hrsWave\n",
    "\n",
    "    def logFinance(self, financeVars):\n",
    "        \"\"\"\n",
    "        Transform financial variables to log scale.\n",
    "        \"\"\"    \n",
    "        for var in financeVars:\n",
    "            if var in self.Wave.columns:\n",
    "                self.Wave[var] = self.Wave[var].apply(lambda x: \n",
    "                                                      np.log1p(np.add(x, 1)) \n",
    "                                                      if pd.notnull(x) else x)        \n",
    "        return None\n",
    "\n",
    "\n",
    "    def standardizeAge(self, ageVars):\n",
    "        \"\"\"\n",
    "        Standardize age variables.\n",
    "        \"\"\"\n",
    "        for var in ageVars:\n",
    "            if var in self.Wave.columns:\n",
    "                self.Wave[var] = (self.Wave[var] - 65) / 12   \n",
    "        return None\n",
    "    \n",
    "    def discretize(self, mapper, varList):\n",
    "        '''\n",
    "        Discretize continuous or discrete variables of many values into a simpler value structure.\n",
    "\n",
    "        Parameters:\n",
    "        mapper (dict): A lambda function that maps the original values to new values.\n",
    "        varList (list): A list of variable names to be discretized.\n",
    "        '''\n",
    "        for var in varList:\n",
    "            if var in self.Wave.columns:\n",
    "                self.Wave[var] = self.Wave[var].map(mapper)\n",
    "                self.Wave[var] = self.Wave[var].astype('category')\n",
    "\n",
    "\n",
    "    def castType(self, varList, dtype):\n",
    "        \"\"\"\n",
    "        Cast the type of variables in varList to the specified dtype.\n",
    "        \n",
    "        Parameters:\n",
    "        varList (list): A list of variable names to be casted.\n",
    "        dtype: The target data type to cast the variables to.\n",
    "        \"\"\"\n",
    "        for var in varList:\n",
    "            if var in self.Wave.columns:\n",
    "                self.Wave[var] = self.Wave[var].astype(dtype)\n",
    "        \n",
    "        return None\n",
    "    \n",
    "    def groupOccupations(self):\n",
    "        \"\"\"\n",
    "        Creates the new column in self.Wave called \"RwJOCCSD\", with all occupations \n",
    "        Drop the old occupation column list \"RwOCC\" if it exists.\n",
    "        Relabel occupation variables based on a mapping dictionary.\n",
    "        \n",
    "        Parameters:\n",
    "        occupationMap (dict): A dictionary mapping old occupation codes to new labels.\n",
    "        \"\"\"\n",
    "        ## Map numbers to occupation names in different census years\n",
    "        self.Wave[\"RwJCOCC\"] = self.Wave[\"RwJCOCC\"].map(occLookUp.occupation_1980)\n",
    "        self.Wave[\"RwJCOCCA\"] = self.Wave[\"RwJCOCCA\"].map(occLookUp.occupation_ahead)\n",
    "        self.Wave[\"RwJCOCCB\"] = self.Wave[\"RwJCOCCB\"].map(occLookUp.occupation_2000)\n",
    "        self.Wave[\"RwJCOCCC\"] = self.Wave[\"RwJCOCCC\"].map(occLookUp.occupation_2010)\n",
    "        \n",
    "        ## Map occupation codes to standardized groups\n",
    "        allOccs = [\"RwJCOCC\", \"RwJCOCCA\", \"RwJCOCCB\", \"RwJCOCCC\"]\n",
    "        self.Wave[allOccs] = self.Wave[allOccs].apply(\n",
    "            lambda x: x.map(occLookUp.codeToGroup),\n",
    "            axis=0\n",
    "        )\n",
    "        print(\"Occupation codes across waves are:\")\n",
    "        print(self.Wave[allOccs].head(10))\n",
    "\n",
    "        ## Take the most common occupation grouping across all waves as the final occupation\n",
    "        self.Wave[\"RwJOCCSD\"] = self.Wave[allOccs].apply(lambda x: x.mode()[0] if not x.mode().empty else np.nan, \n",
    "                                                         axis=1) \n",
    "        # print(self.Wave[\"RwJOCCSD\"].head(10))      \n",
    "        # # ## Drop the old occupation columns if they exist\n",
    "        self.Wave.drop(columns=allOccs, inplace=True)\n",
    "                \n",
    "        return None\n",
    "\n",
    "    def combineColumns(self, newColName, colList, method = \"all\", combFunc = None):\n",
    "        \"\"\"\n",
    "        Combine multiple columns into a single column by taking OR or AND operation.\n",
    "        \n",
    "        Parameters:\n",
    "        newColName (str): The name of the new column to be created.\n",
    "        colList (list): A list of column names to be combined.\n",
    "        \"\"\"\n",
    "        if (method not in [\"all\", \"any\"]) and (combFunc is None):\n",
    "            raise ValueError(\"Method is not 'all' or 'any', or combFunc is None.\")\n",
    "        elif method == \"all\":\n",
    "            self.Wave[newColName] = self.Wave[colList].all(axis=1)\n",
    "        elif method == \"any\":\n",
    "            self.Wave[newColName] = self.Wave[colList].any(axis=1)\n",
    "        else:\n",
    "            self.Wave[newColName] = self.Wave[colList].apply(combFunc, axis = 0)\n",
    "        \n",
    "        self.Wave.drop(columns = colList, inplace = True)\n",
    "        return None\n",
    "    \n",
    "    def extractNonNull(self, how):\n",
    "        \"\"\"\n",
    "        Extract individuals with non-null cognition variables, RwTR20 and ReMSTOT, or non-null cognitive impairement\n",
    "        For individyuals with part of their cognitive status null,  \n",
    "        It imputes missing values with forward fill and back fill\n",
    "        \n",
    "        Returns: none\n",
    "        Mutate: self.Wave\n",
    "        \"\"\"\n",
    "        non_null_response = (\n",
    "            self.Wave[['RwTR20', 'RwMSTOT']].notnull().all(axis=1) |\n",
    "            self.Wave[[\"RwLOST\", \"RwWANDER\", \"RwALONE\", \"RwHALUC\"]].notnull().all(axis=1)\n",
    "        )\n",
    "        self.Wave = self.Wave[non_null_response]\n",
    "        \n",
    "\n",
    "    def dealNAs(self, varList, fillValue=0):\n",
    "        \"\"\"\n",
    "        Deal with missing values in the specified variables.\n",
    "        \n",
    "        Parameters:\n",
    "        varList (list): A list of variable names to handle missing values for.\n",
    "        fillValue: The value to fill in for missing values. Default is 0.\n",
    "        \"\"\"\n",
    "        self.Wave.fillna(method='ffill', axis = 0, inplace = True)\n",
    "        self.Wave.fillna(method='bfill', axis = 0, inplace = True)\n",
    "        \n",
    "        return None\n",
    "    "
   ]
  },
  {
   "cell_type": "code",
   "execution_count": null,
   "id": "83736f5a",
   "metadata": {},
   "outputs": [],
   "source": [
    "# from Pipeline.cleanVarGroups import hrsSet\n",
    "# from Pipeline.varList import *\n",
    "\n",
    "# ## File directory\n",
    "# fileNameAll = \"../Data/joinedHRSALL.csv\"\n",
    "# fileNameWave = \"../Data/joinedHRSWAVE.csv\"\n",
    "# ## Import long format data\n",
    "# hrsAll = pd.read_csv(fileNameAll, low_memory=False)\n",
    "# hrsWave = pd.read_csv(fileNameWave, low_memory=False)"
   ]
  },
  {
   "cell_type": "code",
   "execution_count": 114,
   "id": "0482112f",
   "metadata": {},
   "outputs": [],
   "source": [
    "hrsCombo = hrsSet(hrsAll, hrsWave)\n",
    "# hrsCombo.groupOccupations()\n",
    "# hrsCombo.Wave[\"RwJOCCSD\"].describe()"
   ]
  },
  {
   "cell_type": "code",
   "execution_count": null,
   "id": "99674cee",
   "metadata": {},
   "outputs": [
    {
     "name": "stderr",
     "output_type": "stream",
     "text": [
      "c:\\Users\\86139\\Desktop\\PARA Note System\\Projects\\Inter-University Health Data\\2025-Inter-Univer-Health-Data\\Code\\Pipeline\\cleanVarGroups.py:76: SettingWithCopyWarning: \n",
      "A value is trying to be set on a copy of a slice from a DataFrame.\n",
      "Try using .loc[row_indexer,col_indexer] = value instead\n",
      "\n",
      "See the caveats in the documentation: https://pandas.pydata.org/pandas-docs/stable/user_guide/indexing.html#returning-a-view-versus-a-copy\n",
      "  self.Wave[\"RwJCOCC\"] = self.Wave[\"RwJCOCC\"].map(occLookUp.occupation_1980)\n",
      "c:\\Users\\86139\\Desktop\\PARA Note System\\Projects\\Inter-University Health Data\\2025-Inter-Univer-Health-Data\\Code\\Pipeline\\cleanVarGroups.py:77: SettingWithCopyWarning: \n",
      "A value is trying to be set on a copy of a slice from a DataFrame.\n",
      "Try using .loc[row_indexer,col_indexer] = value instead\n",
      "\n",
      "See the caveats in the documentation: https://pandas.pydata.org/pandas-docs/stable/user_guide/indexing.html#returning-a-view-versus-a-copy\n",
      "  self.Wave[\"RwJCOCCA\"] = self.Wave[\"RwJCOCCA\"].map(occLookUp.occupation_ahead)\n",
      "c:\\Users\\86139\\Desktop\\PARA Note System\\Projects\\Inter-University Health Data\\2025-Inter-Univer-Health-Data\\Code\\Pipeline\\cleanVarGroups.py:78: SettingWithCopyWarning: \n",
      "A value is trying to be set on a copy of a slice from a DataFrame.\n",
      "Try using .loc[row_indexer,col_indexer] = value instead\n",
      "\n",
      "See the caveats in the documentation: https://pandas.pydata.org/pandas-docs/stable/user_guide/indexing.html#returning-a-view-versus-a-copy\n",
      "  self.Wave[\"RwJCOCCB\"] = self.Wave[\"RwJCOCCB\"].map(occLookUp.occupation_2000)\n",
      "c:\\Users\\86139\\Desktop\\PARA Note System\\Projects\\Inter-University Health Data\\2025-Inter-Univer-Health-Data\\Code\\Pipeline\\cleanVarGroups.py:79: SettingWithCopyWarning: \n",
      "A value is trying to be set on a copy of a slice from a DataFrame.\n",
      "Try using .loc[row_indexer,col_indexer] = value instead\n",
      "\n",
      "See the caveats in the documentation: https://pandas.pydata.org/pandas-docs/stable/user_guide/indexing.html#returning-a-view-versus-a-copy\n",
      "  self.Wave[\"RwJCOCCC\"] = self.Wave[\"RwJCOCCC\"].map(occLookUp.occupation_2010)\n",
      "c:\\Users\\86139\\Desktop\\PARA Note System\\Projects\\Inter-University Health Data\\2025-Inter-Univer-Health-Data\\Code\\Pipeline\\cleanVarGroups.py:83: SettingWithCopyWarning: \n",
      "A value is trying to be set on a copy of a slice from a DataFrame.\n",
      "Try using .loc[row_indexer,col_indexer] = value instead\n",
      "\n",
      "See the caveats in the documentation: https://pandas.pydata.org/pandas-docs/stable/user_guide/indexing.html#returning-a-view-versus-a-copy\n",
      "  self.Wave[allOccs] = self.Wave[allOccs].apply(\n"
     ]
    },
    {
     "name": "stdout",
     "output_type": "stream",
     "text": [
      "Occupation codes across waves are:\n",
      "                             RwJCOCC RwJCOCCA RwJCOCCB RwJCOCCC\n",
      "18                               NaN      NaN      NaN      NaN\n",
      "20                               NaN      NaN      NaN      NaN\n",
      "34  Skilled Trades/Production/Manual      NaN      NaN      NaN\n",
      "37  Skilled Trades/Production/Manual      NaN      NaN      NaN\n",
      "38  Skilled Trades/Production/Manual      NaN      NaN      NaN\n",
      "39                               NaN      NaN      NaN      NaN\n",
      "40                               NaN      NaN      NaN      NaN\n",
      "41                               NaN      NaN      NaN      NaN\n",
      "42                               NaN      NaN      NaN      NaN\n",
      "50                             Sales      NaN      NaN      NaN\n"
     ]
    }
   ],
   "source": [
    "# hrsCombo.Wave[\"RwJCOCCSD\"] = hrsCombo.Wave[[\"RwJCOCC\", \"RwJCOCCA\", \"RwJCOCCB\", \"RwJCOCCC\"]].apply(lambda x: x.mode()[0] if not x.mode().empty else np.nan, \n",
    "#                                                          axis=1) \n",
    "# hrsCombo.Wave[\"RwJCOCCSD\"].describe()\n",
    "hrsCombo.groupOccupations()"
   ]
  },
  {
   "cell_type": "code",
   "execution_count": 15,
   "id": "fe4bbee9",
   "metadata": {},
   "outputs": [
    {
     "name": "stdout",
     "output_type": "stream",
     "text": [
      "             HHIDPN           Wave         RwTR20        RwMSTOT  \\\n",
      "count  7.237440e+05  723744.000000  198678.000000  131586.000000   \n",
      "mean   3.062324e+08       8.500000       9.792821      12.509089   \n",
      "std    2.523906e+08       4.609775       3.612157       2.576556   \n",
      "min    1.010000e+03       1.000000       0.000000       0.000000   \n",
      "25%    7.720404e+07       4.750000       7.000000      11.000000   \n",
      "50%    2.060855e+08       8.500000      10.000000      13.000000   \n",
      "75%    5.307750e+08      12.250000      12.000000      15.000000   \n",
      "max    9.597380e+08      16.000000      20.000000      15.000000   \n",
      "\n",
      "             RwLOST      RwWANDER       RwALONE       RwHALUC         RwWORK  \\\n",
      "count  14400.000000  14537.000000  14585.000000  14332.000000  295259.000000   \n",
      "mean       0.256875      0.071542      0.771478      0.189366       0.391971   \n",
      "std        0.436925      0.257736      0.419895      0.391813       0.488191   \n",
      "min        0.000000      0.000000      0.000000      0.000000       0.000000   \n",
      "25%        0.000000      0.000000      1.000000      0.000000       0.000000   \n",
      "50%        0.000000      0.000000      1.000000      0.000000       0.000000   \n",
      "75%        1.000000      0.000000      1.000000      0.000000       1.000000   \n",
      "max        1.000000      1.000000      1.000000      1.000000       1.000000   \n",
      "\n",
      "            RwJHOURS  ...  RwEARN  RwITOT  RwATRAN  RwAHOUS  RwACHCK  \\\n",
      "count  113133.000000  ...     0.0     0.0      0.0      0.0      0.0   \n",
      "mean       37.070271  ...     NaN     NaN      NaN      NaN      NaN   \n",
      "std        15.073592  ...     NaN     NaN      NaN      NaN      NaN   \n",
      "min         0.000000  ...     NaN     NaN      NaN      NaN      NaN   \n",
      "25%        30.000000  ...     NaN     NaN      NaN      NaN      NaN   \n",
      "50%        40.000000  ...     NaN     NaN      NaN      NaN      NaN   \n",
      "75%        44.000000  ...     NaN     NaN      NaN      NaN      NaN   \n",
      "max       168.000000  ...     NaN     NaN      NaN      NaN      NaN   \n",
      "\n",
      "       RwHSWRRF       RwVIGACT      RwLTACTF       RwSMOKEV        RwDRINK  \n",
      "count       0.0  100819.000000  12652.000000  294223.000000  296076.000000  \n",
      "mean        NaN       0.366905      2.021973       0.568056       0.519681  \n",
      "std         NaN       0.481963      1.351505       0.495348       0.499613  \n",
      "min         NaN       0.000000      1.000000       0.000000       0.000000  \n",
      "25%         NaN       0.000000      1.000000       0.000000       0.000000  \n",
      "50%         NaN       0.000000      1.000000       1.000000       1.000000  \n",
      "75%         NaN       1.000000      3.000000       1.000000       1.000000  \n",
      "max         NaN       1.000000      5.000000       1.000000       1.000000  \n",
      "\n",
      "[8 rows x 39 columns]\n",
      "             HHIDPN      RAGENDER       RARACEM       RAEDYRS       RAEVBRN\n",
      "count  4.523400e+04  45234.000000  44626.000000  44585.000000  43261.000000\n",
      "mean   3.062324e+08      1.560707      1.376529     12.198856      2.623957\n",
      "std    2.523933e+08      0.496307      0.640066      3.455937      1.956145\n",
      "min    1.010000e+03      1.000000      1.000000      0.000000      0.000000\n",
      "25%    7.721403e+07      1.000000      1.000000     11.000000      1.000000\n",
      "50%    2.060855e+08      2.000000      1.000000     12.000000      2.000000\n",
      "75%    5.307678e+08      2.000000      2.000000     14.000000      4.000000\n",
      "max    9.597380e+08      2.000000      3.000000     17.000000     11.000000\n"
     ]
    }
   ],
   "source": [
    "print(hrsCombo.Wave.describe())\n",
    "print(hrsCombo.All.describe())"
   ]
  },
  {
   "cell_type": "markdown",
   "id": "e1b6aec1",
   "metadata": {},
   "source": [
    "## 2.4 Combine Clutter explanatory columns"
   ]
  },
  {
   "cell_type": "code",
   "execution_count": null,
   "id": "d32945f8",
   "metadata": {},
   "outputs": [
    {
     "ename": "KeyError",
     "evalue": "'key of type tuple not found and not a MultiIndex'",
     "output_type": "error",
     "traceback": [
      "\u001b[31m---------------------------------------------------------------------------\u001b[39m",
      "\u001b[31mKeyError\u001b[39m                                  Traceback (most recent call last)",
      "\u001b[36mCell\u001b[39m\u001b[36m \u001b[39m\u001b[32mIn[145]\u001b[39m\u001b[32m, line 9\u001b[39m\n\u001b[32m      6\u001b[39m anyCogImp = \u001b[38;5;28;01mlambda\u001b[39;00m x: \u001b[32m1\u001b[39m \u001b[38;5;28;01mif\u001b[39;00m x[\u001b[32m0\u001b[39m,\u001b[32m1\u001b[39m,\u001b[32m3\u001b[39m].any() \u001b[38;5;129;01mor\u001b[39;00m ~x[\u001b[32m2\u001b[39m] \u001b[38;5;28;01melse\u001b[39;00m \u001b[32m0\u001b[39m\n\u001b[32m      7\u001b[39m \u001b[38;5;66;03m# # hrsCombo.combineColumns(\"RwCogImp\", [\"RwLOST\", \"RwWANDER\", \"RwHALUC\", \"RwALONE\"], method = None, combFunc = anyCogImp)\u001b[39;00m\n\u001b[32m      8\u001b[39m \u001b[38;5;66;03m# # hrsCombo.Wave[\"RwCogImp\"].sum()\u001b[39;00m\n\u001b[32m----> \u001b[39m\u001b[32m9\u001b[39m \u001b[43mhrsCombo\u001b[49m\u001b[43m.\u001b[49m\u001b[43mWave\u001b[49m\u001b[43m.\u001b[49m\u001b[43mloc\u001b[49m\u001b[43m[\u001b[49m\u001b[32;43m0\u001b[39;49m\u001b[43m:\u001b[49m\u001b[32;43m2001\u001b[39;49m\u001b[43m,\u001b[49m\u001b[43m \u001b[49m\u001b[43m[\u001b[49m\u001b[33;43m\"\u001b[39;49m\u001b[33;43mRwLOST\u001b[39;49m\u001b[33;43m\"\u001b[39;49m\u001b[43m,\u001b[49m\u001b[43m \u001b[49m\u001b[33;43m\"\u001b[39;49m\u001b[33;43mRwWANDER\u001b[39;49m\u001b[33;43m\"\u001b[39;49m\u001b[43m,\u001b[49m\u001b[43m \u001b[49m\u001b[33;43m\"\u001b[39;49m\u001b[33;43mRwHALUC\u001b[39;49m\u001b[33;43m\"\u001b[39;49m\u001b[43m,\u001b[49m\u001b[43m \u001b[49m\u001b[33;43m\"\u001b[39;49m\u001b[33;43mRwALONE\u001b[39;49m\u001b[33;43m\"\u001b[39;49m\u001b[43m]\u001b[49m\u001b[43m]\u001b[49m\u001b[43m.\u001b[49m\u001b[43mapply\u001b[49m\u001b[43m(\u001b[49m\u001b[43manyCogImp\u001b[49m\u001b[43m,\u001b[49m\u001b[43m \u001b[49m\u001b[43maxis\u001b[49m\u001b[43m \u001b[49m\u001b[43m=\u001b[49m\u001b[43m \u001b[49m\u001b[32;43m0\u001b[39;49m\u001b[43m)\u001b[49m\n\u001b[32m     10\u001b[39m \u001b[38;5;66;03m# # neg_rw_alone = ~hrsCombo.Wave[\"RwALONE\"].astype(bool)\u001b[39;00m\n\u001b[32m     11\u001b[39m \u001b[38;5;66;03m# # neg_rw_alone\u001b[39;00m\n\u001b[32m     12\u001b[39m \n\u001b[32m     13\u001b[39m \u001b[38;5;66;03m# # hrsCombo.Wave[\"RwALONE\"].unique()\u001b[39;00m\n",
      "\u001b[36mFile \u001b[39m\u001b[32m~\\AppData\\Local\\Packages\\PythonSoftwareFoundation.Python.3.11_qbz5n2kfra8p0\\LocalCache\\local-packages\\Python311\\site-packages\\pandas\\core\\frame.py:10374\u001b[39m, in \u001b[36mDataFrame.apply\u001b[39m\u001b[34m(self, func, axis, raw, result_type, args, by_row, engine, engine_kwargs, **kwargs)\u001b[39m\n\u001b[32m  10360\u001b[39m \u001b[38;5;28;01mfrom\u001b[39;00m\u001b[38;5;250m \u001b[39m\u001b[34;01mpandas\u001b[39;00m\u001b[34;01m.\u001b[39;00m\u001b[34;01mcore\u001b[39;00m\u001b[34;01m.\u001b[39;00m\u001b[34;01mapply\u001b[39;00m\u001b[38;5;250m \u001b[39m\u001b[38;5;28;01mimport\u001b[39;00m frame_apply\n\u001b[32m  10362\u001b[39m op = frame_apply(\n\u001b[32m  10363\u001b[39m     \u001b[38;5;28mself\u001b[39m,\n\u001b[32m  10364\u001b[39m     func=func,\n\u001b[32m   (...)\u001b[39m\u001b[32m  10372\u001b[39m     kwargs=kwargs,\n\u001b[32m  10373\u001b[39m )\n\u001b[32m> \u001b[39m\u001b[32m10374\u001b[39m \u001b[38;5;28;01mreturn\u001b[39;00m \u001b[43mop\u001b[49m\u001b[43m.\u001b[49m\u001b[43mapply\u001b[49m\u001b[43m(\u001b[49m\u001b[43m)\u001b[49m.__finalize__(\u001b[38;5;28mself\u001b[39m, method=\u001b[33m\"\u001b[39m\u001b[33mapply\u001b[39m\u001b[33m\"\u001b[39m)\n",
      "\u001b[36mFile \u001b[39m\u001b[32m~\\AppData\\Local\\Packages\\PythonSoftwareFoundation.Python.3.11_qbz5n2kfra8p0\\LocalCache\\local-packages\\Python311\\site-packages\\pandas\\core\\apply.py:916\u001b[39m, in \u001b[36mFrameApply.apply\u001b[39m\u001b[34m(self)\u001b[39m\n\u001b[32m    913\u001b[39m \u001b[38;5;28;01melif\u001b[39;00m \u001b[38;5;28mself\u001b[39m.raw:\n\u001b[32m    914\u001b[39m     \u001b[38;5;28;01mreturn\u001b[39;00m \u001b[38;5;28mself\u001b[39m.apply_raw(engine=\u001b[38;5;28mself\u001b[39m.engine, engine_kwargs=\u001b[38;5;28mself\u001b[39m.engine_kwargs)\n\u001b[32m--> \u001b[39m\u001b[32m916\u001b[39m \u001b[38;5;28;01mreturn\u001b[39;00m \u001b[38;5;28;43mself\u001b[39;49m\u001b[43m.\u001b[49m\u001b[43mapply_standard\u001b[49m\u001b[43m(\u001b[49m\u001b[43m)\u001b[49m\n",
      "\u001b[36mFile \u001b[39m\u001b[32m~\\AppData\\Local\\Packages\\PythonSoftwareFoundation.Python.3.11_qbz5n2kfra8p0\\LocalCache\\local-packages\\Python311\\site-packages\\pandas\\core\\apply.py:1063\u001b[39m, in \u001b[36mFrameApply.apply_standard\u001b[39m\u001b[34m(self)\u001b[39m\n\u001b[32m   1061\u001b[39m \u001b[38;5;28;01mdef\u001b[39;00m\u001b[38;5;250m \u001b[39m\u001b[34mapply_standard\u001b[39m(\u001b[38;5;28mself\u001b[39m):\n\u001b[32m   1062\u001b[39m     \u001b[38;5;28;01mif\u001b[39;00m \u001b[38;5;28mself\u001b[39m.engine == \u001b[33m\"\u001b[39m\u001b[33mpython\u001b[39m\u001b[33m\"\u001b[39m:\n\u001b[32m-> \u001b[39m\u001b[32m1063\u001b[39m         results, res_index = \u001b[38;5;28;43mself\u001b[39;49m\u001b[43m.\u001b[49m\u001b[43mapply_series_generator\u001b[49m\u001b[43m(\u001b[49m\u001b[43m)\u001b[49m\n\u001b[32m   1064\u001b[39m     \u001b[38;5;28;01melse\u001b[39;00m:\n\u001b[32m   1065\u001b[39m         results, res_index = \u001b[38;5;28mself\u001b[39m.apply_series_numba()\n",
      "\u001b[36mFile \u001b[39m\u001b[32m~\\AppData\\Local\\Packages\\PythonSoftwareFoundation.Python.3.11_qbz5n2kfra8p0\\LocalCache\\local-packages\\Python311\\site-packages\\pandas\\core\\apply.py:1081\u001b[39m, in \u001b[36mFrameApply.apply_series_generator\u001b[39m\u001b[34m(self)\u001b[39m\n\u001b[32m   1078\u001b[39m \u001b[38;5;28;01mwith\u001b[39;00m option_context(\u001b[33m\"\u001b[39m\u001b[33mmode.chained_assignment\u001b[39m\u001b[33m\"\u001b[39m, \u001b[38;5;28;01mNone\u001b[39;00m):\n\u001b[32m   1079\u001b[39m     \u001b[38;5;28;01mfor\u001b[39;00m i, v \u001b[38;5;129;01min\u001b[39;00m \u001b[38;5;28menumerate\u001b[39m(series_gen):\n\u001b[32m   1080\u001b[39m         \u001b[38;5;66;03m# ignore SettingWithCopy here in case the user mutates\u001b[39;00m\n\u001b[32m-> \u001b[39m\u001b[32m1081\u001b[39m         results[i] = \u001b[38;5;28;43mself\u001b[39;49m\u001b[43m.\u001b[49m\u001b[43mfunc\u001b[49m\u001b[43m(\u001b[49m\u001b[43mv\u001b[49m\u001b[43m,\u001b[49m\u001b[43m \u001b[49m\u001b[43m*\u001b[49m\u001b[38;5;28;43mself\u001b[39;49m\u001b[43m.\u001b[49m\u001b[43margs\u001b[49m\u001b[43m,\u001b[49m\u001b[43m \u001b[49m\u001b[43m*\u001b[49m\u001b[43m*\u001b[49m\u001b[38;5;28;43mself\u001b[39;49m\u001b[43m.\u001b[49m\u001b[43mkwargs\u001b[49m\u001b[43m)\u001b[49m\n\u001b[32m   1082\u001b[39m         \u001b[38;5;28;01mif\u001b[39;00m \u001b[38;5;28misinstance\u001b[39m(results[i], ABCSeries):\n\u001b[32m   1083\u001b[39m             \u001b[38;5;66;03m# If we have a view on v, we need to make a copy because\u001b[39;00m\n\u001b[32m   1084\u001b[39m             \u001b[38;5;66;03m#  series_generator will swap out the underlying data\u001b[39;00m\n\u001b[32m   1085\u001b[39m             results[i] = results[i].copy(deep=\u001b[38;5;28;01mFalse\u001b[39;00m)\n",
      "\u001b[36mCell\u001b[39m\u001b[36m \u001b[39m\u001b[32mIn[145]\u001b[39m\u001b[32m, line 6\u001b[39m, in \u001b[36m<lambda>\u001b[39m\u001b[34m(x)\u001b[39m\n\u001b[32m      1\u001b[39m \u001b[38;5;66;03m# ## Convert to boolean and fill out NAs\u001b[39;00m\n\u001b[32m      2\u001b[39m \u001b[38;5;66;03m# # hrsCombo.Wave[[\"RwLOST\", \"RwWANDER\", \"RwHALUC\"]] = hrsCombo.Wave[[\"RwLOST\", \"RwWANDER\", \"RwHALUC\"]].fillna(0).astype(bool)\u001b[39;00m\n\u001b[32m      3\u001b[39m \u001b[38;5;66;03m# # hrsCombo.Wave[\"RwALONE\"] = hrsCombo.Wave[\"RwALONE\"].fillna(1).astype(bool)\u001b[39;00m\n\u001b[32m      4\u001b[39m \n\u001b[32m      5\u001b[39m \u001b[38;5;66;03m# # create a new column for cognitive impairment\u001b[39;00m\n\u001b[32m----> \u001b[39m\u001b[32m6\u001b[39m anyCogImp = \u001b[38;5;28;01mlambda\u001b[39;00m x: \u001b[32m1\u001b[39m \u001b[38;5;28;01mif\u001b[39;00m \u001b[43mx\u001b[49m\u001b[43m[\u001b[49m\u001b[32;43m0\u001b[39;49m\u001b[43m,\u001b[49m\u001b[32;43m1\u001b[39;49m\u001b[43m,\u001b[49m\u001b[32;43m3\u001b[39;49m\u001b[43m]\u001b[49m.any() \u001b[38;5;129;01mor\u001b[39;00m ~x[\u001b[32m2\u001b[39m] \u001b[38;5;28;01melse\u001b[39;00m \u001b[32m0\u001b[39m\n\u001b[32m      7\u001b[39m \u001b[38;5;66;03m# # hrsCombo.combineColumns(\"RwCogImp\", [\"RwLOST\", \"RwWANDER\", \"RwHALUC\", \"RwALONE\"], method = None, combFunc = anyCogImp)\u001b[39;00m\n\u001b[32m      8\u001b[39m \u001b[38;5;66;03m# # hrsCombo.Wave[\"RwCogImp\"].sum()\u001b[39;00m\n\u001b[32m      9\u001b[39m hrsCombo.Wave.loc[\u001b[32m0\u001b[39m:\u001b[32m2001\u001b[39m, [\u001b[33m\"\u001b[39m\u001b[33mRwLOST\u001b[39m\u001b[33m\"\u001b[39m, \u001b[33m\"\u001b[39m\u001b[33mRwWANDER\u001b[39m\u001b[33m\"\u001b[39m, \u001b[33m\"\u001b[39m\u001b[33mRwHALUC\u001b[39m\u001b[33m\"\u001b[39m, \u001b[33m\"\u001b[39m\u001b[33mRwALONE\u001b[39m\u001b[33m\"\u001b[39m]].apply(anyCogImp, axis = \u001b[32m0\u001b[39m)\n",
      "\u001b[36mFile \u001b[39m\u001b[32m~\\AppData\\Local\\Packages\\PythonSoftwareFoundation.Python.3.11_qbz5n2kfra8p0\\LocalCache\\local-packages\\Python311\\site-packages\\pandas\\core\\series.py:1153\u001b[39m, in \u001b[36mSeries.__getitem__\u001b[39m\u001b[34m(self, key)\u001b[39m\n\u001b[32m   1150\u001b[39m     key = np.asarray(key, dtype=\u001b[38;5;28mbool\u001b[39m)\n\u001b[32m   1151\u001b[39m     \u001b[38;5;28;01mreturn\u001b[39;00m \u001b[38;5;28mself\u001b[39m._get_rows_with_mask(key)\n\u001b[32m-> \u001b[39m\u001b[32m1153\u001b[39m \u001b[38;5;28;01mreturn\u001b[39;00m \u001b[38;5;28;43mself\u001b[39;49m\u001b[43m.\u001b[49m\u001b[43m_get_with\u001b[49m\u001b[43m(\u001b[49m\u001b[43mkey\u001b[49m\u001b[43m)\u001b[49m\n",
      "\u001b[36mFile \u001b[39m\u001b[32m~\\AppData\\Local\\Packages\\PythonSoftwareFoundation.Python.3.11_qbz5n2kfra8p0\\LocalCache\\local-packages\\Python311\\site-packages\\pandas\\core\\series.py:1163\u001b[39m, in \u001b[36mSeries._get_with\u001b[39m\u001b[34m(self, key)\u001b[39m\n\u001b[32m   1158\u001b[39m     \u001b[38;5;28;01mraise\u001b[39;00m \u001b[38;5;167;01mTypeError\u001b[39;00m(\n\u001b[32m   1159\u001b[39m         \u001b[33m\"\u001b[39m\u001b[33mIndexing a Series with DataFrame is not \u001b[39m\u001b[33m\"\u001b[39m\n\u001b[32m   1160\u001b[39m         \u001b[33m\"\u001b[39m\u001b[33msupported, use the appropriate DataFrame column\u001b[39m\u001b[33m\"\u001b[39m\n\u001b[32m   1161\u001b[39m     )\n\u001b[32m   1162\u001b[39m \u001b[38;5;28;01melif\u001b[39;00m \u001b[38;5;28misinstance\u001b[39m(key, \u001b[38;5;28mtuple\u001b[39m):\n\u001b[32m-> \u001b[39m\u001b[32m1163\u001b[39m     \u001b[38;5;28;01mreturn\u001b[39;00m \u001b[38;5;28;43mself\u001b[39;49m\u001b[43m.\u001b[49m\u001b[43m_get_values_tuple\u001b[49m\u001b[43m(\u001b[49m\u001b[43mkey\u001b[49m\u001b[43m)\u001b[49m\n\u001b[32m   1165\u001b[39m \u001b[38;5;28;01melif\u001b[39;00m \u001b[38;5;129;01mnot\u001b[39;00m is_list_like(key):\n\u001b[32m   1166\u001b[39m     \u001b[38;5;66;03m# e.g. scalars that aren't recognized by lib.is_scalar, GH#32684\u001b[39;00m\n\u001b[32m   1167\u001b[39m     \u001b[38;5;28;01mreturn\u001b[39;00m \u001b[38;5;28mself\u001b[39m.loc[key]\n",
      "\u001b[36mFile \u001b[39m\u001b[32m~\\AppData\\Local\\Packages\\PythonSoftwareFoundation.Python.3.11_qbz5n2kfra8p0\\LocalCache\\local-packages\\Python311\\site-packages\\pandas\\core\\series.py:1207\u001b[39m, in \u001b[36mSeries._get_values_tuple\u001b[39m\u001b[34m(self, key)\u001b[39m\n\u001b[32m   1204\u001b[39m     \u001b[38;5;28;01mreturn\u001b[39;00m result\n\u001b[32m   1206\u001b[39m \u001b[38;5;28;01mif\u001b[39;00m \u001b[38;5;129;01mnot\u001b[39;00m \u001b[38;5;28misinstance\u001b[39m(\u001b[38;5;28mself\u001b[39m.index, MultiIndex):\n\u001b[32m-> \u001b[39m\u001b[32m1207\u001b[39m     \u001b[38;5;28;01mraise\u001b[39;00m \u001b[38;5;167;01mKeyError\u001b[39;00m(\u001b[33m\"\u001b[39m\u001b[33mkey of type tuple not found and not a MultiIndex\u001b[39m\u001b[33m\"\u001b[39m)\n\u001b[32m   1209\u001b[39m \u001b[38;5;66;03m# If key is contained, would have returned by now\u001b[39;00m\n\u001b[32m   1210\u001b[39m indexer, new_index = \u001b[38;5;28mself\u001b[39m.index.get_loc_level(key)\n",
      "\u001b[31mKeyError\u001b[39m: 'key of type tuple not found and not a MultiIndex'"
     ]
    }
   ],
   "source": [
    "# ## Convert to boolean and fill out NAs\n",
    "# # hrsCombo.Wave[[\"RwLOST\", \"RwWANDER\", \"RwHALUC\"]] = hrsCombo.Wave[[\"RwLOST\", \"RwWANDER\", \"RwHALUC\"]].fillna(0).astype(bool)\n",
    "# # hrsCombo.Wave[\"RwALONE\"] = hrsCombo.Wave[\"RwALONE\"].fillna(1).astype(bool)\n",
    "\n",
    "# # create a new column for cognitive impairment\n",
    "# anyCogImp = lambda x: 1 if x[0,1,3].any() or ~x[2] else 0\n",
    "# # hrsCombo.combineColumns(\"RwCogImp\", [\"RwLOST\", \"RwWANDER\", \"RwHALUC\", \"RwALONE\"], method = None, combFunc = anyCogImp)\n",
    "# # hrsCombo.Wave[\"RwCogImp\"].sum()\n",
    "# hrsCombo.Wave.loc[0:2001, [\"RwLOST\", \"RwWANDER\", \"RwHALUC\", \"RwALONE\"]].apply(anyCogImp, axis = 0)\n",
    "# # neg_rw_alone = ~hrsCombo.Wave[\"RwALONE\"].astype(bool)\n",
    "# # neg_rw_alone\n",
    "\n",
    "# # hrsCombo.Wave[\"RwALONE\"].unique()"
   ]
  },
  {
   "cell_type": "markdown",
   "id": "a58decdf",
   "metadata": {},
   "source": [
    "## 2.5 Impute Missing Values"
   ]
  },
  {
   "cell_type": "code",
   "execution_count": null,
   "id": "f4796ff2",
   "metadata": {},
   "outputs": [
    {
     "name": "stderr",
     "output_type": "stream",
     "text": [
      "C:\\Users\\86139\\AppData\\Local\\Temp\\ipykernel_2712\\954647766.py:12: FutureWarning: DataFrame.fillna with 'method' is deprecated and will raise in a future version. Use obj.ffill() or obj.bfill() instead.\n",
      "  hrsCombo.Wave.loc[0:1001, [\"HHIDPN\", \"Wave\", \"RwJCOCC\"]].fillna(method='ffill', axis = 0).fillna(method='bfill', axis = 0).describe()#.reset_index(drop=True)\n"
     ]
    },
    {
     "data": {
      "text/html": [
       "<div>\n",
       "<style scoped>\n",
       "    .dataframe tbody tr th:only-of-type {\n",
       "        vertical-align: middle;\n",
       "    }\n",
       "\n",
       "    .dataframe tbody tr th {\n",
       "        vertical-align: top;\n",
       "    }\n",
       "\n",
       "    .dataframe thead th {\n",
       "        text-align: right;\n",
       "    }\n",
       "</style>\n",
       "<table border=\"1\" class=\"dataframe\">\n",
       "  <thead>\n",
       "    <tr style=\"text-align: right;\">\n",
       "      <th></th>\n",
       "      <th>HHIDPN</th>\n",
       "      <th>Wave</th>\n",
       "      <th>RwJCOCC</th>\n",
       "    </tr>\n",
       "  </thead>\n",
       "  <tbody>\n",
       "    <tr>\n",
       "      <th>count</th>\n",
       "      <td>2.810000e+02</td>\n",
       "      <td>281.000000</td>\n",
       "      <td>281.000000</td>\n",
       "    </tr>\n",
       "    <tr>\n",
       "      <th>mean</th>\n",
       "      <td>9.597750e+06</td>\n",
       "      <td>8.306050</td>\n",
       "      <td>5.836299</td>\n",
       "    </tr>\n",
       "    <tr>\n",
       "      <th>std</th>\n",
       "      <td>2.365463e+06</td>\n",
       "      <td>3.350735</td>\n",
       "      <td>4.471525</td>\n",
       "    </tr>\n",
       "    <tr>\n",
       "      <th>min</th>\n",
       "      <td>2.010000e+03</td>\n",
       "      <td>3.000000</td>\n",
       "      <td>1.000000</td>\n",
       "    </tr>\n",
       "    <tr>\n",
       "      <th>25%</th>\n",
       "      <td>1.005902e+07</td>\n",
       "      <td>6.000000</td>\n",
       "      <td>2.000000</td>\n",
       "    </tr>\n",
       "    <tr>\n",
       "      <th>50%</th>\n",
       "      <td>1.010903e+07</td>\n",
       "      <td>9.000000</td>\n",
       "      <td>4.000000</td>\n",
       "    </tr>\n",
       "    <tr>\n",
       "      <th>75%</th>\n",
       "      <td>1.028102e+07</td>\n",
       "      <td>11.000000</td>\n",
       "      <td>8.000000</td>\n",
       "    </tr>\n",
       "    <tr>\n",
       "      <th>max</th>\n",
       "      <td>1.040401e+07</td>\n",
       "      <td>16.000000</td>\n",
       "      <td>15.000000</td>\n",
       "    </tr>\n",
       "  </tbody>\n",
       "</table>\n",
       "</div>"
      ],
      "text/plain": [
       "             HHIDPN        Wave     RwJCOCC\n",
       "count  2.810000e+02  281.000000  281.000000\n",
       "mean   9.597750e+06    8.306050    5.836299\n",
       "std    2.365463e+06    3.350735    4.471525\n",
       "min    2.010000e+03    3.000000    1.000000\n",
       "25%    1.005902e+07    6.000000    2.000000\n",
       "50%    1.010903e+07    9.000000    4.000000\n",
       "75%    1.028102e+07   11.000000    8.000000\n",
       "max    1.040401e+07   16.000000   15.000000"
      ]
     },
     "execution_count": 207,
     "metadata": {},
     "output_type": "execute_result"
    }
   ],
   "source": [
    "# ## If the \"RwWORK\" is 0 (retired), then the \"RwJHRS\" is 0 (hours worked per week)\n",
    "# hrsCombo.Wave[\"RwJHOURS\"] = hrsCombo.Wave.apply(\n",
    "#     lambda x: 0 if x[\"RwWORK\"] == 0 else x[\"RwJHOURS\"], axis=1\n",
    "# )\n",
    "\n",
    "# ## If the \"RwWORK\" is 0 (retired), then the \"RwJCOCCSD\" is Retired\n",
    "# hrsCombo.Wave[\"RwJCOCCSD\"] = hrsCombo.Wave.apply(\n",
    "#     lambda x: \"Retired\" if x[\"RwWORK\"] == 0 else x\n",
    "#     , axis=1)\n",
    "\n",
    "# ## Forward and back fill the missing values in the Wave DataFrame\n",
    "hrsCombo.Wave.loc[0:1001, [\"HHIDPN\", \"Wave\", \"RwJCOCC\"]].fillna(method='ffill', axis = 0).fillna(method='bfill', axis = 0)"
   ]
  },
  {
   "cell_type": "code",
   "execution_count": 60,
   "id": "8776b389",
   "metadata": {},
   "outputs": [
    {
     "name": "stdout",
     "output_type": "stream",
     "text": [
      "    Silhouette Coefficient Calinski-Harabasz Index  Davies-Bouldin Index\n",
      "2   [0.022745607152715275]    [3.0370981156364616]    [3.54104696236505]\n",
      "3    [0.03081662867670651]    [2.8252564274865346]  [3.2106343265678206]\n",
      "4   [0.039682833980139894]    [2.6847786911762226]   [3.045267651545708]\n",
      "5    [0.04801988293266492]      [2.62724817938636]    [2.60882403703404]\n",
      "6   [0.058627779431467665]     [2.428234952378288]   [2.536915238121277]\n",
      "7    [0.10452222479501164]    [2.5224072959403774]   [2.231701271979948]\n",
      "8    [0.10272051718348224]     [2.353836328012539]   [2.392626274870912]\n",
      "9    [0.12001456075116833]       [2.5157764578416]  [2.1709494616166753]\n",
      "10   [0.11120262936618508]     [2.398690131400177]   [2.277385619560347]\n",
      "11    [0.1437198597172155]     [2.360925985192082]  [2.1340424180026485]\n",
      "12    [0.1584356019505785]    [2.4684980166652664]   [2.011379531147807]\n",
      "13   [0.16002194387800786]     [2.541865876289422]   [2.046536702147852]\n",
      "14   [0.17408897397435824]    [2.4232117072191173]  [1.9976515509505604]\n",
      "15   [0.17020321107125216]    [2.4765673308559415]  [2.0659980744605515]\n",
      "16   [0.14731776746768768]    [2.4108136061698966]  [2.0826657075701682]\n",
      "17   [0.19210419623287137]    [2.4885855481837016]  [1.9435490310897943]\n",
      "18   [0.20582697344567338]    [2.5620244842806996]  [1.9343770708736021]\n",
      "19   [0.21430299609012585]     [2.559455563819774]  [1.8683554591447795]\n"
     ]
    }
   ],
   "source": [
    "# cluster the occpations using KMeans\n",
    "from sklearn.cluster import KMeans\n",
    "from sklearn import metrics\n",
    "from collections import defaultdict\n",
    "\n",
    "kList = list(range(2,20))\n",
    "scoreDf = pd.DataFrame(index=kList, columns=[\"Silhouette Coefficient\",\n",
    "                                                \"Calinski-Harabasz Index\",\n",
    "                                                \"Davies-Bouldin Index\"])\n",
    "\n",
    "for cand_k in kList:\n",
    "    kmeans = KMeans(\n",
    "        n_clusters=cand_k,\n",
    "        max_iter=100,\n",
    "        n_init=5,\n",
    "    )\n",
    "    kmeans.fit_transform(occVecDf)\n",
    "\n",
    "    # Evaluation\n",
    "    scores = defaultdict(list)\n",
    "    scores[\"Silhouette Coefficient\"].append(\n",
    "        metrics.silhouette_score(occVecDf, kmeans.labels_, sample_size=2000)\n",
    "    )\n",
    "    scores[\"Calinski-Harabasz Index\"].append(\n",
    "        metrics.calinski_harabasz_score(occVecDf.toarray(), kmeans.labels_)\n",
    "    )\n",
    "    scores[\"Davies-Bouldin Index\"].append(\n",
    "        metrics.davies_bouldin_score(occVecDf.toarray(), kmeans.labels_)\n",
    "    )\n",
    "    scoreDf.loc[cand_k] = scores\n",
    "\n",
    "print(scoreDf)\n",
    "    \n",
    "\n",
    "# kmeans = KMeans(\n",
    "#         n_clusters=5,\n",
    "#         max_iter=100,\n",
    "#         n_init=5,\n",
    "#     )\n",
    "# kmeans.fit_transform(occVecDf)\n",
    "\n",
    "# pd.DataFrame([kmeans.labels_, occupation_all_val], \n",
    "#             columns=[\"Cluster\", \"Occupation\"]).sort_values(by=\"Cluster\")\n",
    "\n"
   ]
  },
  {
   "cell_type": "markdown",
   "id": "13bf6984",
   "metadata": {},
   "source": [
    "1. Silhouette Coefficient calculates the separation of different clusters using mean intra-cluster distance (a) and the mean nearest-cluster distance (b) for each sample. The best value is 1, and the worst range is -1. The result shows that k=19 gives the best result\n",
    "2. Calinski-Harabasz Index  quantifies the separation by taking the ratio of variance between clusters to the variance within clusters. The optimal K=2 is characterized by the highest CH value\n",
    "3. Davies-Bouldin Index: the ratio of within cluster simialarity and with the most similar cluster. Lower ratio indicates better separation of classes. Optimal K is 19\n",
    "\n",
    "We will set optimal to K = 15 to balance separation of cluster and parsimoneity"
   ]
  },
  {
   "cell_type": "code",
   "execution_count": 61,
   "id": "ca6f4666",
   "metadata": {},
   "outputs": [
    {
     "name": "stdout",
     "output_type": "stream",
     "text": [
      "    Cluster                Occupation\n",
      "22        0  Operatives/kindred worke\n",
      "37        1   Healthcare Support Occs\n",
      "43        1  Office+Admin Support Occ\n",
      "60        1  Healthcare Practitioners\n",
      "61        1   Healthcare Support Occs\n",
      "2         2                     Sales\n",
      "20        2             Sales workers\n",
      "42        2              Sales Occups\n",
      "66        2        Sales+Related Occs\n",
      "19        3  Clerical/kindred workers\n",
      "46        3        Extraction Workers\n",
      "24        3               Svc workers\n",
      "8         3              Personal svc\n",
      "7         3                Health svc\n",
      "5         3            Svc:protection\n",
      "4         3   Svc:prv hhld/clean/bldg\n",
      "65        4  Personal Care+Service Oc\n",
      "56        4  Community+Social Service\n",
      "32        4  Community+Social Svcs Oc\n",
      "38        4   Protective Service Occs\n"
     ]
    }
   ],
   "source": [
    "Optimal_K = 15\n",
    "kmeans = KMeans(\n",
    "        n_clusters=Optimal_K,\n",
    "        max_iter=100,\n",
    "        n_init=5,\n",
    "    )\n",
    "kmeans.fit_transform(occVecDf)\n",
    "\n",
    "occCluster = pd.DataFrame({\"Cluster\": kmeans.labels_, \"Occupation\":occupation_all_val}).sort_values(by=\"Cluster\")\n",
    "print(occCluster.head(20))"
   ]
  }
 ],
 "metadata": {
  "kernelspec": {
   "display_name": "Python 3",
   "language": "python",
   "name": "python3"
  },
  "language_info": {
   "codemirror_mode": {
    "name": "ipython",
    "version": 3
   },
   "file_extension": ".py",
   "mimetype": "text/x-python",
   "name": "python",
   "nbconvert_exporter": "python",
   "pygments_lexer": "ipython3",
   "version": "3.11.9"
  }
 },
 "nbformat": 4,
 "nbformat_minor": 5
}
