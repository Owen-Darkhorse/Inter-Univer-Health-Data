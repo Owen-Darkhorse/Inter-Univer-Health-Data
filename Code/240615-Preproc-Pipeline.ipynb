{
 "cells": [
  {
   "cell_type": "markdown",
   "id": "3e814484",
   "metadata": {},
   "source": [
    "In this file, we will extract variables of interests and control variables that will be use for building the risk table of cognitive decline in different occupation subgroups."
   ]
  },
  {
   "cell_type": "code",
   "execution_count": 1,
   "id": "0dd3e680",
   "metadata": {},
   "outputs": [],
   "source": [
    "## Scientific Computing with Python\n",
    "import pyreadstat as pr\n",
    "import pandas as pd\n",
    "import numpy as np\n",
    "\n",
    "## Plotting Libraries\n",
    "import matplotlib.pyplot as plt\n",
    "import seaborn as sns\n",
    "\n",
    "## Machine Learning Libraries\n",
    "from sklearn.model_selection import train_test_split\n",
    "from sklearn.metrics import mean_squared_error, mean_absolute_error, r2_score\n",
    "from sklearn.feature_extraction.text import TfidfVectorizer\n",
    "\n",
    "## File dirtectory\n",
    "import os\n",
    "import gc"
   ]
  },
  {
   "cell_type": "markdown",
   "id": "4cc278be",
   "metadata": {},
   "source": [
    "# 1. Read the Data and Extract Columns of Interests"
   ]
  },
  {
   "cell_type": "code",
   "execution_count": 2,
   "id": "e5ddc305",
   "metadata": {},
   "outputs": [],
   "source": [
    "## Import Variables of Interest Saved in Pipleine/varList.py\n",
    "import Pipeline.varList\n",
    "varComplete = Pipeline.varList.varComplete\n",
    "varInterest = Pipeline.varList.interestVars"
   ]
  },
  {
   "cell_type": "code",
   "execution_count": 4,
   "id": "6f8b1fe4",
   "metadata": {},
   "outputs": [],
   "source": [
    "## Import Variales of Interest in every row\n",
    "from Pipeline.unPivot import *\n",
    "\n",
    "hrsFull = pr.pyreadstat.read_sas7bdat(\n",
    "    filename_path = \"../../Data/randhrs1992_2022v1.sas7bdat\",\n",
    "    usecols = varComplete,\n",
    "    metadataonly = False\n",
    ")[0]"
   ]
  },
  {
   "cell_type": "code",
   "execution_count": 5,
   "id": "4dc58420",
   "metadata": {},
   "outputs": [
    {
     "name": "stderr",
     "output_type": "stream",
     "text": [
      "c:\\Users\\86139\\Desktop\\PARA Note System\\Projects\\Inter-University Health Data\\2025-Inter-Univer-Health-Data\\Code\\Pipeline\\unPivot.py:88: SettingWithCopyWarning: \n",
      "A value is trying to be set on a copy of a slice from a DataFrame\n",
      "\n",
      "See the caveats in the documentation: https://pandas.pydata.org/pandas-docs/stable/user_guide/indexing.html#returning-a-view-versus-a-copy\n",
      "  targetDf.dropna(axis = 0, how = \"all\", inplace = True)\n"
     ]
    }
   ],
   "source": [
    "## Convert to Wide Format\n",
    "import Pipeline.unPivot as up\n",
    "\n",
    "# Convert to long Format\n",
    "fileNameAll = \"../Data/joinedHRSALL.csv\"\n",
    "fileNameWave = \"../Data/joinedHRSWAVE.csv\"\n",
    "up.unPivotSelectedVars(hrsFull, varInterest, fileNameAll, fileNameWave, idCol=\"HHIDPN\")"
   ]
  },
  {
   "cell_type": "code",
   "execution_count": 6,
   "id": "91d1f179",
   "metadata": {},
   "outputs": [
    {
     "data": {
      "text/plain": [
       "20"
      ]
     },
     "execution_count": 6,
     "metadata": {},
     "output_type": "execute_result"
    }
   ],
   "source": [
    "del hrsFull\n",
    "gc.collect()"
   ]
  },
  {
   "cell_type": "markdown",
   "id": "b227650d",
   "metadata": {},
   "source": [
    "# 2. Data Cleaning"
   ]
  },
  {
   "cell_type": "code",
   "execution_count": 1,
   "id": "81e8e5f4",
   "metadata": {},
   "outputs": [
    {
     "ename": "NameError",
     "evalue": "name 'pd' is not defined",
     "output_type": "error",
     "traceback": [
      "\u001b[31m---------------------------------------------------------------------------\u001b[39m",
      "\u001b[31mNameError\u001b[39m                                 Traceback (most recent call last)",
      "\u001b[36mCell\u001b[39m\u001b[36m \u001b[39m\u001b[32mIn[1]\u001b[39m\u001b[32m, line 7\u001b[39m\n\u001b[32m      5\u001b[39m fileNameWave = \u001b[33m\"\u001b[39m\u001b[33m../Data/joinedHRSWAVE.csv\u001b[39m\u001b[33m\"\u001b[39m\n\u001b[32m      6\u001b[39m \u001b[38;5;66;03m## Import long format data\u001b[39;00m\n\u001b[32m----> \u001b[39m\u001b[32m7\u001b[39m hrsAll = \u001b[43mpd\u001b[49m.read_csv(fileNameAll, low_memory=\u001b[38;5;28;01mFalse\u001b[39;00m)\n\u001b[32m      8\u001b[39m hrsWave = pd.read_csv(fileNameWave, low_memory=\u001b[38;5;28;01mFalse\u001b[39;00m)\n\u001b[32m      9\u001b[39m hrsCombo = hrsSet(hrsAll, hrsWave) \u001b[38;5;66;03m## Creat the hrsCombo class\u001b[39;00m\n",
      "\u001b[31mNameError\u001b[39m: name 'pd' is not defined"
     ]
    }
   ],
   "source": [
    "from Pipeline.cleanVarGroups import hrsSet\n",
    "from Pipeline.varList import *\n",
    "\n",
    "fileNameAll = \"../Data/joinedHRSALL.csv\"\n",
    "fileNameWave = \"../Data/joinedHRSWAVE.csv\"\n",
    "## Import long format data\n",
    "hrsAll = pd.read_csv(fileNameAll, low_memory=False)\n",
    "hrsWave = pd.read_csv(fileNameWave, low_memory=False)\n",
    "hrsCombo = hrsSet(hrsAll, hrsWave) ## Creat the hrsCombo class"
   ]
  },
  {
   "cell_type": "markdown",
   "id": "4d28958f",
   "metadata": {},
   "source": [
    "## 2.1 Subset Rows with non-null important columns"
   ]
  },
  {
   "cell_type": "code",
   "execution_count": 8,
   "id": "3ee1c5bb",
   "metadata": {},
   "outputs": [
    {
     "name": "stdout",
     "output_type": "stream",
     "text": [
      "(145625, 54)\n"
     ]
    },
    {
     "data": {
      "text/plain": [
       "31"
      ]
     },
     "execution_count": 8,
     "metadata": {},
     "output_type": "execute_result"
    }
   ],
   "source": [
    "## Extract rows with non-null repesonse\n",
    "hrsCombo = hrsSet(hrsAll, hrsWave)\n",
    "hrsCombo.extractNonNull(\"all\")\n",
    "print(hrsCombo.Wave.shape)\n",
    "\n",
    "gc.collect()"
   ]
  },
  {
   "cell_type": "markdown",
   "id": "b6129ba0",
   "metadata": {},
   "source": [
    "## 2.2 Combining Cluttered Columns"
   ]
  },
  {
   "cell_type": "code",
   "execution_count": 15,
   "id": "1addd36c",
   "metadata": {},
   "outputs": [
    {
     "data": {
      "text/plain": [
       "44"
      ]
     },
     "execution_count": 15,
     "metadata": {},
     "output_type": "execute_result"
    }
   ],
   "source": [
    "len(hrsCombo.Wave.columns)"
   ]
  },
  {
   "cell_type": "code",
   "execution_count": null,
   "id": "b3140cc3",
   "metadata": {},
   "outputs": [
    {
     "name": "stderr",
     "output_type": "stream",
     "text": [
      "c:\\Users\\86139\\Desktop\\PARA Note System\\Projects\\Inter-University Health Data\\2025-Inter-Univer-Health-Data\\Code\\Pipeline\\cleanVarGroups.py:112: SettingWithCopyWarning: \n",
      "A value is trying to be set on a copy of a slice from a DataFrame.\n",
      "Try using .loc[row_indexer,col_indexer] = value instead\n",
      "\n",
      "See the caveats in the documentation: https://pandas.pydata.org/pandas-docs/stable/user_guide/indexing.html#returning-a-view-versus-a-copy\n",
      "  self.Wave[newColName] = self.Wave[colList].any(axis=1)\n",
      "c:\\Users\\86139\\Desktop\\PARA Note System\\Projects\\Inter-University Health Data\\2025-Inter-Univer-Health-Data\\Code\\Pipeline\\cleanVarGroups.py:116: SettingWithCopyWarning: \n",
      "A value is trying to be set on a copy of a slice from a DataFrame\n",
      "\n",
      "See the caveats in the documentation: https://pandas.pydata.org/pandas-docs/stable/user_guide/indexing.html#returning-a-view-versus-a-copy\n",
      "  self.Wave.drop(columns = colList, inplace = True)\n",
      "c:\\Users\\86139\\Desktop\\PARA Note System\\Projects\\Inter-University Health Data\\2025-Inter-Univer-Health-Data\\Code\\Pipeline\\cleanVarGroups.py:112: SettingWithCopyWarning: \n",
      "A value is trying to be set on a copy of a slice from a DataFrame.\n",
      "Try using .loc[row_indexer,col_indexer] = value instead\n",
      "\n",
      "See the caveats in the documentation: https://pandas.pydata.org/pandas-docs/stable/user_guide/indexing.html#returning-a-view-versus-a-copy\n",
      "  self.Wave[newColName] = self.Wave[colList].any(axis=1)\n",
      "c:\\Users\\86139\\Desktop\\PARA Note System\\Projects\\Inter-University Health Data\\2025-Inter-Univer-Health-Data\\Code\\Pipeline\\cleanVarGroups.py:116: SettingWithCopyWarning: \n",
      "A value is trying to be set on a copy of a slice from a DataFrame\n",
      "\n",
      "See the caveats in the documentation: https://pandas.pydata.org/pandas-docs/stable/user_guide/indexing.html#returning-a-view-versus-a-copy\n",
      "  self.Wave.drop(columns = colList, inplace = True)\n"
     ]
    },
    {
     "ename": "KeyError",
     "evalue": "\"['RwWALKR', 'RwDRESS', 'RwBATH', 'RwEAT', 'RwBED', 'RwTOILT', 'RwMEALS', 'RwMAP', 'RwPHONE', 'RwMONEY', 'RwMEDS', 'RwSHOP'] not found in axis\"",
     "output_type": "error",
     "traceback": [
      "\u001b[31m---------------------------------------------------------------------------\u001b[39m",
      "\u001b[31mKeyError\u001b[39m                                  Traceback (most recent call last)",
      "\u001b[36mCell\u001b[39m\u001b[36m \u001b[39m\u001b[32mIn[11]\u001b[39m\u001b[32m, line 19\u001b[39m\n\u001b[32m     17\u001b[39m hrsCombo.combineColumns(\u001b[33m\"\u001b[39m\u001b[33mRwPhyLim\u001b[39m\u001b[33m\"\u001b[39m, physicalLimitVars, method = \u001b[33m\"\u001b[39m\u001b[33many\u001b[39m\u001b[33m\"\u001b[39m)\n\u001b[32m     18\u001b[39m hrsCombo.combineColumns(\u001b[33m\"\u001b[39m\u001b[33mRwCogLim\u001b[39m\u001b[33m\"\u001b[39m, cognLimitVars, method = \u001b[33m\"\u001b[39m\u001b[33many\u001b[39m\u001b[33m\"\u001b[39m)\n\u001b[32m---> \u001b[39m\u001b[32m19\u001b[39m \u001b[43mhrsCombo\u001b[49m\u001b[43m.\u001b[49m\u001b[43mWave\u001b[49m\u001b[43m.\u001b[49m\u001b[43mdrop\u001b[49m\u001b[43m(\u001b[49m\u001b[43mphysicalLimitVars\u001b[49m\u001b[43m \u001b[49m\u001b[43m+\u001b[49m\u001b[43m \u001b[49m\u001b[43mcognLimitVars\u001b[49m\u001b[43m,\u001b[49m\u001b[43m \u001b[49m\u001b[43minplace\u001b[49m\u001b[43m=\u001b[49m\u001b[38;5;28;43;01mTrue\u001b[39;49;00m\u001b[43m)\u001b[49m\n",
      "\u001b[36mFile \u001b[39m\u001b[32m~\\AppData\\Local\\Packages\\PythonSoftwareFoundation.Python.3.11_qbz5n2kfra8p0\\LocalCache\\local-packages\\Python311\\site-packages\\pandas\\core\\frame.py:5581\u001b[39m, in \u001b[36mDataFrame.drop\u001b[39m\u001b[34m(self, labels, axis, index, columns, level, inplace, errors)\u001b[39m\n\u001b[32m   5433\u001b[39m \u001b[38;5;28;01mdef\u001b[39;00m\u001b[38;5;250m \u001b[39m\u001b[34mdrop\u001b[39m(\n\u001b[32m   5434\u001b[39m     \u001b[38;5;28mself\u001b[39m,\n\u001b[32m   5435\u001b[39m     labels: IndexLabel | \u001b[38;5;28;01mNone\u001b[39;00m = \u001b[38;5;28;01mNone\u001b[39;00m,\n\u001b[32m   (...)\u001b[39m\u001b[32m   5442\u001b[39m     errors: IgnoreRaise = \u001b[33m\"\u001b[39m\u001b[33mraise\u001b[39m\u001b[33m\"\u001b[39m,\n\u001b[32m   5443\u001b[39m ) -> DataFrame | \u001b[38;5;28;01mNone\u001b[39;00m:\n\u001b[32m   5444\u001b[39m \u001b[38;5;250m    \u001b[39m\u001b[33;03m\"\"\"\u001b[39;00m\n\u001b[32m   5445\u001b[39m \u001b[33;03m    Drop specified labels from rows or columns.\u001b[39;00m\n\u001b[32m   5446\u001b[39m \n\u001b[32m   (...)\u001b[39m\u001b[32m   5579\u001b[39m \u001b[33;03m            weight  1.0     0.8\u001b[39;00m\n\u001b[32m   5580\u001b[39m \u001b[33;03m    \"\"\"\u001b[39;00m\n\u001b[32m-> \u001b[39m\u001b[32m5581\u001b[39m     \u001b[38;5;28;01mreturn\u001b[39;00m \u001b[38;5;28;43msuper\u001b[39;49m\u001b[43m(\u001b[49m\u001b[43m)\u001b[49m\u001b[43m.\u001b[49m\u001b[43mdrop\u001b[49m\u001b[43m(\u001b[49m\n\u001b[32m   5582\u001b[39m \u001b[43m        \u001b[49m\u001b[43mlabels\u001b[49m\u001b[43m=\u001b[49m\u001b[43mlabels\u001b[49m\u001b[43m,\u001b[49m\n\u001b[32m   5583\u001b[39m \u001b[43m        \u001b[49m\u001b[43maxis\u001b[49m\u001b[43m=\u001b[49m\u001b[43maxis\u001b[49m\u001b[43m,\u001b[49m\n\u001b[32m   5584\u001b[39m \u001b[43m        \u001b[49m\u001b[43mindex\u001b[49m\u001b[43m=\u001b[49m\u001b[43mindex\u001b[49m\u001b[43m,\u001b[49m\n\u001b[32m   5585\u001b[39m \u001b[43m        \u001b[49m\u001b[43mcolumns\u001b[49m\u001b[43m=\u001b[49m\u001b[43mcolumns\u001b[49m\u001b[43m,\u001b[49m\n\u001b[32m   5586\u001b[39m \u001b[43m        \u001b[49m\u001b[43mlevel\u001b[49m\u001b[43m=\u001b[49m\u001b[43mlevel\u001b[49m\u001b[43m,\u001b[49m\n\u001b[32m   5587\u001b[39m \u001b[43m        \u001b[49m\u001b[43minplace\u001b[49m\u001b[43m=\u001b[49m\u001b[43minplace\u001b[49m\u001b[43m,\u001b[49m\n\u001b[32m   5588\u001b[39m \u001b[43m        \u001b[49m\u001b[43merrors\u001b[49m\u001b[43m=\u001b[49m\u001b[43merrors\u001b[49m\u001b[43m,\u001b[49m\n\u001b[32m   5589\u001b[39m \u001b[43m    \u001b[49m\u001b[43m)\u001b[49m\n",
      "\u001b[36mFile \u001b[39m\u001b[32m~\\AppData\\Local\\Packages\\PythonSoftwareFoundation.Python.3.11_qbz5n2kfra8p0\\LocalCache\\local-packages\\Python311\\site-packages\\pandas\\core\\generic.py:4788\u001b[39m, in \u001b[36mNDFrame.drop\u001b[39m\u001b[34m(self, labels, axis, index, columns, level, inplace, errors)\u001b[39m\n\u001b[32m   4786\u001b[39m \u001b[38;5;28;01mfor\u001b[39;00m axis, labels \u001b[38;5;129;01min\u001b[39;00m axes.items():\n\u001b[32m   4787\u001b[39m     \u001b[38;5;28;01mif\u001b[39;00m labels \u001b[38;5;129;01mis\u001b[39;00m \u001b[38;5;129;01mnot\u001b[39;00m \u001b[38;5;28;01mNone\u001b[39;00m:\n\u001b[32m-> \u001b[39m\u001b[32m4788\u001b[39m         obj = \u001b[43mobj\u001b[49m\u001b[43m.\u001b[49m\u001b[43m_drop_axis\u001b[49m\u001b[43m(\u001b[49m\u001b[43mlabels\u001b[49m\u001b[43m,\u001b[49m\u001b[43m \u001b[49m\u001b[43maxis\u001b[49m\u001b[43m,\u001b[49m\u001b[43m \u001b[49m\u001b[43mlevel\u001b[49m\u001b[43m=\u001b[49m\u001b[43mlevel\u001b[49m\u001b[43m,\u001b[49m\u001b[43m \u001b[49m\u001b[43merrors\u001b[49m\u001b[43m=\u001b[49m\u001b[43merrors\u001b[49m\u001b[43m)\u001b[49m\n\u001b[32m   4790\u001b[39m \u001b[38;5;28;01mif\u001b[39;00m inplace:\n\u001b[32m   4791\u001b[39m     \u001b[38;5;28mself\u001b[39m._update_inplace(obj)\n",
      "\u001b[36mFile \u001b[39m\u001b[32m~\\AppData\\Local\\Packages\\PythonSoftwareFoundation.Python.3.11_qbz5n2kfra8p0\\LocalCache\\local-packages\\Python311\\site-packages\\pandas\\core\\generic.py:4830\u001b[39m, in \u001b[36mNDFrame._drop_axis\u001b[39m\u001b[34m(self, labels, axis, level, errors, only_slice)\u001b[39m\n\u001b[32m   4828\u001b[39m         new_axis = axis.drop(labels, level=level, errors=errors)\n\u001b[32m   4829\u001b[39m     \u001b[38;5;28;01melse\u001b[39;00m:\n\u001b[32m-> \u001b[39m\u001b[32m4830\u001b[39m         new_axis = \u001b[43maxis\u001b[49m\u001b[43m.\u001b[49m\u001b[43mdrop\u001b[49m\u001b[43m(\u001b[49m\u001b[43mlabels\u001b[49m\u001b[43m,\u001b[49m\u001b[43m \u001b[49m\u001b[43merrors\u001b[49m\u001b[43m=\u001b[49m\u001b[43merrors\u001b[49m\u001b[43m)\u001b[49m\n\u001b[32m   4831\u001b[39m     indexer = axis.get_indexer(new_axis)\n\u001b[32m   4833\u001b[39m \u001b[38;5;66;03m# Case for non-unique axis\u001b[39;00m\n\u001b[32m   4834\u001b[39m \u001b[38;5;28;01melse\u001b[39;00m:\n",
      "\u001b[36mFile \u001b[39m\u001b[32m~\\AppData\\Local\\Packages\\PythonSoftwareFoundation.Python.3.11_qbz5n2kfra8p0\\LocalCache\\local-packages\\Python311\\site-packages\\pandas\\core\\indexes\\base.py:7070\u001b[39m, in \u001b[36mIndex.drop\u001b[39m\u001b[34m(self, labels, errors)\u001b[39m\n\u001b[32m   7068\u001b[39m \u001b[38;5;28;01mif\u001b[39;00m mask.any():\n\u001b[32m   7069\u001b[39m     \u001b[38;5;28;01mif\u001b[39;00m errors != \u001b[33m\"\u001b[39m\u001b[33mignore\u001b[39m\u001b[33m\"\u001b[39m:\n\u001b[32m-> \u001b[39m\u001b[32m7070\u001b[39m         \u001b[38;5;28;01mraise\u001b[39;00m \u001b[38;5;167;01mKeyError\u001b[39;00m(\u001b[33mf\u001b[39m\u001b[33m\"\u001b[39m\u001b[38;5;132;01m{\u001b[39;00mlabels[mask].tolist()\u001b[38;5;132;01m}\u001b[39;00m\u001b[33m not found in axis\u001b[39m\u001b[33m\"\u001b[39m)\n\u001b[32m   7071\u001b[39m     indexer = indexer[~mask]\n\u001b[32m   7072\u001b[39m \u001b[38;5;28;01mreturn\u001b[39;00m \u001b[38;5;28mself\u001b[39m.delete(indexer)\n",
      "\u001b[31mKeyError\u001b[39m: \"['RwWALKR', 'RwDRESS', 'RwBATH', 'RwEAT', 'RwBED', 'RwTOILT', 'RwMEALS', 'RwMAP', 'RwPHONE', 'RwMONEY', 'RwMEDS', 'RwSHOP'] not found in axis\""
     ]
    }
   ],
   "source": [
    "## Combining functional limitation variables\n",
    "physicalLimitVars = [\n",
    "    \"RwWALKR\", # Diff-Walk across room. p878,905 [catgeorical variable]\n",
    "    \"RwDRESS\", # Diff-Dressing. p883 [catgeorical variable]\n",
    "    \"RwBATH\", # Diff-Bathing or showering. p887 [catgeorical variable]\n",
    "    \"RwEAT\", # Diff-Eating. p891 [catgeorical variable]\n",
    "    \"RwBED\", # Diff-Get in/out of bed. p895 [catgeorical variable]\n",
    "    \"RwTOILT\", #Diff-Using the toilet. p900 [catgeorical variable]\n",
    "    \"RwMEALS\"]\n",
    "\n",
    "cognLimitVars = [\n",
    "    \"RwMAP\", # Diff-Use a map. p950 [catgeorical variable]\n",
    "    \"RwPHONE\", # Diff-Use telephone(no data for wave 1 but good for wave 2 to 16) p954 [catgeorical variable]\n",
    "    \"RwMONEY\", # Diff-Managing money(no data for wave 1 but good for wave 2 to 16) p958 [catgeorical variable]\n",
    "    \"RwMEDS\", # Diff-Take medications(no data for wave 1 but good for wave 2 to 16) p961 [catgeorical variable]\n",
    "    \"RwSHOP\"]\n",
    "\n",
    "hrsCombo.combineColumns(\"RwPhyLim\", physicalLimitVars, method = \"any\")\n",
    "hrsCombo.combineColumns(\"RwCogLim\", cognLimitVars, method = \"any\")\n",
    "hrsCombo.Wave.drop(physicalLimitVars + cognLimitVars, inplace=True)"
   ]
  },
  {
   "cell_type": "code",
   "execution_count": 16,
   "id": "49ee930c",
   "metadata": {},
   "outputs": [
    {
     "data": {
      "text/html": [
       "<div>\n",
       "<style scoped>\n",
       "    .dataframe tbody tr th:only-of-type {\n",
       "        vertical-align: middle;\n",
       "    }\n",
       "\n",
       "    .dataframe tbody tr th {\n",
       "        vertical-align: top;\n",
       "    }\n",
       "\n",
       "    .dataframe thead th {\n",
       "        text-align: right;\n",
       "    }\n",
       "</style>\n",
       "<table border=\"1\" class=\"dataframe\">\n",
       "  <thead>\n",
       "    <tr style=\"text-align: right;\">\n",
       "      <th></th>\n",
       "      <th>RwPhyLim</th>\n",
       "      <th>RwCogLim</th>\n",
       "    </tr>\n",
       "  </thead>\n",
       "  <tbody>\n",
       "    <tr>\n",
       "      <th>18</th>\n",
       "      <td>False</td>\n",
       "      <td>True</td>\n",
       "    </tr>\n",
       "    <tr>\n",
       "      <th>20</th>\n",
       "      <td>False</td>\n",
       "      <td>True</td>\n",
       "    </tr>\n",
       "    <tr>\n",
       "      <th>34</th>\n",
       "      <td>False</td>\n",
       "      <td>False</td>\n",
       "    </tr>\n",
       "    <tr>\n",
       "      <th>37</th>\n",
       "      <td>False</td>\n",
       "      <td>False</td>\n",
       "    </tr>\n",
       "    <tr>\n",
       "      <th>38</th>\n",
       "      <td>False</td>\n",
       "      <td>False</td>\n",
       "    </tr>\n",
       "    <tr>\n",
       "      <th>39</th>\n",
       "      <td>False</td>\n",
       "      <td>False</td>\n",
       "    </tr>\n",
       "    <tr>\n",
       "      <th>40</th>\n",
       "      <td>False</td>\n",
       "      <td>False</td>\n",
       "    </tr>\n",
       "    <tr>\n",
       "      <th>41</th>\n",
       "      <td>False</td>\n",
       "      <td>False</td>\n",
       "    </tr>\n",
       "    <tr>\n",
       "      <th>42</th>\n",
       "      <td>True</td>\n",
       "      <td>False</td>\n",
       "    </tr>\n",
       "    <tr>\n",
       "      <th>50</th>\n",
       "      <td>False</td>\n",
       "      <td>False</td>\n",
       "    </tr>\n",
       "    <tr>\n",
       "      <th>54</th>\n",
       "      <td>False</td>\n",
       "      <td>False</td>\n",
       "    </tr>\n",
       "    <tr>\n",
       "      <th>55</th>\n",
       "      <td>False</td>\n",
       "      <td>False</td>\n",
       "    </tr>\n",
       "    <tr>\n",
       "      <th>56</th>\n",
       "      <td>False</td>\n",
       "      <td>False</td>\n",
       "    </tr>\n",
       "    <tr>\n",
       "      <th>57</th>\n",
       "      <td>True</td>\n",
       "      <td>False</td>\n",
       "    </tr>\n",
       "    <tr>\n",
       "      <th>58</th>\n",
       "      <td>False</td>\n",
       "      <td>False</td>\n",
       "    </tr>\n",
       "    <tr>\n",
       "      <th>59</th>\n",
       "      <td>True</td>\n",
       "      <td>True</td>\n",
       "    </tr>\n",
       "    <tr>\n",
       "      <th>66</th>\n",
       "      <td>False</td>\n",
       "      <td>True</td>\n",
       "    </tr>\n",
       "    <tr>\n",
       "      <th>71</th>\n",
       "      <td>False</td>\n",
       "      <td>False</td>\n",
       "    </tr>\n",
       "    <tr>\n",
       "      <th>72</th>\n",
       "      <td>False</td>\n",
       "      <td>False</td>\n",
       "    </tr>\n",
       "    <tr>\n",
       "      <th>73</th>\n",
       "      <td>False</td>\n",
       "      <td>False</td>\n",
       "    </tr>\n",
       "  </tbody>\n",
       "</table>\n",
       "</div>"
      ],
      "text/plain": [
       "    RwPhyLim  RwCogLim\n",
       "18     False      True\n",
       "20     False      True\n",
       "34     False     False\n",
       "37     False     False\n",
       "38     False     False\n",
       "39     False     False\n",
       "40     False     False\n",
       "41     False     False\n",
       "42      True     False\n",
       "50     False     False\n",
       "54     False     False\n",
       "55     False     False\n",
       "56     False     False\n",
       "57      True     False\n",
       "58     False     False\n",
       "59      True      True\n",
       "66     False      True\n",
       "71     False     False\n",
       "72     False     False\n",
       "73     False     False"
      ]
     },
     "execution_count": 16,
     "metadata": {},
     "output_type": "execute_result"
    }
   ],
   "source": [
    "hrsCombo.Wave[[\"RwPhyLim\", \"RwCogLim\"]].head(20)"
   ]
  },
  {
   "cell_type": "markdown",
   "id": "05405f99",
   "metadata": {},
   "source": [
    "## 2.3 Basic Preprocessing-----Scaling, Astype, Mapping"
   ]
  },
  {
   "cell_type": "code",
   "execution_count": null,
   "id": "eb0561c0",
   "metadata": {},
   "outputs": [
    {
     "name": "stderr",
     "output_type": "stream",
     "text": [
      "c:\\Users\\86139\\Desktop\\PARA Note System\\Projects\\Inter-University Health Data\\2025-Inter-Univer-Health-Data\\Code\\Pipeline\\cleanVarGroups.py:62: SettingWithCopyWarning: \n",
      "A value is trying to be set on a copy of a slice from a DataFrame.\n",
      "Try using .loc[row_indexer,col_indexer] = value instead\n",
      "\n",
      "See the caveats in the documentation: https://pandas.pydata.org/pandas-docs/stable/user_guide/indexing.html#returning-a-view-versus-a-copy\n",
      "  self.Wave[var] = self.Wave[var].astype(dtype)\n"
     ]
    }
   ],
   "source": [
    "# Log transform finance variables\n",
    "financeVars = financials\n",
    "hrsCombo.logFinance(financeVars)\n",
    "\n",
    "## Standardize years of age in \n",
    "ageVars = [\"RwAGEM_B\"]\n",
    "hrsCombo.standardizeAge(ageVars)\n",
    "\n",
    "# ## Recode sibling and children every born\n",
    "sibChildMapper = lambda x: 0 if x <= 3 else 1 if x <= 8 else 2 if x <= 13 else x\n",
    "hrsCombo.discretize(sibChildMapper, [\"RwLIVBRO\", \"RAEVBRN\"])\n",
    "\n",
    "# Recode work requirement variables\n",
    "workReqMapper = lambda x: 1 if x <= 2 else 0 if x <= 5 else x\n",
    "workReqList = [\"RwJPHYS\", \"RwJLIFT\",  \"RwJSTRES\", \"RwJSTOOP\", \"RwJSIGHT\"]\n",
    "hrsCombo.discretize(workReqMapper, workReqList)\n",
    "\n",
    "# Recode medical conditions\n",
    "medCondMapper = lambda x: 1 if x in [1, 3, 5] else  0 if x in [2,4,6] else x\n",
    "hrsCombo.discretize(medCondMapper, medicalConds)\n",
    "\n",
    "\n",
    "## Cast integer-valued variables to int\n",
    "intVars = [\"RwLIVBRO\", \"RAEVBRN\", \"RwAGE_B\", \"RwAGE_B2\", \"RwAGE_B3\"]\n",
    "hrsCombo.castType(intVars, \"category\")"
   ]
  },
  {
   "cell_type": "code",
   "execution_count": null,
   "id": "d74320dc",
   "metadata": {},
   "outputs": [
    {
     "data": {
      "text/plain": [
       "count     43261.0\n",
       "unique        3.0\n",
       "top           0.0\n",
       "freq      32406.0\n",
       "Name: RAEVBRN, dtype: float64"
      ]
     },
     "execution_count": 77,
     "metadata": {},
     "output_type": "execute_result"
    }
   ],
   "source": [
    "hrsCombo.All[\"RAEVBRN\"] = hrsCombo.All[\"RAEVBRN\"].map(sibChildMapper)\n",
    "hrsCombo.All[\"RAEVBRN\"] = hrsCombo.All[\"RAEVBRN\"].astype(\"category\")\n",
    "hrsCombo.All[\"RAEVBRN\"].describe()"
   ]
  },
  {
   "cell_type": "code",
   "execution_count": 78,
   "id": "83cd884f",
   "metadata": {},
   "outputs": [
    {
     "name": "stderr",
     "output_type": "stream",
     "text": [
      "c:\\Users\\86139\\Desktop\\PARA Note System\\Projects\\Inter-University Health Data\\2025-Inter-Univer-Health-Data\\Code\\Pipeline\\cleanVarGroups.py:62: SettingWithCopyWarning: \n",
      "A value is trying to be set on a copy of a slice from a DataFrame.\n",
      "Try using .loc[row_indexer,col_indexer] = value instead\n",
      "\n",
      "See the caveats in the documentation: https://pandas.pydata.org/pandas-docs/stable/user_guide/indexing.html#returning-a-view-versus-a-copy\n",
      "  self.Wave[var] = self.Wave[var].astype(dtype)\n"
     ]
    }
   ],
   "source": [
    "hrsCombo.castType([\"RwCENREG\", \"RwMSTAT\"], \"category\")"
   ]
  },
  {
   "cell_type": "code",
   "execution_count": null,
   "id": "9d533878",
   "metadata": {},
   "outputs": [
    {
     "data": {
      "text/plain": [
       "<Axes: >"
      ]
     },
     "execution_count": 10,
     "metadata": {},
     "output_type": "execute_result"
    },
    {
     "data": {
      "image/png": "[encoded data removed]",
      "text/plain": [
       "<Figure size 640x480 with 3 Axes>"
      ]
     },
     "metadata": {},
     "output_type": "display_data"
    }
   ],
   "source": [
    "# hrsWave.describe()\n",
    "## Double check if financial variables are acquired and transformed corretly\n",
    " \n",
    "\n",
    "# hrsCombo.Wave[[\"HHIDPN\", \"Wave\"] + financeVars].head(20)\n",
    "# hrsWave[[\"HHIDPN\", \"Wave\"] + financeVars].head(20)\n",
    "\n",
    "# sns.histplot(hrsWave[financeVars[0]], kde=True, bins=50)\n",
    "\n",
    "# sns.heatmap(hrsWave[ageVars][0:10000].isnull(), annot=True, cmap='coolwarm', fmt='.2f')\n",
    "# sns.heatmap(hrsCombo.Wave[ageVars][0:10000].isnull(), annot=True, cmap='coolwarm', fmt='.2f')\n",
    "\n"
   ]
  },
  {
   "cell_type": "markdown",
   "id": "46ee9dc4",
   "metadata": {},
   "source": [
    "## 2.4 Cluster job occupation codes between different census"
   ]
  },
  {
   "cell_type": "code",
   "execution_count": 20,
   "id": "47cac387",
   "metadata": {},
   "outputs": [],
   "source": [
    "class hrsSet:\n",
    "    def __init__(self, hrsAll, hrsWave):\n",
    "        '''\n",
    "        hrsAll is a DataFrame containing all variables that are not specific to any single wave.\n",
    "        hrsWave is a DataFrame containing variables that are specific to every wave.\n",
    "        '''\n",
    "        self.All = hrsAll\n",
    "        self.Wave = hrsWave\n",
    "\n",
    "    def logFinance(self, financeVars):\n",
    "        \"\"\"\n",
    "        Transform financial variables to log scale.\n",
    "        \"\"\"    \n",
    "        for var in financeVars:\n",
    "            if var in self.Wave.columns:\n",
    "                self.Wave[var] = self.Wave[var].apply(lambda x: \n",
    "                                                      np.log1p(np.add(x, 1)) \n",
    "                                                      if pd.notnull(x) else x)        \n",
    "        return None\n",
    "\n",
    "\n",
    "    def standardizeAge(self, ageVars):\n",
    "        \"\"\"\n",
    "        Standardize age variables.\n",
    "        \"\"\"\n",
    "        for var in ageVars:\n",
    "            if var in self.Wave.columns:\n",
    "                self.Wave[var] = (self.Wave[var] - 65) / 12   \n",
    "        return None\n",
    "    \n",
    "    def discretize(self, mapper, varList):\n",
    "        '''\n",
    "        Discretize continuous or discrete variables of many values into a simpler value structure.\n",
    "\n",
    "        Parameters:\n",
    "        mapper (dict): A lambda function that maps the original values to new values.\n",
    "        varList (list): A list of variable names to be discretized.\n",
    "        '''\n",
    "        for var in varList:\n",
    "            if var in self.Wave.columns:\n",
    "                self.Wave[var] = self.Wave[var].map(mapper)\n",
    "                self.Wave[var] = self.Wave[var].astype('category')\n",
    "\n",
    "\n",
    "    def castType(self, varList, dtype):\n",
    "        \"\"\"\n",
    "        Cast the type of variables in varList to the specified dtype.\n",
    "        \n",
    "        Parameters:\n",
    "        varList (list): A list of variable names to be casted.\n",
    "        dtype: The target data type to cast the variables to.\n",
    "        \"\"\"\n",
    "        for var in varList:\n",
    "            if var in self.Wave.columns:\n",
    "                self.Wave[var] = self.Wave[var].astype(dtype)\n",
    "        \n",
    "        return None\n",
    "    \n",
    "    def groupOccupations(self):\n",
    "        \"\"\"\n",
    "        Creates the new column in self.Wave called \"RwJOCCSD\", with all occupations \n",
    "        Drop the old occupation column list \"RwOCC\" if it exists.\n",
    "        Relabel occupation variables based on a mapping dictionary.\n",
    "        \n",
    "        Parameters:\n",
    "        occupationMap (dict): A dictionary mapping old occupation codes to new labels.\n",
    "        \"\"\"\n",
    "        ## Map numbers to occupation names in different census years\n",
    "        self.Wave[\"RwJCOCC\"] = self.Wave[\"RwJCOCC\"].map(occLookUp.occupation_1980)\n",
    "        self.Wave[\"RwJCOCCA\"] = self.Wave[\"RwJCOCCA\"].map(occLookUp.occupation_ahead)\n",
    "        self.Wave[\"RwJCOCCB\"] = self.Wave[\"RwJCOCCB\"].map(occLookUp.occupation_2000)\n",
    "        self.Wave[\"RwJCOCCC\"] = self.Wave[\"RwJCOCCC\"].map(occLookUp.occupation_2010)\n",
    "        \n",
    "        ## Map occupation codes to standardized groups\n",
    "        allOccs = [\"RwJCOCC\", \"RwJCOCCA\", \"RwJCOCCB\", \"RwJCOCCC\"]\n",
    "        self.Wave[allOccs] = self.Wave[allOccs].apply(\n",
    "            lambda x: x.map(occLookUp.codeToGroup),\n",
    "            axis=0\n",
    "        )\n",
    "        print(\"Occupation codes across waves are:\")\n",
    "        print(self.Wave[allOccs].head(10))\n",
    "\n",
    "        ## Take the most common occupation grouping across all waves as the final occupation\n",
    "        self.Wave[\"RwJOCCSD\"] = self.Wave[allOccs].apply(lambda x: x.mode()[0] if not x.mode().empty else np.nan, \n",
    "                                                         axis=1) \n",
    "        # print(self.Wave[\"RwJOCCSD\"].head(10))      \n",
    "        # # ## Drop the old occupation columns if they exist\n",
    "        self.Wave.drop(columns=allOccs, inplace=True)\n",
    "                \n",
    "        return None\n",
    "\n",
    "    def combineColumns(self, newColName, colList, method = \"all\", combFunc = None):\n",
    "        \"\"\"\n",
    "        Combine multiple columns into a single column by taking OR or AND operation.\n",
    "        \n",
    "        Parameters:\n",
    "        newColName (str): The name of the new column to be created.\n",
    "        colList (list): A list of column names to be combined.\n",
    "        \"\"\"\n",
    "        if (method not in [\"all\", \"any\"]) and (combFunc is None):\n",
    "            raise ValueError(\"Method is not 'all' or 'any', or combFunc is None.\")\n",
    "        elif method == \"all\":\n",
    "            self.Wave[newColName] = self.Wave[colList].all(axis=1)\n",
    "        elif method == \"any\":\n",
    "            self.Wave[newColName] = self.Wave[colList].any(axis=1)\n",
    "        else:\n",
    "            self.Wave[newColName] = self.Wave[colList].apply(combFunc, axis = 0)\n",
    "        \n",
    "        self.Wave.drop(columns = colList, inplace = True)\n",
    "        return None\n",
    "    \n",
    "    def extractNonNull(self, how):\n",
    "        \"\"\"\n",
    "        Extract individuals with non-null cognition variables, RwTR20 and ReMSTOT, or non-null cognitive impairement\n",
    "        For individyuals with part of their cognitive status null,  \n",
    "        It imputes missing values with forward fill and back fill\n",
    "        \n",
    "        Returns: none\n",
    "        Mutate: self.Wave\n",
    "        \"\"\"\n",
    "        non_null_response = (\n",
    "            self.Wave[['RwTR20', 'RwMSTOT']].notnull().all(axis=1) |\n",
    "            self.Wave[[\"RwLOST\", \"RwWANDER\", \"RwALONE\", \"RwHALUC\"]].notnull().all(axis=1)\n",
    "        )\n",
    "        self.Wave = self.Wave[non_null_response]\n",
    "        \n",
    "\n",
    "    def dealNAs(self, varList, fillValue=0):\n",
    "        \"\"\"\n",
    "        Deal with missing values in the specified variables.\n",
    "        \n",
    "        Parameters:\n",
    "        varList (list): A list of variable names to handle missing values for.\n",
    "        fillValue: The value to fill in for missing values. Default is 0.\n",
    "        \"\"\"\n",
    "        self.Wave.fillna(method='ffill', axis = 0, inplace = True)\n",
    "        self.Wave.fillna(method='bfill', axis = 0, inplace = True)\n",
    "        \n",
    "        return None\n",
    "    "
   ]
  },
  {
   "cell_type": "code",
   "execution_count": null,
   "id": "83736f5a",
   "metadata": {},
   "outputs": [],
   "source": [
    "# from Pipeline.cleanVarGroups import hrsSet\n",
    "# from Pipeline.varList import *\n",
    "\n",
    "# ## File directory\n",
    "# fileNameAll = \"../Data/joinedHRSALL.csv\"\n",
    "# fileNameWave = \"../Data/joinedHRSWAVE.csv\"\n",
    "# ## Import long format data\n",
    "# hrsAll = pd.read_csv(fileNameAll, low_memory=False)\n",
    "# hrsWave = pd.read_csv(fileNameWave, low_memory=False)"
   ]
  },
  {
   "cell_type": "code",
   "execution_count": 114,
   "id": "0482112f",
   "metadata": {},
   "outputs": [],
   "source": [
    "hrsCombo = hrsSet(hrsAll, hrsWave)\n",
    "# hrsCombo.groupOccupations()\n",
    "# hrsCombo.Wave[\"RwJOCCSD\"].describe()"
   ]
  },
  {
   "cell_type": "code",
   "execution_count": 21,
   "id": "99674cee",
   "metadata": {},
   "outputs": [
    {
     "name": "stderr",
     "output_type": "stream",
     "text": [
      "c:\\Users\\86139\\Desktop\\PARA Note System\\Projects\\Inter-University Health Data\\2025-Inter-Univer-Health-Data\\Code\\Pipeline\\cleanVarGroups.py:76: SettingWithCopyWarning: \n",
      "A value is trying to be set on a copy of a slice from a DataFrame.\n",
      "Try using .loc[row_indexer,col_indexer] = value instead\n",
      "\n",
      "See the caveats in the documentation: https://pandas.pydata.org/pandas-docs/stable/user_guide/indexing.html#returning-a-view-versus-a-copy\n",
      "  self.Wave[\"RwJCOCC\"] = self.Wave[\"RwJCOCC\"].map(occLookUp.occupation_1980)\n",
      "c:\\Users\\86139\\Desktop\\PARA Note System\\Projects\\Inter-University Health Data\\2025-Inter-Univer-Health-Data\\Code\\Pipeline\\cleanVarGroups.py:77: SettingWithCopyWarning: \n",
      "A value is trying to be set on a copy of a slice from a DataFrame.\n",
      "Try using .loc[row_indexer,col_indexer] = value instead\n",
      "\n",
      "See the caveats in the documentation: https://pandas.pydata.org/pandas-docs/stable/user_guide/indexing.html#returning-a-view-versus-a-copy\n",
      "  self.Wave[\"RwJCOCCA\"] = self.Wave[\"RwJCOCCA\"].map(occLookUp.occupation_ahead)\n",
      "c:\\Users\\86139\\Desktop\\PARA Note System\\Projects\\Inter-University Health Data\\2025-Inter-Univer-Health-Data\\Code\\Pipeline\\cleanVarGroups.py:78: SettingWithCopyWarning: \n",
      "A value is trying to be set on a copy of a slice from a DataFrame.\n",
      "Try using .loc[row_indexer,col_indexer] = value instead\n",
      "\n",
      "See the caveats in the documentation: https://pandas.pydata.org/pandas-docs/stable/user_guide/indexing.html#returning-a-view-versus-a-copy\n",
      "  self.Wave[\"RwJCOCCB\"] = self.Wave[\"RwJCOCCB\"].map(occLookUp.occupation_2000)\n",
      "c:\\Users\\86139\\Desktop\\PARA Note System\\Projects\\Inter-University Health Data\\2025-Inter-Univer-Health-Data\\Code\\Pipeline\\cleanVarGroups.py:79: SettingWithCopyWarning: \n",
      "A value is trying to be set on a copy of a slice from a DataFrame.\n",
      "Try using .loc[row_indexer,col_indexer] = value instead\n",
      "\n",
      "See the caveats in the documentation: https://pandas.pydata.org/pandas-docs/stable/user_guide/indexing.html#returning-a-view-versus-a-copy\n",
      "  self.Wave[\"RwJCOCCC\"] = self.Wave[\"RwJCOCCC\"].map(occLookUp.occupation_2010)\n",
      "c:\\Users\\86139\\Desktop\\PARA Note System\\Projects\\Inter-University Health Data\\2025-Inter-Univer-Health-Data\\Code\\Pipeline\\cleanVarGroups.py:83: SettingWithCopyWarning: \n",
      "A value is trying to be set on a copy of a slice from a DataFrame.\n",
      "Try using .loc[row_indexer,col_indexer] = value instead\n",
      "\n",
      "See the caveats in the documentation: https://pandas.pydata.org/pandas-docs/stable/user_guide/indexing.html#returning-a-view-versus-a-copy\n",
      "  self.Wave[allOccs] = self.Wave[allOccs].apply(\n"
     ]
    },
    {
     "name": "stdout",
     "output_type": "stream",
     "text": [
      "Occupation codes across waves are:\n",
      "                             RwJCOCC RwJCOCCA RwJCOCCB RwJCOCCC\n",
      "18                               NaN      NaN      NaN      NaN\n",
      "20                               NaN      NaN      NaN      NaN\n",
      "34  Skilled Trades/Production/Manual      NaN      NaN      NaN\n",
      "37  Skilled Trades/Production/Manual      NaN      NaN      NaN\n",
      "38  Skilled Trades/Production/Manual      NaN      NaN      NaN\n",
      "39                               NaN      NaN      NaN      NaN\n",
      "40                               NaN      NaN      NaN      NaN\n",
      "41                               NaN      NaN      NaN      NaN\n",
      "42                               NaN      NaN      NaN      NaN\n",
      "50                             Sales      NaN      NaN      NaN\n"
     ]
    },
    {
     "name": "stderr",
     "output_type": "stream",
     "text": [
      "c:\\Users\\86139\\Desktop\\PARA Note System\\Projects\\Inter-University Health Data\\2025-Inter-Univer-Health-Data\\Code\\Pipeline\\cleanVarGroups.py:91: SettingWithCopyWarning: \n",
      "A value is trying to be set on a copy of a slice from a DataFrame.\n",
      "Try using .loc[row_indexer,col_indexer] = value instead\n",
      "\n",
      "See the caveats in the documentation: https://pandas.pydata.org/pandas-docs/stable/user_guide/indexing.html#returning-a-view-versus-a-copy\n",
      "  self.Wave[\"RwJOCCSD\"] = self.Wave[allOccs].apply(lambda x: x.mode()[0] if not x.mode().empty else np.nan,\n",
      "c:\\Users\\86139\\Desktop\\PARA Note System\\Projects\\Inter-University Health Data\\2025-Inter-Univer-Health-Data\\Code\\Pipeline\\cleanVarGroups.py:95: SettingWithCopyWarning: \n",
      "A value is trying to be set on a copy of a slice from a DataFrame\n",
      "\n",
      "See the caveats in the documentation: https://pandas.pydata.org/pandas-docs/stable/user_guide/indexing.html#returning-a-view-versus-a-copy\n",
      "  self.Wave.drop(columns=allOccs, inplace=True)\n"
     ]
    }
   ],
   "source": [
    "# hrsCombo.Wave[\"RwJCOCCSD\"] = hrsCombo.Wave[[\"RwJCOCC\", \"RwJCOCCA\", \"RwJCOCCB\", \"RwJCOCCC\"]].apply(lambda x: x.mode()[0] if not x.mode().empty else np.nan, \n",
    "#                                                          axis=1) \n",
    "# hrsCombo.Wave[\"RwJCOCCSD\"].describe()\n",
    "hrsCombo.groupOccupations()"
   ]
  },
  {
   "cell_type": "code",
   "execution_count": 26,
   "id": "fe4bbee9",
   "metadata": {},
   "outputs": [
    {
     "name": "stdout",
     "output_type": "stream",
     "text": [
      "<class 'pandas.core.frame.DataFrame'>\n",
      "Index: 145625 entries, 18 to 723740\n",
      "Data columns (total 41 columns):\n",
      " #   Column    Non-Null Count   Dtype   \n",
      "---  ------    --------------   -----   \n",
      " 0   HHIDPN    145625 non-null  int64   \n",
      " 1   Wave      145625 non-null  int64   \n",
      " 2   RwTR20    131586 non-null  float64 \n",
      " 3   RwMSTOT   131586 non-null  float64 \n",
      " 4   RwLOST    14042 non-null   float64 \n",
      " 5   RwWANDER  14042 non-null   float64 \n",
      " 6   RwALONE   14042 non-null   float64 \n",
      " 7   RwHALUC   14042 non-null   float64 \n",
      " 8   RwWORK    145126 non-null  float64 \n",
      " 9   RwJHOURS  36596 non-null   float64 \n",
      " 10  RwWGIHR   32800 non-null   float64 \n",
      " 11  RwJPHYS   36176 non-null   category\n",
      " 12  RwJLIFT   36184 non-null   category\n",
      " 13  RwJSTRES  36615 non-null   category\n",
      " 14  RwJSTOOP  36177 non-null   category\n",
      " 15  RwJSIGHT  36467 non-null   category\n",
      " 16  RwCENREG  145543 non-null  float64 \n",
      " 17  RwMSTAT   145474 non-null  float64 \n",
      " 18  RwAGEM_B  145625 non-null  float64 \n",
      " 19  RwLIVBRO  145017 non-null  category\n",
      " 20  RwHIBP    145399 non-null  category\n",
      " 21  RwDIAB    145503 non-null  category\n",
      " 22  RwCANCR   145516 non-null  category\n",
      " 23  RwLUNG    145509 non-null  category\n",
      " 24  RwHEART   145490 non-null  category\n",
      " 25  RwSTROK   145528 non-null  category\n",
      " 26  RwPSYCH   145449 non-null  category\n",
      " 27  RwARTHR   145426 non-null  category\n",
      " 28  RwEARN    0 non-null       float64 \n",
      " 29  RwITOT    0 non-null       float64 \n",
      " 30  RwATRAN   0 non-null       float64 \n",
      " 31  RwAHOUS   0 non-null       float64 \n",
      " 32  RwACHCK   0 non-null       float64 \n",
      " 33  RwHSWRRF  0 non-null       float64 \n",
      " 34  RwVIGACT  53299 non-null   float64 \n",
      " 35  RwLTACTF  0 non-null       float64 \n",
      " 36  RwSMOKEV  144414 non-null  float64 \n",
      " 37  RwDRINK   145592 non-null  float64 \n",
      " 38  RwPhyLim  145625 non-null  bool    \n",
      " 39  RwCogLim  145625 non-null  bool    \n",
      " 40  RwJOCCSD  37395 non-null   object  \n",
      "dtypes: bool(2), category(14), float64(22), int64(2), object(1)\n",
      "memory usage: 35.1+ MB\n",
      "None\n",
      "Index(['HHIDPN', 'Wave', 'RwTR20', 'RwMSTOT', 'RwLOST', 'RwWANDER', 'RwALONE',\n",
      "       'RwHALUC', 'RwWORK', 'RwJHOURS', 'RwWGIHR', 'RwJPHYS', 'RwJLIFT',\n",
      "       'RwJSTRES', 'RwJSTOOP', 'RwJSIGHT', 'RwCENREG', 'RwMSTAT', 'RwAGEM_B',\n",
      "       'RwLIVBRO', 'RwHIBP', 'RwDIAB', 'RwCANCR', 'RwLUNG', 'RwHEART',\n",
      "       'RwSTROK', 'RwPSYCH', 'RwARTHR', 'RwEARN', 'RwITOT', 'RwATRAN',\n",
      "       'RwAHOUS', 'RwACHCK', 'RwHSWRRF', 'RwVIGACT', 'RwLTACTF', 'RwSMOKEV',\n",
      "       'RwDRINK', 'RwPhyLim', 'RwCogLim', 'RwJOCCSD'],\n",
      "      dtype='object')\n"
     ]
    }
   ],
   "source": [
    "print(hrsCombo.Wave.info())\n",
    "print(hrsCombo.Wave.columns)"
   ]
  },
  {
   "cell_type": "code",
   "execution_count": 24,
   "id": "b9682192",
   "metadata": {},
   "outputs": [
    {
     "name": "stdout",
     "output_type": "stream",
     "text": [
      "<class 'pandas.core.frame.DataFrame'>\n",
      "RangeIndex: 45234 entries, 0 to 45233\n",
      "Data columns (total 5 columns):\n",
      " #   Column    Non-Null Count  Dtype  \n",
      "---  ------    --------------  -----  \n",
      " 0   HHIDPN    45234 non-null  float64\n",
      " 1   RAGENDER  45234 non-null  float64\n",
      " 2   RARACEM   44626 non-null  float64\n",
      " 3   RAEDYRS   44585 non-null  float64\n",
      " 4   RAEVBRN   43261 non-null  float64\n",
      "dtypes: float64(5)\n",
      "memory usage: 1.7 MB\n",
      "None\n"
     ]
    }
   ],
   "source": [
    "print(hrsCombo.All.info())"
   ]
  },
  {
   "cell_type": "markdown",
   "id": "50cc8dff",
   "metadata": {},
   "source": [
    "## 2.5 Combine Cognitive Impairment"
   ]
  },
  {
   "cell_type": "code",
   "execution_count": 37,
   "id": "4898c872",
   "metadata": {},
   "outputs": [],
   "source": [
    "hrsCombo.Wave.reset_index(inplace = True)"
   ]
  },
  {
   "cell_type": "code",
   "execution_count": 57,
   "id": "685ad87d",
   "metadata": {},
   "outputs": [
    {
     "name": "stdout",
     "output_type": "stream",
     "text": [
      "<class 'pandas.core.series.Series'>\n",
      "RangeIndex: 145625 entries, 0 to 145624\n",
      "Series name: RwAnyCogImp\n",
      "Non-Null Count   Dtype\n",
      "--------------   -----\n",
      "145625 non-null  int64\n",
      "dtypes: int64(1)\n",
      "memory usage: 1.1 MB\n",
      "None\n"
     ]
    },
    {
     "name": "stderr",
     "output_type": "stream",
     "text": [
      "C:\\Users\\86139\\AppData\\Local\\Temp\\ipykernel_24824\\903573425.py:4: SettingWithCopyWarning: \n",
      "A value is trying to be set on a copy of a slice from a DataFrame.\n",
      "Try using .loc[row_indexer,col_indexer] = value instead\n",
      "\n",
      "See the caveats in the documentation: https://pandas.pydata.org/pandas-docs/stable/user_guide/indexing.html#returning-a-view-versus-a-copy\n",
      "  hrsCombo.Wave[\"RwAnyCogImp\"] = hrsCombo.Wave[cogImpCols].apply(anyCogImp, axis = 1)\n"
     ]
    }
   ],
   "source": [
    "## New Column: any cognitive impairement\n",
    "anyCogImp = lambda x: 1 if x.iloc[[0,1,3]].any() or not x.iloc[2] else 0\n",
    "cogImpCols = [\"RwLOST\", \"RwWANDER\", \"RwALONE\", \"RwHALUC\"]\n",
    "hrsCombo.Wave[\"RwAnyCogImp\"] = hrsCombo.Wave[cogImpCols].apply(anyCogImp, axis = 1)\n",
    "print(hrsCombo.Wave[\"RwAnyCogImp\"].info())"
   ]
  },
  {
   "cell_type": "markdown",
   "id": "615f4fcb",
   "metadata": {},
   "source": [
    "## 2.6 Fill in \"Retired\" Occupation for those not working"
   ]
  },
  {
   "cell_type": "code",
   "execution_count": 69,
   "id": "4263eef0",
   "metadata": {},
   "outputs": [
    {
     "name": "stderr",
     "output_type": "stream",
     "text": [
      "C:\\Users\\86139\\AppData\\Local\\Temp\\ipykernel_24824\\3074999204.py:2: SettingWithCopyWarning: \n",
      "A value is trying to be set on a copy of a slice from a DataFrame\n",
      "\n",
      "See the caveats in the documentation: https://pandas.pydata.org/pandas-docs/stable/user_guide/indexing.html#returning-a-view-versus-a-copy\n",
      "  hrsCombo.Wave[\"RwJOCCSD\"][retireIdx] = \"Retired\"\n",
      "C:\\Users\\86139\\AppData\\Local\\Temp\\ipykernel_24824\\3074999204.py:2: SettingWithCopyWarning: \n",
      "A value is trying to be set on a copy of a slice from a DataFrame\n",
      "\n",
      "See the caveats in the documentation: https://pandas.pydata.org/pandas-docs/stable/user_guide/indexing.html#returning-a-view-versus-a-copy\n",
      "  hrsCombo.Wave[\"RwJOCCSD\"][retireIdx] = \"Retired\"\n"
     ]
    },
    {
     "data": {
      "text/plain": [
       "array(['Retired', 'Skilled Trades/Production/Manual', 'Sales',\n",
       "       'Management/Clerical/Business', 'STEM/Professional/Technical',\n",
       "       'High Risk Occupations', 'Healthcare', 'Food/Personal/Service',\n",
       "       nan, 'Farming/Forestry/Fishing'], dtype=object)"
      ]
     },
     "execution_count": 69,
     "metadata": {},
     "output_type": "execute_result"
    }
   ],
   "source": [
    "retireIdx = hrsCombo.Wave[\"RwJOCCSD\"].isnull() & (hrsCombo.Wave[\"RwWORK\"] == 0)\n",
    "hrsCombo.Wave[\"RwJOCCSD\"][retireIdx] = \"Retired\"\n",
    "hrsCombo.Wave[\"RwJOCCSD\"].unique()"
   ]
  },
  {
   "cell_type": "code",
   "execution_count": 73,
   "id": "8ca1c98f",
   "metadata": {},
   "outputs": [
    {
     "name": "stdout",
     "output_type": "stream",
     "text": [
      "<class 'pandas.core.series.Series'>\n",
      "RangeIndex: 145625 entries, 0 to 145624\n",
      "Series name: RwJOCCSD\n",
      "Non-Null Count   Dtype \n",
      "--------------   ----- \n",
      "144672 non-null  object\n",
      "dtypes: object(1)\n",
      "memory usage: 1.1+ MB\n",
      "None\n"
     ]
    },
    {
     "name": "stderr",
     "output_type": "stream",
     "text": [
      "C:\\Users\\86139\\AppData\\Local\\Temp\\ipykernel_24824\\405697636.py:2: SettingWithCopyWarning: \n",
      "A value is trying to be set on a copy of a slice from a DataFrame.\n",
      "Try using .loc[row_indexer,col_indexer] = value instead\n",
      "\n",
      "See the caveats in the documentation: https://pandas.pydata.org/pandas-docs/stable/user_guide/indexing.html#returning-a-view-versus-a-copy\n",
      "  hrsCombo.Wave[\"RwJOCCSD\"] = hrsCombo.Wave[\"RwJOCCSD\"].astype(\"category\")\n"
     ]
    }
   ],
   "source": [
    "print(hrsCombo.Wave[\"RwJOCCSD\"].info())\n",
    "hrsCombo.Wave[\"RwJOCCSD\"] = hrsCombo.Wave[\"RwJOCCSD\"].astype(\"category\")"
   ]
  },
  {
   "cell_type": "markdown",
   "id": "33f2a2bd",
   "metadata": {},
   "source": [
    "## 2.7 Inspect Health Behaviours and Medical Conditions"
   ]
  },
  {
   "cell_type": "code",
   "execution_count": 83,
   "id": "ffc4df1e",
   "metadata": {},
   "outputs": [
    {
     "name": "stdout",
     "output_type": "stream",
     "text": [
      "       RwHSWRRF      RwVIGACT  RwLTACTF       RwSMOKEV        RwDRINK\n",
      "count       0.0  53299.000000       0.0  144414.000000  145592.000000\n",
      "mean        NaN      0.395204       NaN       0.566296       0.470761\n",
      "std         NaN      0.488899       NaN       0.495587       0.499146\n",
      "min         NaN      0.000000       NaN       0.000000       0.000000\n",
      "25%         NaN      0.000000       NaN       0.000000       0.000000\n",
      "50%         NaN      0.000000       NaN       1.000000       0.000000\n",
      "75%         NaN      1.000000       NaN       1.000000       1.000000\n",
      "max         NaN      1.000000       NaN       1.000000       1.000000\n"
     ]
    }
   ],
   "source": [
    "# Health behviours\n",
    "print(hrsCombo.Wave[[\"RwHSWRRF\",\n",
    "    \"RwVIGACT\",\n",
    "    \"RwLTACTF\",\n",
    "    \"RwSMOKEV\",\n",
    "    \"RwDRINK\"]].describe())"
   ]
  },
  {
   "cell_type": "code",
   "execution_count": 86,
   "id": "a5481fb0",
   "metadata": {},
   "outputs": [
    {
     "name": "stdout",
     "output_type": "stream",
     "text": [
      "(145625, 41)\n"
     ]
    },
    {
     "name": "stderr",
     "output_type": "stream",
     "text": [
      "C:\\Users\\86139\\AppData\\Local\\Temp\\ipykernel_24824\\343863387.py:2: SettingWithCopyWarning: \n",
      "A value is trying to be set on a copy of a slice from a DataFrame\n",
      "\n",
      "See the caveats in the documentation: https://pandas.pydata.org/pandas-docs/stable/user_guide/indexing.html#returning-a-view-versus-a-copy\n",
      "  hrsCombo.Wave.drop(labels = [\"RwHSWRRF\", \"RwLTACTF\"], axis = 1, inplace = True)\n"
     ]
    }
   ],
   "source": [
    "#  RwHSWRRF, RwLTACTF have no values, we will drop them out\n",
    "hrsCombo.Wave.drop(labels = [\"RwHSWRRF\", \"RwLTACTF\"], axis = 1, inplace = True)\n",
    "print(hrsCombo.Wave.shape)"
   ]
  },
  {
   "cell_type": "code",
   "execution_count": null,
   "id": "8d7165a0",
   "metadata": {},
   "outputs": [
    {
     "name": "stdout",
     "output_type": "stream",
     "text": [
      "          RwHIBP    RwDIAB   RwCANCR    RwLUNG   RwHEART   RwSTROK   RwPSYCH  \\\n",
      "count   145399.0  145503.0  145516.0  145509.0  145490.0  145528.0  145449.0   \n",
      "unique       2.0       2.0       2.0       2.0       2.0       2.0       2.0   \n",
      "top          1.0       0.0       0.0       0.0       0.0       0.0       0.0   \n",
      "freq     86230.0  114717.0  122242.0  129427.0  104435.0  133083.0  122054.0   \n",
      "\n",
      "         RwARTHR  \n",
      "count   145426.0  \n",
      "unique       2.0  \n",
      "top          1.0  \n",
      "freq     88998.0  \n"
     ]
    }
   ],
   "source": [
    "## Inspect Health Behaviours\n",
    "print(hrsCombo.Wave[['RwHIBP', 'RwDIAB', 'RwCANCR', 'RwLUNG',\n",
    "       'RwHEART', 'RwSTROK', 'RwPSYCH', 'RwARTHR']].describe())\n"
   ]
  },
  {
   "cell_type": "markdown",
   "id": "2771e848",
   "metadata": {},
   "source": [
    "I don't think there is a need to re-organize levels of the health behaviours"
   ]
  },
  {
   "cell_type": "markdown",
   "id": "e1b6aec1",
   "metadata": {},
   "source": [
    "## 2.8 Impute Missing Data"
   ]
  },
  {
   "cell_type": "code",
   "execution_count": 91,
   "id": "85100a69",
   "metadata": {},
   "outputs": [
    {
     "name": "stdout",
     "output_type": "stream",
     "text": [
      "HHIDPN         0\n",
      "RAGENDER       0\n",
      "RARACEM      608\n",
      "RAEDYRS      649\n",
      "RAEVBRN     1973\n",
      "dtype: int64\n"
     ]
    }
   ],
   "source": [
    "print(hrsCombo.All.isnull().sum())"
   ]
  },
  {
   "cell_type": "code",
   "execution_count": null,
   "id": "cf312296",
   "metadata": {},
   "outputs": [
    {
     "name": "stderr",
     "output_type": "stream",
     "text": [
      "C:\\Users\\86139\\AppData\\Local\\Packages\\PythonSoftwareFoundation.Python.3.11_qbz5n2kfra8p0\\LocalCache\\local-packages\\Python311\\site-packages\\seaborn\\_oldcore.py:1765: FutureWarning: unique with argument that is not not a Series, Index, ExtensionArray, or np.ndarray is deprecated and will raise in a future version.\n",
      "  order = pd.unique(vector)\n"
     ]
    },
    {
     "data": {
      "text/plain": [
       "(array([ 0,  1,  2,  3,  4,  5,  6,  7,  8,  9, 10, 11, 12, 13, 14, 15, 16,\n",
       "        17, 18, 19, 20, 21, 22, 23, 24, 25, 26, 27, 28, 29, 30, 31, 32, 33,\n",
       "        34, 35, 36, 37, 38, 39, 40]),\n",
       " [Text(0, 0, 'index'),\n",
       "  Text(1, 0, 'HHIDPN'),\n",
       "  Text(2, 0, 'Wave'),\n",
       "  Text(3, 0, 'RwTR20'),\n",
       "  Text(4, 0, 'RwMSTOT'),\n",
       "  Text(5, 0, 'RwLOST'),\n",
       "  Text(6, 0, 'RwWANDER'),\n",
       "  Text(7, 0, 'RwALONE'),\n",
       "  Text(8, 0, 'RwHALUC'),\n",
       "  Text(9, 0, 'RwWORK'),\n",
       "  Text(10, 0, 'RwJHOURS'),\n",
       "  Text(11, 0, 'RwWGIHR'),\n",
       "  Text(12, 0, 'RwJPHYS'),\n",
       "  Text(13, 0, 'RwJLIFT'),\n",
       "  Text(14, 0, 'RwJSTRES'),\n",
       "  Text(15, 0, 'RwJSTOOP'),\n",
       "  Text(16, 0, 'RwJSIGHT'),\n",
       "  Text(17, 0, 'RwCENREG'),\n",
       "  Text(18, 0, 'RwMSTAT'),\n",
       "  Text(19, 0, 'RwAGEM_B'),\n",
       "  Text(20, 0, 'RwLIVBRO'),\n",
       "  Text(21, 0, 'RwHIBP'),\n",
       "  Text(22, 0, 'RwDIAB'),\n",
       "  Text(23, 0, 'RwCANCR'),\n",
       "  Text(24, 0, 'RwLUNG'),\n",
       "  Text(25, 0, 'RwHEART'),\n",
       "  Text(26, 0, 'RwSTROK'),\n",
       "  Text(27, 0, 'RwPSYCH'),\n",
       "  Text(28, 0, 'RwARTHR'),\n",
       "  Text(29, 0, 'RwEARN'),\n",
       "  Text(30, 0, 'RwITOT'),\n",
       "  Text(31, 0, 'RwATRAN'),\n",
       "  Text(32, 0, 'RwAHOUS'),\n",
       "  Text(33, 0, 'RwACHCK'),\n",
       "  Text(34, 0, 'RwVIGACT'),\n",
       "  Text(35, 0, 'RwSMOKEV'),\n",
       "  Text(36, 0, 'RwDRINK'),\n",
       "  Text(37, 0, 'RwPhyLim'),\n",
       "  Text(38, 0, 'RwCogLim'),\n",
       "  Text(39, 0, 'RwJOCCSD'),\n",
       "  Text(40, 0, 'RwAnyCogImp')])"
      ]
     },
     "execution_count": 94,
     "metadata": {},
     "output_type": "execute_result"
    },
    {
     "data": {
      "image/png": "[encoded data removed]",
      "text/plain": [
       "<Figure size 1200x800 with 1 Axes>"
      ]
     },
     "metadata": {},
     "output_type": "display_data"
    }
   ],
   "source": [
    "waveMissingness = hrsCombo.Wave.isnull().sum()\n",
    "plt.figure(figsize=(12, 8))\n",
    "sns.barplot(x = waveMissingness.index.to_list(),\n",
    "            y = waveMissingness)\n",
    "plt.xticks(rotation=45)"
   ]
  },
  {
   "cell_type": "code",
   "execution_count": 98,
   "id": "8311b92c",
   "metadata": {},
   "outputs": [
    {
     "name": "stdout",
     "output_type": "stream",
     "text": [
      "<class 'pandas.core.frame.DataFrame'>\n",
      "RangeIndex: 723744 entries, 0 to 723743\n",
      "Data columns (total 5 columns):\n",
      " #   Column   Non-Null Count   Dtype  \n",
      "---  ------   --------------   -----  \n",
      " 0   RwARTHR  291608 non-null  float64\n",
      " 1   RwEARN   0 non-null       float64\n",
      " 2   RwITOT   0 non-null       float64\n",
      " 3   RwAHOUS  0 non-null       float64\n",
      " 4   RwACHCK  0 non-null       float64\n",
      "dtypes: float64(5)\n",
      "memory usage: 27.6 MB\n",
      "None\n"
     ]
    }
   ],
   "source": [
    "# Read selected columns from the CSV using pyreadstat\n",
    "selected_cols = [\"RwARTHR\", \"RwEARN\", \"RwITOT\", \"RwAHOUS\", \"RwACHCK\"]\n",
    "hrsWave_selected= pd.read_csv(\n",
    "    \"../Data/joinedHRSWAVE.csv\",\n",
    "    usecols=selected_cols\n",
    ")\n",
    "print(hrsWave_selected.info())"
   ]
  },
  {
   "cell_type": "code",
   "execution_count": 99,
   "id": "15a2e342",
   "metadata": {},
   "outputs": [
    {
     "name": "stderr",
     "output_type": "stream",
     "text": [
      "C:\\Users\\86139\\AppData\\Local\\Temp\\ipykernel_24824\\2434036932.py:5: SettingWithCopyWarning: \n",
      "A value is trying to be set on a copy of a slice from a DataFrame\n",
      "\n",
      "See the caveats in the documentation: https://pandas.pydata.org/pandas-docs/stable/user_guide/indexing.html#returning-a-view-versus-a-copy\n",
      "  hrsCombo.Wave.drop(labels = [\"RwARTHR\", \"RwEARN\", \"RwITOT\", \"RwAHOUS\",\n"
     ]
    }
   ],
   "source": [
    "## remove unwanted column\n",
    "# hrsCombo.Wave.drop(labels = [\"index\"], axis = 1, inplace = True)\n",
    "\n",
    "# Remove columns with over 90% missing data\n",
    "hrsCombo.Wave.drop(labels = [\"RwARTHR\", \"RwEARN\", \"RwITOT\", \"RwAHOUS\",\n",
    "                             \"RwACHCK\"], axis = 1, inplace = True)"
   ]
  },
  {
   "cell_type": "code",
   "execution_count": 100,
   "id": "ad8a1a11",
   "metadata": {},
   "outputs": [
    {
     "data": {
      "text/plain": [
       "3925"
      ]
     },
     "execution_count": 100,
     "metadata": {},
     "output_type": "execute_result"
    }
   ],
   "source": [
    "del hrsWave_selected\n",
    "gc.collect()"
   ]
  },
  {
   "cell_type": "code",
   "execution_count": 111,
   "id": "75dd9adc",
   "metadata": {},
   "outputs": [
    {
     "name": "stderr",
     "output_type": "stream",
     "text": [
      "C:\\Users\\86139\\AppData\\Local\\Packages\\PythonSoftwareFoundation.Python.3.11_qbz5n2kfra8p0\\LocalCache\\local-packages\\Python311\\site-packages\\seaborn\\_oldcore.py:1765: FutureWarning: unique with argument that is not not a Series, Index, ExtensionArray, or np.ndarray is deprecated and will raise in a future version.\n",
      "  order = pd.unique(vector)\n"
     ]
    },
    {
     "data": {
      "text/plain": [
       "(array([ 0,  1,  2,  3,  4,  5,  6,  7,  8,  9, 10, 11, 12, 13, 14, 15, 16,\n",
       "        17, 18, 19, 20, 21, 22, 23, 24, 25, 26, 27, 28, 29, 30, 31, 32, 33,\n",
       "        34, 35]),\n",
       " [Text(0, 0, 'index'),\n",
       "  Text(1, 0, 'HHIDPN'),\n",
       "  Text(2, 0, 'Wave'),\n",
       "  Text(3, 0, 'RwTR20'),\n",
       "  Text(4, 0, 'RwMSTOT'),\n",
       "  Text(5, 0, 'RwLOST'),\n",
       "  Text(6, 0, 'RwWANDER'),\n",
       "  Text(7, 0, 'RwALONE'),\n",
       "  Text(8, 0, 'RwHALUC'),\n",
       "  Text(9, 0, 'RwWORK'),\n",
       "  Text(10, 0, 'RwJHOURS'),\n",
       "  Text(11, 0, 'RwWGIHR'),\n",
       "  Text(12, 0, 'RwJPHYS'),\n",
       "  Text(13, 0, 'RwJLIFT'),\n",
       "  Text(14, 0, 'RwJSTRES'),\n",
       "  Text(15, 0, 'RwJSTOOP'),\n",
       "  Text(16, 0, 'RwJSIGHT'),\n",
       "  Text(17, 0, 'RwCENREG'),\n",
       "  Text(18, 0, 'RwMSTAT'),\n",
       "  Text(19, 0, 'RwAGEM_B'),\n",
       "  Text(20, 0, 'RwLIVBRO'),\n",
       "  Text(21, 0, 'RwHIBP'),\n",
       "  Text(22, 0, 'RwDIAB'),\n",
       "  Text(23, 0, 'RwCANCR'),\n",
       "  Text(24, 0, 'RwLUNG'),\n",
       "  Text(25, 0, 'RwHEART'),\n",
       "  Text(26, 0, 'RwSTROK'),\n",
       "  Text(27, 0, 'RwPSYCH'),\n",
       "  Text(28, 0, 'RwATRAN'),\n",
       "  Text(29, 0, 'RwVIGACT'),\n",
       "  Text(30, 0, 'RwSMOKEV'),\n",
       "  Text(31, 0, 'RwDRINK'),\n",
       "  Text(32, 0, 'RwPhyLim'),\n",
       "  Text(33, 0, 'RwCogLim'),\n",
       "  Text(34, 0, 'RwJOCCSD'),\n",
       "  Text(35, 0, 'RwAnyCogImp')])"
      ]
     },
     "execution_count": 111,
     "metadata": {},
     "output_type": "execute_result"
    },
    {
     "data": {
      "image/png": "[encoded data removed]",
      "text/plain": [
       "<Figure size 1200x800 with 1 Axes>"
      ]
     },
     "metadata": {},
     "output_type": "display_data"
    }
   ],
   "source": [
    "waveMissingness = hrsCombo.Wave.isnull().sum()\n",
    "plt.figure(figsize=(12, 8))\n",
    "sns.barplot(#data = waveMissingness, \n",
    "            x = waveMissingness.index.to_list(),\n",
    "            y = waveMissingness)\n",
    "plt.xticks(rotation=45)"
   ]
  },
  {
   "cell_type": "code",
   "execution_count": null,
   "id": "bd7b59db",
   "metadata": {},
   "outputs": [
    {
     "ename": "KeyError",
     "evalue": "\"['RwLOST', 'RwWANDER', 'RwALONE', 'RwHALUC'] not found in axis\"",
     "output_type": "error",
     "traceback": [
      "\u001b[31m---------------------------------------------------------------------------\u001b[39m",
      "\u001b[31mKeyError\u001b[39m                                  Traceback (most recent call last)",
      "\u001b[36mCell\u001b[39m\u001b[36m \u001b[39m\u001b[32mIn[110]\u001b[39m\u001b[32m, line 4\u001b[39m\n\u001b[32m      1\u001b[39m \u001b[38;5;66;03m# hrsCombo.Wave[['RwLOST', 'RwWANDER', 'RwHALUC']] = hrsCombo.Wave[['RwLOST', 'RwWANDER', 'RwHALUC']].fillna(0)\u001b[39;00m\n\u001b[32m      2\u001b[39m \u001b[38;5;66;03m# hrsCombo.Wave[['RwALONE']] = hrsCombo.Wave[['RwALONE']].fillna(1)\u001b[39;00m\n\u001b[32m      3\u001b[39m \u001b[38;5;66;03m# hrsCombo.Wave[['RwLOST', 'RwWANDER', 'RwALONE', 'RwHALUC']]\u001b[39;00m\n\u001b[32m----> \u001b[39m\u001b[32m4\u001b[39m \u001b[43mhrsCombo\u001b[49m\u001b[43m.\u001b[49m\u001b[43mWave\u001b[49m\u001b[43m.\u001b[49m\u001b[43mdrop\u001b[49m\u001b[43m(\u001b[49m\u001b[43mlabels\u001b[49m\u001b[43m=\u001b[49m\u001b[43m[\u001b[49m\u001b[33;43m'\u001b[39;49m\u001b[33;43mRwLOST\u001b[39;49m\u001b[33;43m'\u001b[39;49m\u001b[43m,\u001b[49m\u001b[43m \u001b[49m\u001b[33;43m'\u001b[39;49m\u001b[33;43mRwWANDER\u001b[39;49m\u001b[33;43m'\u001b[39;49m\u001b[43m,\u001b[49m\u001b[43m \u001b[49m\u001b[33;43m'\u001b[39;49m\u001b[33;43mRwALONE\u001b[39;49m\u001b[33;43m'\u001b[39;49m\u001b[43m,\u001b[49m\u001b[43m \u001b[49m\u001b[33;43m'\u001b[39;49m\u001b[33;43mRwHALUC\u001b[39;49m\u001b[33;43m'\u001b[39;49m\u001b[43m]\u001b[49m\u001b[43m,\u001b[49m\u001b[43m \u001b[49m\u001b[43minplace\u001b[49m\u001b[43m \u001b[49m\u001b[43m=\u001b[49m\u001b[43m \u001b[49m\u001b[38;5;28;43;01mTrue\u001b[39;49;00m\u001b[43m)\u001b[49m\n",
      "\u001b[36mFile \u001b[39m\u001b[32m~\\AppData\\Local\\Packages\\PythonSoftwareFoundation.Python.3.11_qbz5n2kfra8p0\\LocalCache\\local-packages\\Python311\\site-packages\\pandas\\core\\frame.py:5581\u001b[39m, in \u001b[36mDataFrame.drop\u001b[39m\u001b[34m(self, labels, axis, index, columns, level, inplace, errors)\u001b[39m\n\u001b[32m   5433\u001b[39m \u001b[38;5;28;01mdef\u001b[39;00m\u001b[38;5;250m \u001b[39m\u001b[34mdrop\u001b[39m(\n\u001b[32m   5434\u001b[39m     \u001b[38;5;28mself\u001b[39m,\n\u001b[32m   5435\u001b[39m     labels: IndexLabel | \u001b[38;5;28;01mNone\u001b[39;00m = \u001b[38;5;28;01mNone\u001b[39;00m,\n\u001b[32m   (...)\u001b[39m\u001b[32m   5442\u001b[39m     errors: IgnoreRaise = \u001b[33m\"\u001b[39m\u001b[33mraise\u001b[39m\u001b[33m\"\u001b[39m,\n\u001b[32m   5443\u001b[39m ) -> DataFrame | \u001b[38;5;28;01mNone\u001b[39;00m:\n\u001b[32m   5444\u001b[39m \u001b[38;5;250m    \u001b[39m\u001b[33;03m\"\"\"\u001b[39;00m\n\u001b[32m   5445\u001b[39m \u001b[33;03m    Drop specified labels from rows or columns.\u001b[39;00m\n\u001b[32m   5446\u001b[39m \n\u001b[32m   (...)\u001b[39m\u001b[32m   5579\u001b[39m \u001b[33;03m            weight  1.0     0.8\u001b[39;00m\n\u001b[32m   5580\u001b[39m \u001b[33;03m    \"\"\"\u001b[39;00m\n\u001b[32m-> \u001b[39m\u001b[32m5581\u001b[39m     \u001b[38;5;28;01mreturn\u001b[39;00m \u001b[38;5;28;43msuper\u001b[39;49m\u001b[43m(\u001b[49m\u001b[43m)\u001b[49m\u001b[43m.\u001b[49m\u001b[43mdrop\u001b[49m\u001b[43m(\u001b[49m\n\u001b[32m   5582\u001b[39m \u001b[43m        \u001b[49m\u001b[43mlabels\u001b[49m\u001b[43m=\u001b[49m\u001b[43mlabels\u001b[49m\u001b[43m,\u001b[49m\n\u001b[32m   5583\u001b[39m \u001b[43m        \u001b[49m\u001b[43maxis\u001b[49m\u001b[43m=\u001b[49m\u001b[43maxis\u001b[49m\u001b[43m,\u001b[49m\n\u001b[32m   5584\u001b[39m \u001b[43m        \u001b[49m\u001b[43mindex\u001b[49m\u001b[43m=\u001b[49m\u001b[43mindex\u001b[49m\u001b[43m,\u001b[49m\n\u001b[32m   5585\u001b[39m \u001b[43m        \u001b[49m\u001b[43mcolumns\u001b[49m\u001b[43m=\u001b[49m\u001b[43mcolumns\u001b[49m\u001b[43m,\u001b[49m\n\u001b[32m   5586\u001b[39m \u001b[43m        \u001b[49m\u001b[43mlevel\u001b[49m\u001b[43m=\u001b[49m\u001b[43mlevel\u001b[49m\u001b[43m,\u001b[49m\n\u001b[32m   5587\u001b[39m \u001b[43m        \u001b[49m\u001b[43minplace\u001b[49m\u001b[43m=\u001b[49m\u001b[43minplace\u001b[49m\u001b[43m,\u001b[49m\n\u001b[32m   5588\u001b[39m \u001b[43m        \u001b[49m\u001b[43merrors\u001b[49m\u001b[43m=\u001b[49m\u001b[43merrors\u001b[49m\u001b[43m,\u001b[49m\n\u001b[32m   5589\u001b[39m \u001b[43m    \u001b[49m\u001b[43m)\u001b[49m\n",
      "\u001b[36mFile \u001b[39m\u001b[32m~\\AppData\\Local\\Packages\\PythonSoftwareFoundation.Python.3.11_qbz5n2kfra8p0\\LocalCache\\local-packages\\Python311\\site-packages\\pandas\\core\\generic.py:4788\u001b[39m, in \u001b[36mNDFrame.drop\u001b[39m\u001b[34m(self, labels, axis, index, columns, level, inplace, errors)\u001b[39m\n\u001b[32m   4786\u001b[39m \u001b[38;5;28;01mfor\u001b[39;00m axis, labels \u001b[38;5;129;01min\u001b[39;00m axes.items():\n\u001b[32m   4787\u001b[39m     \u001b[38;5;28;01mif\u001b[39;00m labels \u001b[38;5;129;01mis\u001b[39;00m \u001b[38;5;129;01mnot\u001b[39;00m \u001b[38;5;28;01mNone\u001b[39;00m:\n\u001b[32m-> \u001b[39m\u001b[32m4788\u001b[39m         obj = \u001b[43mobj\u001b[49m\u001b[43m.\u001b[49m\u001b[43m_drop_axis\u001b[49m\u001b[43m(\u001b[49m\u001b[43mlabels\u001b[49m\u001b[43m,\u001b[49m\u001b[43m \u001b[49m\u001b[43maxis\u001b[49m\u001b[43m,\u001b[49m\u001b[43m \u001b[49m\u001b[43mlevel\u001b[49m\u001b[43m=\u001b[49m\u001b[43mlevel\u001b[49m\u001b[43m,\u001b[49m\u001b[43m \u001b[49m\u001b[43merrors\u001b[49m\u001b[43m=\u001b[49m\u001b[43merrors\u001b[49m\u001b[43m)\u001b[49m\n\u001b[32m   4790\u001b[39m \u001b[38;5;28;01mif\u001b[39;00m inplace:\n\u001b[32m   4791\u001b[39m     \u001b[38;5;28mself\u001b[39m._update_inplace(obj)\n",
      "\u001b[36mFile \u001b[39m\u001b[32m~\\AppData\\Local\\Packages\\PythonSoftwareFoundation.Python.3.11_qbz5n2kfra8p0\\LocalCache\\local-packages\\Python311\\site-packages\\pandas\\core\\generic.py:4830\u001b[39m, in \u001b[36mNDFrame._drop_axis\u001b[39m\u001b[34m(self, labels, axis, level, errors, only_slice)\u001b[39m\n\u001b[32m   4828\u001b[39m         new_axis = axis.drop(labels, level=level, errors=errors)\n\u001b[32m   4829\u001b[39m     \u001b[38;5;28;01melse\u001b[39;00m:\n\u001b[32m-> \u001b[39m\u001b[32m4830\u001b[39m         new_axis = \u001b[43maxis\u001b[49m\u001b[43m.\u001b[49m\u001b[43mdrop\u001b[49m\u001b[43m(\u001b[49m\u001b[43mlabels\u001b[49m\u001b[43m,\u001b[49m\u001b[43m \u001b[49m\u001b[43merrors\u001b[49m\u001b[43m=\u001b[49m\u001b[43merrors\u001b[49m\u001b[43m)\u001b[49m\n\u001b[32m   4831\u001b[39m     indexer = axis.get_indexer(new_axis)\n\u001b[32m   4833\u001b[39m \u001b[38;5;66;03m# Case for non-unique axis\u001b[39;00m\n\u001b[32m   4834\u001b[39m \u001b[38;5;28;01melse\u001b[39;00m:\n",
      "\u001b[36mFile \u001b[39m\u001b[32m~\\AppData\\Local\\Packages\\PythonSoftwareFoundation.Python.3.11_qbz5n2kfra8p0\\LocalCache\\local-packages\\Python311\\site-packages\\pandas\\core\\indexes\\base.py:7070\u001b[39m, in \u001b[36mIndex.drop\u001b[39m\u001b[34m(self, labels, errors)\u001b[39m\n\u001b[32m   7068\u001b[39m \u001b[38;5;28;01mif\u001b[39;00m mask.any():\n\u001b[32m   7069\u001b[39m     \u001b[38;5;28;01mif\u001b[39;00m errors != \u001b[33m\"\u001b[39m\u001b[33mignore\u001b[39m\u001b[33m\"\u001b[39m:\n\u001b[32m-> \u001b[39m\u001b[32m7070\u001b[39m         \u001b[38;5;28;01mraise\u001b[39;00m \u001b[38;5;167;01mKeyError\u001b[39;00m(\u001b[33mf\u001b[39m\u001b[33m\"\u001b[39m\u001b[38;5;132;01m{\u001b[39;00mlabels[mask].tolist()\u001b[38;5;132;01m}\u001b[39;00m\u001b[33m not found in axis\u001b[39m\u001b[33m\"\u001b[39m)\n\u001b[32m   7071\u001b[39m     indexer = indexer[~mask]\n\u001b[32m   7072\u001b[39m \u001b[38;5;28;01mreturn\u001b[39;00m \u001b[38;5;28mself\u001b[39m.delete(indexer)\n",
      "\u001b[31mKeyError\u001b[39m: \"['RwLOST', 'RwWANDER', 'RwALONE', 'RwHALUC'] not found in axis\""
     ]
    }
   ],
   "source": [
    "# hrsCombo.Wave[['RwLOST', 'RwWANDER', 'RwHALUC']] = hrsCombo.Wave[['RwLOST', 'RwWANDER', 'RwHALUC']].fillna(0)\n",
    "# hrsCombo.Wave[['RwALONE']] = hrsCombo.Wave[['RwALONE']].fillna(1)\n",
    "# hrsCombo.Wave[['RwLOST', 'RwWANDER', 'RwALONE', 'RwHALUC']]\n",
    "# hrsCombo.Wave.drop(labels=['RwLOST', 'RwWANDER', 'RwALONE', 'RwHALUC'], inplace = True)"
   ]
  },
  {
   "cell_type": "code",
   "execution_count": 113,
   "id": "47316406",
   "metadata": {},
   "outputs": [
    {
     "name": "stderr",
     "output_type": "stream",
     "text": [
      "C:\\Users\\86139\\AppData\\Local\\Temp\\ipykernel_24824\\1042440367.py:4: FutureWarning: DataFrame.fillna with 'method' is deprecated and will raise in a future version. Use obj.ffill() or obj.bfill() instead.\n",
      "  hrsCombo.Wave[fillCols] = hrsCombo.Wave[fillCols].fillna(method = \"bfill\")\n",
      "C:\\Users\\86139\\AppData\\Local\\Temp\\ipykernel_24824\\1042440367.py:4: SettingWithCopyWarning: \n",
      "A value is trying to be set on a copy of a slice from a DataFrame.\n",
      "Try using .loc[row_indexer,col_indexer] = value instead\n",
      "\n",
      "See the caveats in the documentation: https://pandas.pydata.org/pandas-docs/stable/user_guide/indexing.html#returning-a-view-versus-a-copy\n",
      "  hrsCombo.Wave[fillCols] = hrsCombo.Wave[fillCols].fillna(method = \"bfill\")\n",
      "C:\\Users\\86139\\AppData\\Local\\Temp\\ipykernel_24824\\1042440367.py:5: FutureWarning: DataFrame.fillna with 'method' is deprecated and will raise in a future version. Use obj.ffill() or obj.bfill() instead.\n",
      "  hrsCombo.Wave[fillCols] = hrsCombo.Wave[fillCols].fillna(method = \"ffill\")\n",
      "C:\\Users\\86139\\AppData\\Local\\Temp\\ipykernel_24824\\1042440367.py:5: SettingWithCopyWarning: \n",
      "A value is trying to be set on a copy of a slice from a DataFrame.\n",
      "Try using .loc[row_indexer,col_indexer] = value instead\n",
      "\n",
      "See the caveats in the documentation: https://pandas.pydata.org/pandas-docs/stable/user_guide/indexing.html#returning-a-view-versus-a-copy\n",
      "  hrsCombo.Wave[fillCols] = hrsCombo.Wave[fillCols].fillna(method = \"ffill\")\n"
     ]
    }
   ],
   "source": [
    "fillCols = [\"RwCENREG\", \"RwAGEM_B\", \"RwLIVBRO\", \"RwHIBP\", \"RwLUNG\", \"RwHEART\", \"RwSTROK\",\n",
    " \"RwVIGACT\", \"RwCogLim\"]\n",
    "\n",
    "hrsCombo.Wave[fillCols] = hrsCombo.Wave[fillCols].fillna(method = \"bfill\")\n",
    "hrsCombo.Wave[fillCols] = hrsCombo.Wave[fillCols].fillna(method = \"ffill\")"
   ]
  },
  {
   "cell_type": "code",
   "execution_count": 115,
   "id": "5036221f",
   "metadata": {},
   "outputs": [],
   "source": [
    "hrsCombo.Wave.to_csv(\"../Data/hrsWaveCleaned.csv\")"
   ]
  },
  {
   "cell_type": "markdown",
   "id": "12c5c4f4",
   "metadata": {},
   "source": [
    "Disregard the code below"
   ]
  },
  {
   "cell_type": "code",
   "execution_count": 60,
   "id": "8776b389",
   "metadata": {},
   "outputs": [
    {
     "name": "stdout",
     "output_type": "stream",
     "text": [
      "    Silhouette Coefficient Calinski-Harabasz Index  Davies-Bouldin Index\n",
      "2   [0.022745607152715275]    [3.0370981156364616]    [3.54104696236505]\n",
      "3    [0.03081662867670651]    [2.8252564274865346]  [3.2106343265678206]\n",
      "4   [0.039682833980139894]    [2.6847786911762226]   [3.045267651545708]\n",
      "5    [0.04801988293266492]      [2.62724817938636]    [2.60882403703404]\n",
      "6   [0.058627779431467665]     [2.428234952378288]   [2.536915238121277]\n",
      "7    [0.10452222479501164]    [2.5224072959403774]   [2.231701271979948]\n",
      "8    [0.10272051718348224]     [2.353836328012539]   [2.392626274870912]\n",
      "9    [0.12001456075116833]       [2.5157764578416]  [2.1709494616166753]\n",
      "10   [0.11120262936618508]     [2.398690131400177]   [2.277385619560347]\n",
      "11    [0.1437198597172155]     [2.360925985192082]  [2.1340424180026485]\n",
      "12    [0.1584356019505785]    [2.4684980166652664]   [2.011379531147807]\n",
      "13   [0.16002194387800786]     [2.541865876289422]   [2.046536702147852]\n",
      "14   [0.17408897397435824]    [2.4232117072191173]  [1.9976515509505604]\n",
      "15   [0.17020321107125216]    [2.4765673308559415]  [2.0659980744605515]\n",
      "16   [0.14731776746768768]    [2.4108136061698966]  [2.0826657075701682]\n",
      "17   [0.19210419623287137]    [2.4885855481837016]  [1.9435490310897943]\n",
      "18   [0.20582697344567338]    [2.5620244842806996]  [1.9343770708736021]\n",
      "19   [0.21430299609012585]     [2.559455563819774]  [1.8683554591447795]\n"
     ]
    }
   ],
   "source": [
    "# cluster the occpations using KMeans\n",
    "from sklearn.cluster import KMeans\n",
    "from sklearn import metrics\n",
    "from collections import defaultdict\n",
    "\n",
    "kList = list(range(2,20))\n",
    "scoreDf = pd.DataFrame(index=kList, columns=[\"Silhouette Coefficient\",\n",
    "                                                \"Calinski-Harabasz Index\",\n",
    "                                                \"Davies-Bouldin Index\"])\n",
    "\n",
    "for cand_k in kList:\n",
    "    kmeans = KMeans(\n",
    "        n_clusters=cand_k,\n",
    "        max_iter=100,\n",
    "        n_init=5,\n",
    "    )\n",
    "    kmeans.fit_transform(occVecDf)\n",
    "\n",
    "    # Evaluation\n",
    "    scores = defaultdict(list)\n",
    "    scores[\"Silhouette Coefficient\"].append(\n",
    "        metrics.silhouette_score(occVecDf, kmeans.labels_, sample_size=2000)\n",
    "    )\n",
    "    scores[\"Calinski-Harabasz Index\"].append(\n",
    "        metrics.calinski_harabasz_score(occVecDf.toarray(), kmeans.labels_)\n",
    "    )\n",
    "    scores[\"Davies-Bouldin Index\"].append(\n",
    "        metrics.davies_bouldin_score(occVecDf.toarray(), kmeans.labels_)\n",
    "    )\n",
    "    scoreDf.loc[cand_k] = scores\n",
    "\n",
    "print(scoreDf)\n",
    "    \n",
    "\n",
    "# kmeans = KMeans(\n",
    "#         n_clusters=5,\n",
    "#         max_iter=100,\n",
    "#         n_init=5,\n",
    "#     )\n",
    "# kmeans.fit_transform(occVecDf)\n",
    "\n",
    "# pd.DataFrame([kmeans.labels_, occupation_all_val], \n",
    "#             columns=[\"Cluster\", \"Occupation\"]).sort_values(by=\"Cluster\")\n",
    "\n"
   ]
  },
  {
   "cell_type": "markdown",
   "id": "13bf6984",
   "metadata": {},
   "source": [
    "1. Silhouette Coefficient calculates the separation of different clusters using mean intra-cluster distance (a) and the mean nearest-cluster distance (b) for each sample. The best value is 1, and the worst range is -1. The result shows that k=19 gives the best result\n",
    "2. Calinski-Harabasz Index  quantifies the separation by taking the ratio of variance between clusters to the variance within clusters. The optimal K=2 is characterized by the highest CH value\n",
    "3. Davies-Bouldin Index: the ratio of within cluster simialarity and with the most similar cluster. Lower ratio indicates better separation of classes. Optimal K is 19\n",
    "\n",
    "We will set optimal to K = 15 to balance separation of cluster and parsimoneity"
   ]
  },
  {
   "cell_type": "code",
   "execution_count": 61,
   "id": "ca6f4666",
   "metadata": {},
   "outputs": [
    {
     "name": "stdout",
     "output_type": "stream",
     "text": [
      "    Cluster                Occupation\n",
      "22        0  Operatives/kindred worke\n",
      "37        1   Healthcare Support Occs\n",
      "43        1  Office+Admin Support Occ\n",
      "60        1  Healthcare Practitioners\n",
      "61        1   Healthcare Support Occs\n",
      "2         2                     Sales\n",
      "20        2             Sales workers\n",
      "42        2              Sales Occups\n",
      "66        2        Sales+Related Occs\n",
      "19        3  Clerical/kindred workers\n",
      "46        3        Extraction Workers\n",
      "24        3               Svc workers\n",
      "8         3              Personal svc\n",
      "7         3                Health svc\n",
      "5         3            Svc:protection\n",
      "4         3   Svc:prv hhld/clean/bldg\n",
      "65        4  Personal Care+Service Oc\n",
      "56        4  Community+Social Service\n",
      "32        4  Community+Social Svcs Oc\n",
      "38        4   Protective Service Occs\n"
     ]
    }
   ],
   "source": [
    "Optimal_K = 15\n",
    "kmeans = KMeans(\n",
    "        n_clusters=Optimal_K,\n",
    "        max_iter=100,\n",
    "        n_init=5,\n",
    "    )\n",
    "kmeans.fit_transform(occVecDf)\n",
    "\n",
    "occCluster = pd.DataFrame({\"Cluster\": kmeans.labels_, \"Occupation\":occupation_all_val}).sort_values(by=\"Cluster\")\n",
    "print(occCluster.head(20))"
   ]
  },
  {
   "cell_type": "markdown",
   "id": "2ba1163c",
   "metadata": {},
   "source": [
    "# 3. Ad-Hoc Data Fixes"
   ]
  },
  {
   "cell_type": "markdown",
   "id": "5885a93a",
   "metadata": {},
   "source": [
    "## 3.1 Adding Detailed Cognitive Impairment"
   ]
  },
  {
   "cell_type": "code",
   "execution_count": null,
   "id": "b7b64a43",
   "metadata": {},
   "outputs": [
    {
     "name": "stdout",
     "output_type": "stream",
     "text": [
      "<class 'pandas.core.frame.DataFrame'>\n",
      "RangeIndex: 723744 entries, 0 to 723743\n",
      "Data columns (total 9 columns):\n",
      " #   Column    Non-Null Count  Dtype  \n",
      "---  ------    --------------  -----  \n",
      " 0   RwLOST    14400 non-null  float64\n",
      " 1   RwWANDER  14537 non-null  float64\n",
      " 2   RwHALUC   14332 non-null  float64\n",
      " 3   RwALONE   14585 non-null  float64\n",
      " 4   RwEARN    0 non-null      float64\n",
      " 5   RwITOT    0 non-null      float64\n",
      " 6   RwATRAN   0 non-null      float64\n",
      " 7   RwAHOUS   0 non-null      float64\n",
      " 8   RwACHCK   0 non-null      float64\n",
      "dtypes: float64(9)\n",
      "memory usage: 49.7 MB\n",
      "None\n"
     ]
    }
   ],
   "source": [
    "hrsWaveC = pd.read_csv(\"../Data/hrsWaveCleaned.csv\")\n",
    "hrsWaveO = pd.read_csv(\"../Data/joinedHRSWAVE.csv\")\n",
    "\n",
    "colToFix = [\n",
    "    \"RwLOST\", # cognitive impairment: getting lost\n",
    "    \"RwWANDER\", # cognitive impairment: wandering off\n",
    "    \"RwHALUC\", # halucination\n",
    "    \"RwALONE\", # cognitive impairment: left alone\n",
    "    \n",
    "    \"RwEARN\", # Individual earnings\n",
    "    \"RwITOT\", # Total household income\n",
    "    \"RwATRAN\", # Net value of viehicles\n",
    "    \"RwAHOUS\", # Net value of house\n",
    "    \"RwACHCK\", # Net value of checking accounts\n",
    "    ]\n",
    "print(hrsWaveO[colToFix].info())"
   ]
  },
  {
   "cell_type": "code",
   "execution_count": 18,
   "id": "9b96e623",
   "metadata": {},
   "outputs": [
    {
     "name": "stdout",
     "output_type": "stream",
     "text": [
      "RwLOST       3699.0\n",
      "RwWANDER     1040.0\n",
      "RwHALUC      2714.0\n",
      "RwALONE     11252.0\n",
      "RwEARN          0.0\n",
      "RwITOT          0.0\n",
      "RwATRAN         0.0\n",
      "RwAHOUS         0.0\n",
      "RwACHCK         0.0\n",
      "dtype: float64\n"
     ]
    }
   ],
   "source": [
    "print(hrsWaveO[colToFix].sum())"
   ]
  },
  {
   "cell_type": "code",
   "execution_count": null,
   "id": "a256cf62",
   "metadata": {},
   "outputs": [
    {
     "name": "stderr",
     "output_type": "stream",
     "text": [
      "C:\\Users\\86139\\AppData\\Local\\Temp\\ipykernel_31100\\1820321792.py:2: SettingWithCopyWarning: \n",
      "A value is trying to be set on a copy of a slice from a DataFrame.\n",
      "Try using .loc[row_indexer,col_indexer] = value instead\n",
      "\n",
      "See the caveats in the documentation: https://pandas.pydata.org/pandas-docs/stable/user_guide/indexing.html#returning-a-view-versus-a-copy\n",
      "  dfCogImp[\"RwALONE\"] = dfCogImp[\"RwALONE\"].map({0:1, 1:0}) ## Revert it to \"the old person cannot be left alone\"\n",
      "C:\\Users\\86139\\AppData\\Local\\Temp\\ipykernel_31100\\1820321792.py:3: SettingWithCopyWarning: \n",
      "A value is trying to be set on a copy of a slice from a DataFrame.\n",
      "Try using .loc[row_indexer,col_indexer] = value instead\n",
      "\n",
      "See the caveats in the documentation: https://pandas.pydata.org/pandas-docs/stable/user_guide/indexing.html#returning-a-view-versus-a-copy\n",
      "  dfCogImp[colToFix[0:4]] = dfCogImp[colToFix[0:4]].fillna(0)\n"
     ]
    },
    {
     "name": "stdout",
     "output_type": "stream",
     "text": [
      "<class 'pandas.core.series.Series'>\n",
      "RangeIndex: 145625 entries, 0 to 145624\n",
      "Series name: RwAnyCogImp\n",
      "Non-Null Count   Dtype\n",
      "--------------   -----\n",
      "145625 non-null  int64\n",
      "dtypes: int64(1)\n",
      "memory usage: 1.1 MB\n",
      "None\n",
      "RwLOST      3510.0\n",
      "RwWANDER     967.0\n",
      "RwHALUC     2620.0\n",
      "RwALONE     3087.0\n",
      "dtype: float64\n"
     ]
    }
   ],
   "source": [
    "dfCogImp = hrsWaveO[[\"HHIDPN\", \"Wave\"] + colToFix[0:4]]\n",
    "dfCogImp[\"RwALONE\"] = dfCogImp[\"RwALONE\"].map({0:1, 1:0}) ## Revert it to \"the old person cannot be left alone\"\n",
    "dfCogImp[colToFix[0:4]] = dfCogImp[colToFix[0:4]].fillna(0)\n",
    "\n",
    "hrsWaveC = pd.merge(hrsWaveC, dfCogImp, how = \"left\", on = [\"HHIDPN\", \"Wave\"])\n",
    "print(hrsWaveC[\"RwAnyCogImp\"].info())\n",
    "print(hrsWaveC[colToFix[0:4]].sum())"
   ]
  },
  {
   "cell_type": "code",
   "execution_count": 147,
   "id": "033518ec",
   "metadata": {},
   "outputs": [],
   "source": [
    "hrsWaveC.to_csv(\"../Data/hrsWaveCleaned.csv\")"
   ]
  },
  {
   "cell_type": "markdown",
   "id": "7c3388db",
   "metadata": {},
   "source": [
    "## 3.2 Adding Financial Variables"
   ]
  },
  {
   "cell_type": "code",
   "execution_count": 9,
   "id": "7f9f7395",
   "metadata": {},
   "outputs": [
    {
     "name": "stdout",
     "output_type": "stream",
     "text": [
      "['HHIDPN', 'H1ATOTB', 'H2ATOTB', 'H3ATOTB', 'H4ATOTB', 'H5ATOTB', 'H6ATOTB', 'H7ATOTB', 'H8ATOTB', 'H9ATOTB', 'H10ATOTB', 'H11ATOTB', 'H12ATOTB', 'H13ATOTB', 'H14ATOTB', 'H15ATOTB', 'H16ATOTB', 'H1ADEBT', 'H2ADEBT', 'H3ADEBT', 'H4ADEBT', 'H5ADEBT', 'H6ADEBT', 'H7ADEBT', 'H8ADEBT', 'H9ADEBT', 'H10ADEBT', 'H11ADEBT', 'H12ADEBT', 'H13ADEBT', 'H14ADEBT', 'H15ADEBT', 'H16ADEBT', 'H1ACHCK', 'H2ACHCK', 'H3ACHCK', 'H4ACHCK', 'H5ACHCK', 'H6ACHCK', 'H7ACHCK', 'H8ACHCK', 'H9ACHCK', 'H10ACHCK', 'H11ACHCK', 'H12ACHCK', 'H13ACHCK', 'H14ACHCK', 'H15ACHCK', 'H16ACHCK', 'H1AMRTB', 'H2AMRTB', 'H3AMRTB', 'H4AMRTB', 'H5AMRTB', 'H6AMRTB', 'H7AMRTB', 'H8AMRTB', 'H9AMRTB', 'H10AMRTB', 'H11AMRTB', 'H12AMRTB', 'H13AMRTB', 'H14AMRTB', 'H15AMRTB', 'H16AMRTB', 'H1ITOT', 'H2ITOT', 'H3ITOT', 'H4ITOT', 'H5ITOT', 'H6ITOT', 'H7ITOT', 'H8ITOT', 'H9ITOT', 'H10ITOT', 'H11ITOT', 'H12ITOT', 'H13ITOT', 'H14ITOT', 'H15ITOT', 'H16ITOT']\n"
     ]
    }
   ],
   "source": [
    "from Pipeline.unPivot import joinMetrics\n",
    "from Pipeline.varList import selectMetricforAll, hrsColumns\n",
    "\n",
    "financialVars = [\n",
    "    \"HwATOTB\", ## Total wealth\n",
    "    \"HwADEBT\", ## Debt\n",
    "    \"HwACHCK\", ## Net value of chequing account\n",
    "    \"HwAMRTB\", ## Mortage\n",
    "    \"HwITOT\" ## Total Household income,R+Sp only\n",
    "    ]\n",
    "financialWave = [\"H\\\\d+\"+s[2:] + \"$\" for s in financialVars]\n",
    "financialWave = selectMetricforAll(financialWave, hrsColumns)\n",
    "print(financialWave)\n",
    "hrsFull = pr.pyreadstat.read_sas7bdat(\n",
    "    filename_path = \"../../Data/randhrs1992_2022v1.sas7bdat\",\n",
    "    usecols = financialWave\n",
    ")[0]\n",
    "\n",
    "joinMetrics(hrsFull, financialVars, \"../Data/joinedHRSFinance.csv\")"
   ]
  },
  {
   "cell_type": "code",
   "execution_count": 10,
   "id": "a06602f5",
   "metadata": {},
   "outputs": [
    {
     "name": "stderr",
     "output_type": "stream",
     "text": [
      "C:\\Users\\86139\\AppData\\Local\\Packages\\PythonSoftwareFoundation.Python.3.11_qbz5n2kfra8p0\\LocalCache\\local-packages\\Python311\\site-packages\\pandas\\core\\internals\\blocks.py:393: RuntimeWarning: invalid value encountered in log10\n",
      "  result = func(self.values, **kwargs)\n"
     ]
    },
    {
     "data": {
      "text/html": [
       "<div>\n",
       "<style scoped>\n",
       "    .dataframe tbody tr th:only-of-type {\n",
       "        vertical-align: middle;\n",
       "    }\n",
       "\n",
       "    .dataframe tbody tr th {\n",
       "        vertical-align: top;\n",
       "    }\n",
       "\n",
       "    .dataframe thead th {\n",
       "        text-align: right;\n",
       "    }\n",
       "</style>\n",
       "<table border=\"1\" class=\"dataframe\">\n",
       "  <thead>\n",
       "    <tr style=\"text-align: right;\">\n",
       "      <th></th>\n",
       "      <th>HHIDPN</th>\n",
       "      <th>Wave</th>\n",
       "      <th>HwATOTB</th>\n",
       "      <th>HwADEBT</th>\n",
       "      <th>HwACHCK</th>\n",
       "      <th>HwAMRTB</th>\n",
       "      <th>HwITOT</th>\n",
       "    </tr>\n",
       "  </thead>\n",
       "  <tbody>\n",
       "    <tr>\n",
       "      <th>0</th>\n",
       "      <td>1010</td>\n",
       "      <td>1</td>\n",
       "      <td>3.778224</td>\n",
       "      <td>0.00000</td>\n",
       "      <td>3.699057</td>\n",
       "      <td>0.0</td>\n",
       "      <td>4.521543</td>\n",
       "    </tr>\n",
       "    <tr>\n",
       "      <th>1</th>\n",
       "      <td>1010</td>\n",
       "      <td>2</td>\n",
       "      <td>NaN</td>\n",
       "      <td>4.87874</td>\n",
       "      <td>0.000000</td>\n",
       "      <td>0.0</td>\n",
       "      <td>4.276255</td>\n",
       "    </tr>\n",
       "    <tr>\n",
       "      <th>2</th>\n",
       "      <td>1010</td>\n",
       "      <td>3</td>\n",
       "      <td>NaN</td>\n",
       "      <td>NaN</td>\n",
       "      <td>NaN</td>\n",
       "      <td>NaN</td>\n",
       "      <td>NaN</td>\n",
       "    </tr>\n",
       "    <tr>\n",
       "      <th>3</th>\n",
       "      <td>1010</td>\n",
       "      <td>4</td>\n",
       "      <td>NaN</td>\n",
       "      <td>NaN</td>\n",
       "      <td>NaN</td>\n",
       "      <td>NaN</td>\n",
       "      <td>NaN</td>\n",
       "    </tr>\n",
       "    <tr>\n",
       "      <th>4</th>\n",
       "      <td>1010</td>\n",
       "      <td>5</td>\n",
       "      <td>NaN</td>\n",
       "      <td>NaN</td>\n",
       "      <td>NaN</td>\n",
       "      <td>NaN</td>\n",
       "      <td>NaN</td>\n",
       "    </tr>\n",
       "  </tbody>\n",
       "</table>\n",
       "</div>"
      ],
      "text/plain": [
       "   HHIDPN  Wave   HwATOTB  HwADEBT   HwACHCK  HwAMRTB    HwITOT\n",
       "0    1010     1  3.778224  0.00000  3.699057      0.0  4.521543\n",
       "1    1010     2       NaN  4.87874  0.000000      0.0  4.276255\n",
       "2    1010     3       NaN      NaN       NaN      NaN       NaN\n",
       "3    1010     4       NaN      NaN       NaN      NaN       NaN\n",
       "4    1010     5       NaN      NaN       NaN      NaN       NaN"
      ]
     },
     "execution_count": 10,
     "metadata": {},
     "output_type": "execute_result"
    }
   ],
   "source": [
    "## Put earning and wealth on log scale\n",
    "hrsFinance = pd.read_csv(\"../Data/joinedHRSFinance.csv\")\n",
    "\n",
    "## Rescale to log 10\n",
    "hrsFinance[financialVars] = np.log10(hrsFinance[financialVars] + 1)\n",
    "hrsFinance.head()"
   ]
  },
  {
   "cell_type": "code",
   "execution_count": 11,
   "id": "9f1d6498",
   "metadata": {},
   "outputs": [],
   "source": [
    "## Update Wave C\n",
    "hrsWaveC = pd.read_csv(\"../Data/hrsWaveCleaned.csv\")\n",
    "hrsWaveC = pd.merge(hrsWaveC, hrsFinance, how = \"left\", on = [\"HHIDPN\", \"Wave\"])\n",
    "hrsWaveC.to_csv(\"../Data/hrsWaveCleaned.csv\")"
   ]
  },
  {
   "cell_type": "code",
   "execution_count": 14,
   "id": "a53fcf37",
   "metadata": {},
   "outputs": [
    {
     "data": {
      "text/plain": [
       "Index(['Unnamed: 0.1', 'Unnamed: 0', 'index', 'HHIDPN', 'Wave', 'RwTR20',\n",
       "       'RwMSTOT', 'RwLOST_x', 'RwWANDER_x', 'RwALONE_x', 'RwHALUC_x', 'RwWORK',\n",
       "       'RwJHOURS', 'RwWGIHR', 'RwJPHYS', 'RwJLIFT', 'RwJSTRES', 'RwJSTOOP',\n",
       "       'RwJSIGHT', 'RwCENREG', 'RwMSTAT', 'RwAGEM_B', 'RwLIVBRO', 'RwHIBP',\n",
       "       'RwDIAB', 'RwCANCR', 'RwLUNG', 'RwHEART', 'RwSTROK', 'RwPSYCH',\n",
       "       'RwATRAN', 'RwVIGACT', 'RwSMOKEV', 'RwDRINK', 'RwPhyLim', 'RwCogLim',\n",
       "       'RwJOCCSD', 'RwAnyCogImp', 'RwLOST_y', 'RwWANDER_y', 'RwHALUC_y',\n",
       "       'RwALONE_y', 'RwLOST', 'RwWANDER', 'RwHALUC', 'RwALONE', 'HwATOTB',\n",
       "       'HwADEBT', 'HwACHCK', 'HwAMRTB', 'HwITOT'],\n",
       "      dtype='object')"
      ]
     },
     "execution_count": 14,
     "metadata": {},
     "output_type": "execute_result"
    }
   ],
   "source": [
    "hrsWaveC.columns"
   ]
  },
  {
   "cell_type": "code",
   "execution_count": null,
   "id": "0384148c",
   "metadata": {},
   "outputs": [],
   "source": [
    "# hrsWaveC.drop([\"Unnamed: 0.1\", \"Unnamed: 0\", \"index\"], axis=1, inplace = True)\n",
    "# hrsWaveC.info()\n",
    "hrsWaveC.to_csv(\"../Data/hrsWaveCleaned.csv\", index = False)"
   ]
  }
 ],
 "metadata": {
  "kernelspec": {
   "display_name": "Python 3",
   "language": "python",
   "name": "python3"
  },
  "language_info": {
   "codemirror_mode": {
    "name": "ipython",
    "version": 3
   },
   "file_extension": ".py",
   "mimetype": "text/x-python",
   "name": "python",
   "nbconvert_exporter": "python",
   "pygments_lexer": "ipython3",
   "version": "3.11.9"
  }
 },
 "nbformat": 4,
 "nbformat_minor": 5
}
